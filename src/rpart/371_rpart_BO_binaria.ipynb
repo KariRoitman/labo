{
 "cells": [
  {
   "cell_type": "code",
   "execution_count": null,
   "metadata": {
    "vscode": {
     "languageId": "r"
    }
   },
   "outputs": [],
   "source": [
    "# Este script esta pensado para corren en Google Cloud\n",
    "# Una virtual machine con 16GB de RAM es suficiente\n",
    "\n",
    "# si se lo desea correr en Windows debera\n",
    "#  * cambiar el setwd()  y las rutas\n",
    "#  * cuando llame a la funcion mcmapply  poner  mc.cores=1\n",
    "\n",
    "# Optimizacion Bayesiana de hiperparametros de  rpart\n",
    "# Hace  1-Repeated  5-Fold Cross Validation\n",
    "\n",
    "\n",
    "#limpio la memoria\n",
    "rm( list=ls() )  #remove all objects\n",
    "gc()             #garbage collection\n",
    "setwd(\"C:/Users/karin/Desktop/MCD/LI1/repositorio/labo/src/rpart\")\n",
    "require(\"data.table\")\n",
    "require(\"rlist\")\n",
    "\n",
    "require(\"rpart\")\n",
    "require(\"parallel\")\n",
    "\n",
    "#paquetes necesarios para la Bayesian Optimization\n",
    "require(\"DiceKriging\")\n",
    "require(\"mlrMBO\")\n",
    "\n",
    "#aqui deben ir SUS semillas, se usan para  1-Repeated  (5-Fold Cross Validation)\n",
    "\n"
   ]
  },
  {
   "cell_type": "code",
   "execution_count": 2,
   "metadata": {
    "vscode": {
     "languageId": "r"
    }
   },
   "outputs": [],
   "source": [
    "\n",
    "#parmatros experimento\n",
    "PARAM  <- list()\n",
    "PARAM$experimento  <- 'HT3710'\n",
    "\n",
    "PARAM$dataset  <- \"./datasets/dataset_pequeno.csv\"\n",
    "PARAM$training_meses  <- c(202107)  #los meses en los que entreno, TODOS deben tener la clase completa\n",
    "PARAM$semillas  <- c(201107, 433781, 590041, 604711, 931517)    #Mas de una semilla cambia el  1-Repeated\n",
    "PARAM$crossvalidation  <- 5     #cantidad de folds del cross validation\n",
    "PARAM$BO$iteraciones  <- 150    #cantidad de iteraciones de la optimizacin bayesiana\n",
    "\n",
    "#------------------------------------------------------------------------------\n"
   ]
  },
  {
   "cell_type": "code",
   "execution_count": 3,
   "metadata": {
    "vscode": {
     "languageId": "r"
    }
   },
   "outputs": [],
   "source": [
    "\n",
    "\n",
    "hs  <- makeParamSet(\n",
    "          makeNumericParam(\"cp\"       , lower=  -1.0, upper=    0.1),\n",
    "          makeNumericParam(\"minsplit\" , lower=   1,   upper= 8000 ),\n",
    "          makeNumericParam(\"minbucket\", lower=   1,   upper= 4000 ),\n",
    "          makeIntegerParam(\"maxdepth\" , lower=   3L,  upper=   20L),  # la letra L al final significa ENTERO\n",
    "          forbidden = quote( minbucket > 0.5*minsplit ) )             # minbucket NO PUEDE ser mayor que la mitad de minsplit\n",
    "\n",
    "\n",
    "#------------------------------------------------------------------------------\n",
    "#graba a un archivo los componentes de lista\n",
    "#para el primer registro, escribe antes los titulos\n"
   ]
  },
  {
   "cell_type": "code",
   "execution_count": 4,
   "metadata": {
    "vscode": {
     "languageId": "r"
    }
   },
   "outputs": [],
   "source": [
    "\n",
    "loguear  <- function( reg, arch=NA, folder=\"./work/\", ext=\".txt\", verbose=TRUE )\n",
    "{\n",
    "  archivo  <- arch\n",
    "  if( is.na(arch) )  archivo  <- paste0( folder, substitute( reg), ext )\n",
    "\n",
    "  if( !file.exists( archivo ) )  #Escribo los titulos\n",
    "  {\n",
    "    linea  <- paste0( \"fecha\\t\", \n",
    "                      paste( list.names(reg), collapse=\"\\t\" ), \"\\n\" )\n",
    "\n",
    "    cat( linea, file=archivo )\n",
    "  }\n",
    "\n",
    "  linea  <- paste0( format(Sys.time(), \"%Y%m%d %H%M%S\"),  \"\\t\",     #la fecha y hora\n",
    "                    gsub( \", \", \"\\t\", toString( reg ) ),  \"\\n\" )\n",
    "\n",
    "  cat( linea, file=archivo, append=TRUE )  #grabo al archivo\n",
    "\n",
    "  if( verbose )  cat( linea )   #imprimo por pantalla\n",
    "}\n",
    "#------------------------------------------------------------------------------\n"
   ]
  },
  {
   "cell_type": "code",
   "execution_count": null,
   "metadata": {
    "vscode": {
     "languageId": "r"
    }
   },
   "outputs": [],
   "source": [
    "#particionar agrega una columna llamada fold a un dataset que consiste en una particion estratificada segun agrupa\n",
    "# particionar( data=dataset, division=c(70,30), agrupa=clase_ternaria, seed=semilla)   crea una particion 70, 30 \n",
    "# particionar( data=dataset, division=c(1,1,1,1,1), agrupa=clase_ternaria, seed=semilla)   divide el dataset en 5 particiones\n",
    "\n",
    "particionar  <- function( data, division, agrupa=\"\", campo=\"fold\", start=1, seed=NA )\n",
    "{\n",
    "  if( !is.na( seed)  )   set.seed( seed )\n",
    "\n",
    "  bloque  <- unlist( mapply(  function(x,y) { rep( y, x ) }, division, seq( from=start, length.out=length(division) )  ) )\n",
    "\n",
    "  data[ , (campo) :=  sample( rep( bloque, ceiling(.N/length(bloque))) )[1:.N],\n",
    "           by= agrupa ]\n",
    "}\n"
   ]
  },
  {
   "cell_type": "code",
   "execution_count": null,
   "metadata": {
    "vscode": {
     "languageId": "r"
    }
   },
   "outputs": [],
   "source": [
    "#------------------------------------------------------------------------------\n",
    "#fold_test  tiene el numero de fold que voy a usar para testear, entreno en el resto de los folds\n",
    "#param tiene los hiperparametros del arbol\n",
    "\n",
    "ArbolSimple  <- function( fold_test, data, param )\n",
    "{\n",
    "  param2 <- param\n",
    "  #param2$minsplit   <- as.integer( round( 2^param$minsplit ) )\n",
    "  #param2$minbucket  <- as.integer( round( 2^param$minbucket ) )\n",
    "    #genero el modelo\n",
    "  #es VITAL que el campo clase_ternaria NO sea visto por el rpart\n",
    "  modelo  <- rpart(\"clase_binaria ~ . -clase_ternaria\",\n",
    "                   data= data[ fold != fold_test, ],  #entreno en todo MENOS el fold_test que uso para testing\n",
    "                   xval= 0,\n",
    "                   control= param2 )\n",
    "\n",
    "  #aplico el modelo a los datos de testing\n",
    "  prediccion  <- predict( modelo, \n",
    "                          data[ fold==fold_test, ],  #aplico el modelo sobre los datos de testing\n",
    "                          type= \"prob\")   #quiero que me devuelva probabilidades\n",
    "\n",
    "  #En el 1er cuatrimestre del Tercer Año de la Maestria se explicaran las siguientes 12 lineas\n",
    "  dtest <- copy( data[ fold==fold_test , list( clase_ternaria )] )\n",
    "  dtest[ , pred := prediccion[ ,\"SI\"] ]\n",
    "  ganancia_testing  <-  dtest[ pred > 1/40,  sum(ifelse( clase_ternaria==\"BAJA+2\", 117000, -3000 )) ]\n",
    "  \n",
    "  rm( dtest )\n",
    "\n",
    "  return( ganancia_testing )  #esta es la ganancia sobre el fold de testing, NO esta normalizada\n",
    "}\n"
   ]
  },
  {
   "cell_type": "code",
   "execution_count": null,
   "metadata": {
    "vscode": {
     "languageId": "r"
    }
   },
   "outputs": [],
   "source": [
    "#------------------------------------------------------------------------------\n",
    "\n",
    "ArbolesCrossValidation  <- function( semilla, data, param, qfolds, pagrupa )\n",
    "{\n",
    "  divi  <- rep( 1, qfolds )  # generalmente  c(1, 1, 1, 1, 1 )  cinco unos\n",
    "\n",
    "  particionar( data, divi, seed=semilla, agrupa=pagrupa )  #particiono en dataset en folds\n",
    "\n",
    "  ganancias  <- mcmapply( ArbolSimple, \n",
    "                          seq(qfolds), # 1 2 3 4 5\n",
    "                          MoreArgs= list( data, param), \n",
    "                          SIMPLIFY= FALSE,\n",
    "                          mc.cores= 5 )   #debe ir 1 si es Windows\n",
    "\n",
    "  data[ , fold := NULL ]\n",
    "\n",
    "  #devuelvo la primer ganancia y el promedio\n",
    "  ganancia_promedio  <- mean( unlist( ganancias ) )   #promedio las ganancias\n",
    "  ganancia_promedio_normalizada  <- ganancia_promedio * qfolds  #aqui normalizo la ganancia\n",
    "\n",
    "  gc()\n",
    "\n",
    "  return( ganancia_promedio_normalizada )\n",
    "}\n",
    "#------------------------------------------------------------------------------\n",
    "#esta funcion solo puede recibir los parametros que se estan optimizando\n",
    "#el resto de los parametros, lamentablemente se pasan como variables globales\n",
    "\n",
    "\n"
   ]
  },
  {
   "cell_type": "code",
   "execution_count": null,
   "metadata": {
    "vscode": {
     "languageId": "r"
    }
   },
   "outputs": [],
   "source": [
    "\n",
    "EstimarGanancia  <- function( x )\n",
    "{\n",
    "   GLOBAL_iteracion  <<- GLOBAL_iteracion + 1\n",
    "\n",
    "   xval_folds  <- PARAM$crossvalidation\n",
    "   vganancias <- mcmapply( ArbolesCrossValidation,\n",
    "                           PARAM$semillas,  \n",
    "                           MoreArgs= list ( dtrain, param=x, qfolds= xval_folds, pagrupa= \"clase_ternaria\" ),\n",
    "                           SIMPLIFY= FALSE,\n",
    "                           mc.cores = PARAM$crossvalidation )  #debe ir 1 si es Windows\n",
    "\n",
    "   ganancia_promedio  <- mean( unlist( vganancias ) )\n",
    "\n",
    "   #logueo \n",
    "   xx  <- x\n",
    "   xx$xval_folds  <-  xval_folds\n",
    "   xx$ganancia  <- ganancia_promedio\n",
    "   xx$iteracion <- GLOBAL_iteracion\n",
    "   loguear( xx,  arch= archivo_log )\n",
    "\n",
    "   return( xx$ganancia )\n",
    "}\n",
    "#------------------------------------------------------------------------------\n",
    "#Aqui empieza el programa\n"
   ]
  },
  {
   "cell_type": "code",
   "execution_count": null,
   "metadata": {
    "vscode": {
     "languageId": "r"
    }
   },
   "outputs": [],
   "source": [
    "\n",
    "setwd(\"C:/Users/karin/Desktop/MCD/LI1/repositorio/labo/src/rpart\" )\n",
    "\n",
    "#cargo el dataset, aqui debe poner  SU RUTA\n",
    "dataset  <- fread( PARAM$dataset )   #donde entreno\n",
    "\n",
    "#creo la clase_binaria  SI= {BAJA+1, BAJA+2}  NO={CONTINUA}\n",
    "dataset[ foto_mes %in% PARAM$training_meses, clase_binaria :=  ifelse( clase_ternaria==\"CONTINUA\", \"NO\", \"SI\" ) ]\n",
    "\n",
    "#defino los datos donde entreno\n",
    "dtrain  <- dataset[ foto_mes %in% PARAM$training_meses, ]\n",
    "\n"
   ]
  },
  {
   "cell_type": "code",
   "execution_count": null,
   "metadata": {
    "vscode": {
     "languageId": "r"
    }
   },
   "outputs": [],
   "source": [
    "\n",
    "#creo la carpeta donde va el experimento\n",
    "dir.create( \"./exp/\", showWarnings = FALSE  )\n",
    "carpeta_experimento  <-  paste0( \"./exp/\", PARAM$experimento, \"/\")\n",
    "dir.create( paste0( \"./exp/\", PARAM$experimento, \"/\"), \n",
    "            showWarnings = FALSE )\n",
    "\n",
    "setwd( carpeta_experimento )\n",
    "#defino los archivos donde guardo los resultados de la Bayesian Optimization\n",
    "archivo_log  <- paste0( PARAM$experimento, \".txt\" )\n",
    "archivo_BO   <- paste0( PARAM$experimento, \".RDATA\" )\n",
    "\n",
    "#leo si ya existe el log, para retomar en caso que se se corte el programa\n",
    "GLOBAL_iteracion  <- 0\n",
    "\n",
    "if( file.exists(archivo_log) )\n",
    "{\n",
    " tabla_log  <- fread( archivo_log )\n",
    " GLOBAL_iteracion  <- nrow( tabla_log )\n",
    "}\n",
    "\n"
   ]
  },
  {
   "cell_type": "code",
   "execution_count": null,
   "metadata": {
    "vscode": {
     "languageId": "r"
    }
   },
   "outputs": [],
   "source": [
    "\n",
    "\n",
    "#Aqui comienza la configuracion de la Bayesian Optimization\n",
    "\n",
    "funcion_optimizar  <- EstimarGanancia\n",
    "\n",
    "configureMlr( show.learner.output= FALSE)\n",
    "\n",
    "#configuro la busqueda bayesiana,  los hiperparametros que se van a optimizar\n",
    "#por favor, no desesperarse por lo complejo\n",
    "obj.fun  <- makeSingleObjectiveFunction(\n",
    "              fn=       funcion_optimizar,\n",
    "              minimize= FALSE,   #estoy Maximizando la ganancia\n",
    "              noisy=    TRUE,\n",
    "              par.set=  hs,\n",
    "              has.simple.signature = FALSE   #espia Tomas Delvechio, dejar este parametro asi\n",
    "             )\n",
    "\n",
    "ctrl  <- makeMBOControl( save.on.disk.at.time= 600,  save.file.path= archivo_BO)\n",
    "ctrl  <- setMBOControlTermination(ctrl, iters= PARAM$BO$iteraciones )\n",
    "ctrl  <- setMBOControlInfill(ctrl, crit= makeMBOInfillCritEI())\n",
    "\n",
    "surr.km  <- makeLearner(\"regr.km\", predict.type= \"se\", covtype= \"matern3_2\", control= list(trace= TRUE))\n",
    "\n",
    "#inicio la optimizacion bayesiana\n",
    "if( !file.exists( archivo_BO ) ) {\n",
    "\n",
    "  run  <- mbo( fun=     obj.fun, \n",
    "               learner= surr.km,\n",
    "               control= ctrl)\n",
    "\n",
    "} else  run  <- mboContinue( archivo_BO )   #retomo en caso que ya exista\n"
   ]
  }
 ],
 "metadata": {
  "kernelspec": {
   "display_name": "R",
   "language": "R",
   "name": "ir"
  },
  "language_info": {
   "codemirror_mode": "r",
   "file_extension": ".r",
   "mimetype": "text/x-r-source",
   "name": "R",
   "pygments_lexer": "r",
   "version": "4.2.3"
  },
  "orig_nbformat": 4
 },
 "nbformat": 4,
 "nbformat_minor": 2
}

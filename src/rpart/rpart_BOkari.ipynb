{
 "cells": [
  {
   "cell_type": "code",
   "execution_count": 6,
   "metadata": {
    "vscode": {
     "languageId": "r"
    }
   },
   "outputs": [
    {
     "data": {
      "text/html": [
       "<table class=\"dataframe\">\n",
       "<caption>A matrix: 2 × 6 of type dbl</caption>\n",
       "<thead>\n",
       "\t<tr><th></th><th scope=col>used</th><th scope=col>(Mb)</th><th scope=col>gc trigger</th><th scope=col>(Mb)</th><th scope=col>max used</th><th scope=col>(Mb)</th></tr>\n",
       "</thead>\n",
       "<tbody>\n",
       "\t<tr><th scope=row>Ncells</th><td>2360816</td><td>126.1</td><td> 4351382</td><td>232.4</td><td>  4326417</td><td>231.1</td></tr>\n",
       "\t<tr><th scope=row>Vcells</th><td>4102417</td><td> 31.3</td><td>95115926</td><td>725.7</td><td>123760509</td><td>944.3</td></tr>\n",
       "</tbody>\n",
       "</table>\n"
      ],
      "text/latex": [
       "A matrix: 2 × 6 of type dbl\n",
       "\\begin{tabular}{r|llllll}\n",
       "  & used & (Mb) & gc trigger & (Mb) & max used & (Mb)\\\\\n",
       "\\hline\n",
       "\tNcells & 2360816 & 126.1 &  4351382 & 232.4 &   4326417 & 231.1\\\\\n",
       "\tVcells & 4102417 &  31.3 & 95115926 & 725.7 & 123760509 & 944.3\\\\\n",
       "\\end{tabular}\n"
      ],
      "text/markdown": [
       "\n",
       "A matrix: 2 × 6 of type dbl\n",
       "\n",
       "| <!--/--> | used | (Mb) | gc trigger | (Mb) | max used | (Mb) |\n",
       "|---|---|---|---|---|---|---|\n",
       "| Ncells | 2360816 | 126.1 |  4351382 | 232.4 |   4326417 | 231.1 |\n",
       "| Vcells | 4102417 |  31.3 | 95115926 | 725.7 | 123760509 | 944.3 |\n",
       "\n"
      ],
      "text/plain": [
       "       used    (Mb)  gc trigger (Mb)  max used  (Mb) \n",
       "Ncells 2360816 126.1  4351382   232.4   4326417 231.1\n",
       "Vcells 4102417  31.3 95115926   725.7 123760509 944.3"
      ]
     },
     "metadata": {},
     "output_type": "display_data"
    },
    {
     "name": "stderr",
     "output_type": "stream",
     "text": [
      "Loading required package: rlist\n",
      "\n"
     ]
    }
   ],
   "source": [
    "#Optimizacion Bayesiana de hiperparametros de  rpart\n",
    "\n",
    "#limpio la memoria\n",
    "rm( list=ls() )  #remove all objects\n",
    "gc()             #garbage collection\n",
    "\n",
    "require(\"data.table\")\n",
    "require(\"rlist\")\n",
    "\n",
    "require(\"rpart\")\n",
    "require(\"parallel\")\n",
    "\n",
    "#paquetes necesarios para la Bayesian Optimization\n",
    "require(\"DiceKriging\")\n",
    "require(\"mlrMBO\")\n"
   ]
  },
  {
   "cell_type": "code",
   "execution_count": 7,
   "metadata": {
    "vscode": {
     "languageId": "r"
    }
   },
   "outputs": [],
   "source": [
    "\n",
    "\n",
    "#Defino la  Optimizacion Bayesiana\n",
    "\n",
    "kBO_iter  <- 100   #cantidad de iteraciones de la Optimizacion Bayesiana\n",
    "\n",
    "hs  <- makeParamSet(\n",
    "          makeNumericParam(\"cp\"       , lower= -1   , upper=    0.1),\n",
    "          makeIntegerParam(\"minsplit\" , lower=  1L  , upper= 8000L),  #la letra L al final significa ENTERO\n",
    "          makeIntegerParam(\"minbucket\", lower=  1L  , upper= 4000L),\n",
    "          makeIntegerParam(\"maxdepth\" , lower=  3L  , upper=   20L),\n",
    "          forbidden = quote( minbucket > 0.5*minsplit ) )             # minbuket NO PUEDE ser mayor que la mitad de minsplit\n",
    "\n",
    "ksemilla_azar  <- 201107   #cambiar por la primer semilla\n"
   ]
  },
  {
   "cell_type": "code",
   "execution_count": 8,
   "metadata": {
    "vscode": {
     "languageId": "r"
    }
   },
   "outputs": [],
   "source": [
    "\n",
    "#------------------------------------------------------------------------------\n",
    "#graba a un archivo los componentes de lista\n",
    "#para el primer registro, escribe antes los titulos\n",
    "\n",
    "loguear  <- function( reg, arch=NA, folder=\"./work/\", ext=\".txt\", verbose=TRUE )\n",
    "{\n",
    "  archivo  <- arch\n",
    "  if( is.na(arch) )  archivo  <- paste0( folder, substitute( reg), ext )\n",
    "\n",
    "  if( !file.exists( archivo ) )  #Escribo los titulos\n",
    "  {\n",
    "    linea  <- paste0( \"fecha\\t\", \n",
    "                      paste( list.names(reg), collapse=\"\\t\" ), \"\\n\" )\n",
    "\n",
    "    cat( linea, file=archivo )\n",
    "  }\n",
    "\n",
    "  linea  <- paste0( format(Sys.time(), \"%Y%m%d %H%M%S\"),  \"\\t\",     #la fecha y hora\n",
    "                    gsub( \", \", \"\\t\", toString( reg ) ),  \"\\n\" )\n",
    "\n",
    "  cat( linea, file=archivo, append=TRUE )  #grabo al archivo\n",
    "\n",
    "  if( verbose )  cat( linea )   #imprimo por pantalla\n",
    "}\n",
    "#------------------------------------------------------------------------------\n",
    "#particionar agrega una columna llamada fold a un dataset que consiste en una particion estratificada segun agrupa\n",
    "# particionar( data=dataset, division=c(70,30), agrupa=clase_ternaria, seed=semilla)   crea una particion 70, 30 \n",
    "# particionar( data=dataset, division=c(1,1,1,1,1), agrupa=clase_ternaria, seed=semilla)   divide el dataset en 5 particiones\n",
    "\n",
    "particionar  <- function( data, division, agrupa=\"\", campo=\"fold\", start=1, seed=NA )\n",
    "{\n",
    "  if( !is.na( seed)  )   set.seed( seed )\n",
    "\n",
    "  bloque  <- unlist( mapply(  function(x,y) { rep( y, x ) }, division, seq( from=start, length.out=length(division) )  ) )\n",
    "\n",
    "  data[ , (campo) :=  sample( rep( bloque, ceiling(.N/length(bloque))) )[1:.N],\n",
    "           by= agrupa ]\n",
    "}\n",
    "#------------------------------------------------------------------------------\n",
    "#fold_test  tiene el numero de fold que voy a usar para testear, entreno en el resto de los folds\n",
    "#param tiene los hiperparametros del arbol\n",
    "\n",
    "ArbolSimple  <- function( fold_test, data, param )\n",
    "{\n",
    "  #genero el modelo\n",
    "  modelo  <- rpart(\"clase_ternaria ~ .\", \n",
    "                   data= data[ fold != fold_test, ],  #entreno en todo MENOS el fold_test que uso para testing\n",
    "                   xval= 0,\n",
    "                   control= param )\n",
    "\n",
    "  #aplico el modelo a los datos de testing\n",
    "  prediccion  <- predict( modelo, \n",
    "                          data[ fold==fold_test, ],  #aplico el modelo sobre los datos de testing\n",
    "                          type= \"prob\")   #quiero que me devuelva probabilidades\n",
    "\n",
    "  prob_baja2  <- prediccion[, \"BAJA+2\"]  #esta es la probabilidad de baja\n",
    "\n",
    "  #calculo la ganancia\n",
    "  ganancia_testing  <- data[ fold==fold_test ][ prob_baja2 > 1/40,  \n",
    "                                                sum( ifelse( clase_ternaria==\"BAJA+2\", 117000, -3000 ) )] \n",
    "\n",
    "  return( ganancia_testing )  #esta es la ganancia sobre el fold de testing, NO esta normalizada\n",
    "}\n",
    "#------------------------------------------------------------------------------\n"
   ]
  },
  {
   "cell_type": "code",
   "execution_count": 9,
   "metadata": {
    "vscode": {
     "languageId": "r"
    }
   },
   "outputs": [],
   "source": [
    "\n",
    "ArbolesCrossValidation  <- function( data, param, qfolds, pagrupa, semilla )\n",
    "{\n",
    "  divi  <- rep( 1, qfolds )  # generalmente  c(1, 1, 1, 1, 1 )  cinco unos\n",
    "\n",
    "  particionar( data, divi, seed=semilla, agrupa=pagrupa )  #particiono en dataset en folds\n",
    "\n",
    "  ganancias  <- mcmapply( ArbolSimple, \n",
    "                          seq(qfolds), # 1 2 3 4 5\n",
    "                          MoreArgs= list( data, param), \n",
    "                          SIMPLIFY= FALSE,\n",
    "                          mc.cores= 1 )   #se puede subir a qfolds si posee Linux o Mac OS\n",
    "\n",
    "  data[ , fold := NULL ]\n",
    "\n",
    "  #devuelvo la primer ganancia y el promedio\n",
    "  ganancia_promedio  <- mean( unlist( ganancias ) )   #promedio las ganancias\n",
    "  ganancia_promedio_normalizada  <- ganancia_promedio * qfolds  #aqui normalizo la ganancia\n",
    "  \n",
    "  return( ganancia_promedio_normalizada )\n",
    "}\n",
    "#------------------------------------------------------------------------------\n",
    "#esta funcion solo puede recibir los parametros que se estan optimizando\n",
    "#el resto de los parametros, lamentablemente se pasan como variables globales\n",
    "\n",
    "EstimarGanancia  <- function( x )\n",
    "{\n",
    "   GLOBAL_iteracion  <<-  GLOBAL_iteracion + 1\n",
    "\n",
    "   xval_folds  <- 5\n",
    "   ganancia  <- ArbolesCrossValidation( dataset,\n",
    "                                        param= x, #los hiperparametros del arbol\n",
    "                                        qfolds= xval_folds,  #la cantidad de folds\n",
    "                                        pagrupa= \"clase_ternaria\",\n",
    "                                        semilla= ksemilla_azar )\n",
    "\n",
    "   #logueo \n",
    "   xx  <- x\n",
    "   xx$xval_folds  <-  xval_folds\n",
    "   xx$ganancia  <- ganancia\n",
    "   xx$iteracion <- GLOBAL_iteracion\n",
    "   loguear( xx,  arch= archivo_log )\n",
    "\n",
    "   return( ganancia )\n",
    "}\n",
    "#------------------------------------------------------------------------------\n",
    "#Aqui empieza el programa\n"
   ]
  },
  {
   "cell_type": "code",
   "execution_count": 10,
   "metadata": {
    "vscode": {
     "languageId": "r"
    }
   },
   "outputs": [
    {
     "name": "stderr",
     "output_type": "stream",
     "text": [
      "Computing y column(s) for design. Not provided.\n",
      "\n"
     ]
    },
    {
     "name": "stdout",
     "output_type": "stream",
     "text": [
      "20230415 083114\t-0.66637015613378\t4513\t1678\t7\t5\t50901000\t1\n",
      "20230415 083243\t-0.0708840988969314\t5365\t97\t16\t5\t50673000\t2\n",
      "20230415 083341\t-0.727520458123763\t6361\t2338\t4\t5\t50055000\t3\n",
      "20230415 083540\t-0.0157652133115334\t3783\t854\t15\t5\t51303000\t4\n",
      "20230415 083718\t-0.266948124789633\t7520\t2244\t18\t5\t50055000\t5\n",
      "20230415 083908\t-0.918727741073235\t6701\t1048\t17\t5\t50055000\t6\n",
      "20230415 084129\t-0.859220127915614\t2153\t312\t19\t5\t52977000\t7\n",
      "20230415 084255\t-0.366234884755977\t7166\t1333\t8\t5\t50055000\t8\n",
      "20230415 084438\t-0.764191181046772\t5216\t1970\t12\t5\t50862000\t9\n",
      "20230415 084536\t-0.130531295898254\t4525\t648\t4\t5\t50454000\t10\n",
      "20230415 084724\t-0.685466156963958\t7044\t1407\t14\t5\t50055000\t11\n",
      "20230415 084824\t0.0420622585457751\t6593\t2099\t9\t5\t0\t12\n",
      "20230415 084955\t-0.556921265029814\t6654\t687\t17\t5\t50055000\t13\n",
      "20230415 085036\t-0.82350544721121\t3351\t1666\t11\t5\t52485000\t14\n",
      "20230415 085112\t-0.528771402977873\t7448\t3503\t19\t5\t49716000\t15\n",
      "20230415 085154\t-0.255266323965043\t3304\t392\t9\t5\t52797000\t16\n"
     ]
    },
    {
     "name": "stderr",
     "output_type": "stream",
     "text": [
      "[mbo] 0: cp=-0.666; minsplit=4513; minbucket=1678; maxdepth=7 : y = 5.09e+07 : 31.4 secs : initdesign\n",
      "\n",
      "[mbo] 0: cp=-0.0709; minsplit=5365; minbucket=97; maxdepth=16 : y = 5.07e+07 : 89.3 secs : initdesign\n",
      "\n",
      "[mbo] 0: cp=-0.728; minsplit=6361; minbucket=2338; maxdepth=4 : y = 5.01e+07 : 57.9 secs : initdesign\n",
      "\n",
      "[mbo] 0: cp=-0.0158; minsplit=3783; minbucket=854; maxdepth=15 : y = 5.13e+07 : 118.3 secs : initdesign\n",
      "\n",
      "[mbo] 0: cp=-0.267; minsplit=7520; minbucket=2244; maxdepth=18 : y = 5.01e+07 : 98.6 secs : initdesign\n",
      "\n",
      "[mbo] 0: cp=-0.919; minsplit=6701; minbucket=1048; maxdepth=17 : y = 5.01e+07 : 109.8 secs : initdesign\n",
      "\n",
      "[mbo] 0: cp=-0.859; minsplit=2153; minbucket=312; maxdepth=19 : y = 5.3e+07 : 141.5 secs : initdesign\n",
      "\n",
      "[mbo] 0: cp=-0.366; minsplit=7166; minbucket=1333; maxdepth=8 : y = 5.01e+07 : 85.7 secs : initdesign\n",
      "\n",
      "[mbo] 0: cp=-0.764; minsplit=5216; minbucket=1970; maxdepth=12 : y = 5.09e+07 : 103.3 secs : initdesign\n",
      "\n",
      "[mbo] 0: cp=-0.131; minsplit=4525; minbucket=648; maxdepth=4 : y = 5.05e+07 : 57.9 secs : initdesign\n",
      "\n",
      "[mbo] 0: cp=-0.685; minsplit=7044; minbucket=1407; maxdepth=14 : y = 5.01e+07 : 108.0 secs : initdesign\n",
      "\n",
      "[mbo] 0: cp=0.0421; minsplit=6593; minbucket=2099; maxdepth=9 : y = 0 : 59.7 secs : initdesign\n",
      "\n",
      "[mbo] 0: cp=-0.557; minsplit=6654; minbucket=687; maxdepth=17 : y = 5.01e+07 : 91.5 secs : initdesign\n",
      "\n",
      "[mbo] 0: cp=-0.824; minsplit=3351; minbucket=1666; maxdepth=11 : y = 5.25e+07 : 40.8 secs : initdesign\n",
      "\n",
      "[mbo] 0: cp=-0.529; minsplit=7448; minbucket=3503; maxdepth=19 : y = 4.97e+07 : 35.4 secs : initdesign\n",
      "\n",
      "[mbo] 0: cp=-0.255; minsplit=3304; minbucket=392; maxdepth=9 : y = 5.28e+07 : 42.1 secs : initdesign\n",
      "\n",
      "Saved the current state after iteration 1 in the file HT321.RDATA.\n",
      "\n"
     ]
    },
    {
     "name": "stdout",
     "output_type": "stream",
     "text": [
      "20230415 085309\t-0.105689263504282\t3591\t1\t20\t5\t51924000\t17\n"
     ]
    },
    {
     "name": "stderr",
     "output_type": "stream",
     "text": [
      "[mbo] 1: cp=-0.106; minsplit=3591; minbucket=1; maxdepth=20 : y = 5.19e+07 : 72.3 secs : infill_ei\n",
      "\n"
     ]
    },
    {
     "name": "stdout",
     "output_type": "stream",
     "text": [
      "20230415 085350\t-0.292335446925432\t4962\t774\t20\t5\t50901000\t18\n"
     ]
    },
    {
     "name": "stderr",
     "output_type": "stream",
     "text": [
      "[mbo] 2: cp=-0.292; minsplit=4962; minbucket=774; maxdepth=20 : y = 5.09e+07 : 40.0 secs : infill_ei\n",
      "\n"
     ]
    },
    {
     "name": "stdout",
     "output_type": "stream",
     "text": [
      "20230415 085430\t-0.0363366120896622\t1418\t454\t11\t5\t52857000\t19\n"
     ]
    },
    {
     "name": "stderr",
     "output_type": "stream",
     "text": [
      "[mbo] 3: cp=-0.0363; minsplit=1418; minbucket=454; maxdepth=11 : y = 5.29e+07 : 38.0 secs : infill_ei\n",
      "\n"
     ]
    },
    {
     "name": "stdout",
     "output_type": "stream",
     "text": [
      "20230415 085506\t-0.445290603146618\t7998\t2376\t20\t5\t50055000\t20\n"
     ]
    },
    {
     "name": "stderr",
     "output_type": "stream",
     "text": [
      "[mbo] 4: cp=-0.445; minsplit=7998; minbucket=2376; maxdepth=20 : y = 5.01e+07 : 34.6 secs : infill_ei\n",
      "\n"
     ]
    },
    {
     "name": "stdout",
     "output_type": "stream",
     "text": [
      "20230415 085524\t-0.817175578585987\t4085\t2\t3\t5\t50049000\t21\n"
     ]
    },
    {
     "name": "stderr",
     "output_type": "stream",
     "text": [
      "[mbo] 5: cp=-0.817; minsplit=4085; minbucket=2; maxdepth=3 : y = 5e+07 : 17.0 secs : infill_ei\n",
      "\n"
     ]
    },
    {
     "name": "stdout",
     "output_type": "stream",
     "text": [
      "20230415 085616\t-0.697332077340838\t1304\t651\t12\t5\t51642000\t22\n"
     ]
    },
    {
     "name": "stderr",
     "output_type": "stream",
     "text": [
      "[mbo] 6: cp=-0.697; minsplit=1304; minbucket=651; maxdepth=12 : y = 5.16e+07 : 49.1 secs : infill_ei\n",
      "\n"
     ]
    },
    {
     "name": "stdout",
     "output_type": "stream",
     "text": [
      "20230415 085711\t-0.265838785270404\t7998\t9\t17\t5\t49365000\t23\n"
     ]
    },
    {
     "name": "stderr",
     "output_type": "stream",
     "text": [
      "[mbo] 7: cp=-0.266; minsplit=7998; minbucket=9; maxdepth=17 : y = 4.94e+07 : 53.6 secs : infill_ei\n",
      "\n"
     ]
    },
    {
     "name": "stdout",
     "output_type": "stream",
     "text": [
      "20230415 085803\t-0.114347197229498\t1149\t9\t15\t5\t52050000\t24\n"
     ]
    },
    {
     "name": "stderr",
     "output_type": "stream",
     "text": [
      "[mbo] 8: cp=-0.114; minsplit=1149; minbucket=9; maxdepth=15 : y = 5.2e+07 : 50.0 secs : infill_ei\n",
      "\n"
     ]
    },
    {
     "name": "stdout",
     "output_type": "stream",
     "text": [
      "20230415 085849\t-0.194525974394367\t2155\t1075\t15\t5\t53844000\t25\n"
     ]
    },
    {
     "name": "stderr",
     "output_type": "stream",
     "text": [
      "[mbo] 9: cp=-0.195; minsplit=2155; minbucket=1075; maxdepth=15 : y = 5.38e+07 : 44.0 secs : infill_ei\n",
      "\n"
     ]
    },
    {
     "name": "stdout",
     "output_type": "stream",
     "text": [
      "20230415 085938\t-0.0881866585487746\t1580\t719\t20\t5\t52377000\t26\n"
     ]
    },
    {
     "name": "stderr",
     "output_type": "stream",
     "text": [
      "[mbo] 10: cp=-0.0882; minsplit=1580; minbucket=719; maxdepth=20 : y = 5.24e+07 : 46.4 secs : infill_ei\n",
      "\n"
     ]
    },
    {
     "name": "stdout",
     "output_type": "stream",
     "text": [
      "20230415 090013\t-0.999114796930405\t1767\t874\t7\t5\t53553000\t27\n"
     ]
    },
    {
     "name": "stderr",
     "output_type": "stream",
     "text": [
      "[mbo] 11: cp=-0.999; minsplit=1767; minbucket=874; maxdepth=7 : y = 5.36e+07 : 32.5 secs : infill_ei\n",
      "\n"
     ]
    },
    {
     "name": "stdout",
     "output_type": "stream",
     "text": [
      "20230415 090056\t-0.92345791064794\t7\t3\t9\t5\t51111000\t28\n"
     ]
    },
    {
     "name": "stderr",
     "output_type": "stream",
     "text": [
      "[mbo] 12: cp=-0.923; minsplit=7; minbucket=3; maxdepth=9 : y = 5.11e+07 : 40.8 secs : infill_ei\n",
      "\n"
     ]
    },
    {
     "name": "stdout",
     "output_type": "stream",
     "text": [
      "20230415 090123\t-0.999935795255906\t5760\t2879\t6\t5\t50313000\t29\n"
     ]
    },
    {
     "name": "stderr",
     "output_type": "stream",
     "text": [
      "[mbo] 13: cp=-1; minsplit=5760; minbucket=2879; maxdepth=6 : y = 5.03e+07 : 24.2 secs : infill_ei\n",
      "\n"
     ]
    },
    {
     "name": "stdout",
     "output_type": "stream",
     "text": [
      "20230415 090156\t-0.304725843232146\t7963\t3915\t20\t5\t49716000\t30\n"
     ]
    },
    {
     "name": "stderr",
     "output_type": "stream",
     "text": [
      "[mbo] 14: cp=-0.305; minsplit=7963; minbucket=3915; maxdepth=20 : y = 4.97e+07 : 31.2 secs : infill_ei\n",
      "\n",
      "Saved the current state after iteration 15 in the file HT321.RDATA.\n",
      "\n"
     ]
    },
    {
     "name": "stdout",
     "output_type": "stream",
     "text": [
      "20230415 090230\t-0.845159270140904\t7992\t3994\t12\t5\t49716000\t31\n"
     ]
    },
    {
     "name": "stderr",
     "output_type": "stream",
     "text": [
      "[mbo] 15: cp=-0.845; minsplit=7992; minbucket=3994; maxdepth=12 : y = 4.97e+07 : 31.1 secs : infill_ei\n",
      "\n"
     ]
    },
    {
     "name": "stdout",
     "output_type": "stream",
     "text": [
      "20230415 090251\t-0.323019698207556\t2118\t129\t4\t5\t51108000\t32\n"
     ]
    },
    {
     "name": "stderr",
     "output_type": "stream",
     "text": [
      "[mbo] 16: cp=-0.323; minsplit=2118; minbucket=129; maxdepth=4 : y = 5.11e+07 : 19.6 secs : infill_ei\n",
      "\n"
     ]
    },
    {
     "name": "stdout",
     "output_type": "stream",
     "text": [
      "20230415 090410\t-0.999912951130164\t3099\t1544\t20\t5\t52470000\t33\n"
     ]
    },
    {
     "name": "stderr",
     "output_type": "stream",
     "text": [
      "[mbo] 17: cp=-1; minsplit=3099; minbucket=1544; maxdepth=20 : y = 5.25e+07 : 77.3 secs : infill_ei\n",
      "\n"
     ]
    },
    {
     "name": "stdout",
     "output_type": "stream",
     "text": [
      "20230415 090451\t0.0999904753040873\t1838\t1\t20\t5\t0\t34\n"
     ]
    },
    {
     "name": "stderr",
     "output_type": "stream",
     "text": [
      "[mbo] 18: cp=0.1; minsplit=1838; minbucket=1; maxdepth=20 : y = 0 : 37.7 secs : infill_ei\n",
      "\n"
     ]
    },
    {
     "name": "stdout",
     "output_type": "stream",
     "text": [
      "20230415 090620\t-0.0329639338681948\t2323\t3\t20\t5\t51195000\t35\n"
     ]
    },
    {
     "name": "stderr",
     "output_type": "stream",
     "text": [
      "[mbo] 19: cp=-0.033; minsplit=2323; minbucket=3; maxdepth=20 : y = 5.12e+07 : 83.0 secs : infill_ei\n",
      "\n"
     ]
    },
    {
     "name": "stdout",
     "output_type": "stream",
     "text": [
      "20230415 090643\t-0.487638221868518\t320\t153\t3\t5\t50091000\t36\n"
     ]
    },
    {
     "name": "stderr",
     "output_type": "stream",
     "text": [
      "[mbo] 20: cp=-0.488; minsplit=320; minbucket=153; maxdepth=3 : y = 5.01e+07 : 20.4 secs : infill_ei\n",
      "\n"
     ]
    },
    {
     "name": "stdout",
     "output_type": "stream",
     "text": [
      "20230415 090808\t-0.156662970519929\t5306\t2650\t20\t5\t50256000\t37\n"
     ]
    },
    {
     "name": "stderr",
     "output_type": "stream",
     "text": [
      "[mbo] 21: cp=-0.157; minsplit=5306; minbucket=2650; maxdepth=20 : y = 5.03e+07 : 83.2 secs : infill_ei\n",
      "\n"
     ]
    },
    {
     "name": "stdout",
     "output_type": "stream",
     "text": [
      "20230415 090829\t-0.218192047091467\t3801\t1881\t3\t5\t49743000\t38\n"
     ]
    },
    {
     "name": "stderr",
     "output_type": "stream",
     "text": [
      "[mbo] 22: cp=-0.218; minsplit=3801; minbucket=1881; maxdepth=3 : y = 4.97e+07 : 17.4 secs : infill_ei\n",
      "\n"
     ]
    },
    {
     "name": "stdout",
     "output_type": "stream",
     "text": [
      "20230415 091002\t-0.233266122697794\t35\t4\t20\t5\t33978000\t39\n"
     ]
    },
    {
     "name": "stderr",
     "output_type": "stream",
     "text": [
      "[mbo] 23: cp=-0.233; minsplit=35; minbucket=4; maxdepth=20 : y = 3.4e+07 : 91.3 secs : infill_ei\n",
      "\n"
     ]
    },
    {
     "name": "stdout",
     "output_type": "stream",
     "text": [
      "20230415 091022\t-0.280970856738051\t5247\t1168\t3\t5\t48969000\t40\n"
     ]
    },
    {
     "name": "stderr",
     "output_type": "stream",
     "text": [
      "[mbo] 24: cp=-0.281; minsplit=5247; minbucket=1168; maxdepth=3 : y = 4.9e+07 : 18.7 secs : infill_ei\n",
      "\n"
     ]
    },
    {
     "name": "stdout",
     "output_type": "stream",
     "text": [
      "20230415 091110\t-0.117006786314043\t3185\t1042\t14\t5\t52071000\t41\n"
     ]
    },
    {
     "name": "stderr",
     "output_type": "stream",
     "text": [
      "[mbo] 25: cp=-0.117; minsplit=3185; minbucket=1042; maxdepth=14 : y = 5.21e+07 : 46.1 secs : infill_ei\n",
      "\n"
     ]
    },
    {
     "name": "stdout",
     "output_type": "stream",
     "text": [
      "20230415 091158\t-0.183814082376118\t3978\t982\t9\t5\t51303000\t42\n"
     ]
    },
    {
     "name": "stderr",
     "output_type": "stream",
     "text": [
      "[mbo] 26: cp=-0.184; minsplit=3978; minbucket=982; maxdepth=9 : y = 5.13e+07 : 45.2 secs : infill_ei\n",
      "\n",
      "Saved the current state after iteration 27 in the file HT321.RDATA.\n",
      "\n"
     ]
    },
    {
     "name": "stdout",
     "output_type": "stream",
     "text": [
      "20230415 091326\t-0.969619646137382\t149\t7\t16\t5\t48987000\t43\n"
     ]
    },
    {
     "name": "stderr",
     "output_type": "stream",
     "text": [
      "[mbo] 27: cp=-0.97; minsplit=149; minbucket=7; maxdepth=16 : y = 4.9e+07 : 85.2 secs : infill_ei\n",
      "\n"
     ]
    },
    {
     "name": "stdout",
     "output_type": "stream",
     "text": [
      "20230415 091437\t-0.404709329508524\t121\t8\t17\t5\t47100000\t44\n"
     ]
    },
    {
     "name": "stderr",
     "output_type": "stream",
     "text": [
      "[mbo] 28: cp=-0.405; minsplit=121; minbucket=8; maxdepth=17 : y = 4.71e+07 : 68.1 secs : infill_ei\n",
      "\n"
     ]
    },
    {
     "name": "stdout",
     "output_type": "stream",
     "text": [
      "20230415 091514\t-0.88094528508323\t2670\t1326\t3\t5\t50049000\t45\n"
     ]
    },
    {
     "name": "stderr",
     "output_type": "stream",
     "text": [
      "[mbo] 29: cp=-0.881; minsplit=2670; minbucket=1326; maxdepth=3 : y = 5e+07 : 34.7 secs : infill_ei\n",
      "\n"
     ]
    },
    {
     "name": "stdout",
     "output_type": "stream",
     "text": [
      "20230415 091700\t-0.197502231037672\t6858\t3418\t15\t5\t50379000\t46\n"
     ]
    },
    {
     "name": "stderr",
     "output_type": "stream",
     "text": [
      "[mbo] 30: cp=-0.198; minsplit=6858; minbucket=3418; maxdepth=15 : y = 5.04e+07 : 98.4 secs : infill_ei\n",
      "\n"
     ]
    },
    {
     "name": "stdout",
     "output_type": "stream",
     "text": [
      "20230415 092013\t-0.620873006287046\t30\t15\t19\t5\t36549000\t47\n"
     ]
    },
    {
     "name": "stderr",
     "output_type": "stream",
     "text": [
      "[mbo] 31: cp=-0.621; minsplit=30; minbucket=15; maxdepth=19 : y = 3.65e+07 : 186.6 secs : infill_ei\n",
      "\n"
     ]
    },
    {
     "name": "stdout",
     "output_type": "stream",
     "text": [
      "20230415 092242\t-0.495379326689693\t8000\t5\t16\t5\t49461000\t48\n"
     ]
    },
    {
     "name": "stderr",
     "output_type": "stream",
     "text": [
      "[mbo] 32: cp=-0.495; minsplit=8000; minbucket=5; maxdepth=16 : y = 4.95e+07 : 144.0 secs : infill_ei\n",
      "\n",
      "Saved the current state after iteration 33 in the file HT321.RDATA.\n",
      "\n"
     ]
    },
    {
     "name": "stdout",
     "output_type": "stream",
     "text": [
      "20230415 092448\t-0.339136784869551\t3657\t1806\t20\t5\t51777000\t49\n"
     ]
    },
    {
     "name": "stderr",
     "output_type": "stream",
     "text": [
      "[mbo] 33: cp=-0.339; minsplit=3657; minbucket=1806; maxdepth=20 : y = 5.18e+07 : 118.6 secs : infill_ei\n",
      "\n"
     ]
    },
    {
     "name": "stdout",
     "output_type": "stream",
     "text": [
      "20230415 092754\t-0.797811994232751\t291\t90\t20\t5\t47190000\t50\n"
     ]
    },
    {
     "name": "stderr",
     "output_type": "stream",
     "text": [
      "[mbo] 34: cp=-0.798; minsplit=291; minbucket=90; maxdepth=20 : y = 4.72e+07 : 179.8 secs : infill_ei\n",
      "\n"
     ]
    },
    {
     "name": "stdout",
     "output_type": "stream",
     "text": [
      "20230415 092850\t-0.537204852876817\t7997\t826\t3\t5\t48969000\t51\n"
     ]
    },
    {
     "name": "stderr",
     "output_type": "stream",
     "text": [
      "[mbo] 35: cp=-0.537; minsplit=7997; minbucket=826; maxdepth=3 : y = 4.9e+07 : 51.0 secs : infill_ei\n",
      "\n"
     ]
    },
    {
     "name": "stdout",
     "output_type": "stream",
     "text": [
      "20230415 092945\t-0.470111420341634\t7396\t3679\t3\t5\t49716000\t52\n"
     ]
    },
    {
     "name": "stderr",
     "output_type": "stream",
     "text": [
      "[mbo] 36: cp=-0.47; minsplit=7396; minbucket=3679; maxdepth=3 : y = 4.97e+07 : 49.2 secs : infill_ei\n",
      "\n"
     ]
    },
    {
     "name": "stdout",
     "output_type": "stream",
     "text": [
      "20230415 093207\t-0.835371608022874\t7644\t174\t20\t5\t48804000\t53\n"
     ]
    },
    {
     "name": "stderr",
     "output_type": "stream",
     "text": [
      "[mbo] 37: cp=-0.835; minsplit=7644; minbucket=174; maxdepth=20 : y = 4.88e+07 : 137.7 secs : infill_ei\n",
      "\n"
     ]
    },
    {
     "name": "stdout",
     "output_type": "stream",
     "text": [
      "20230415 093304\t-0.0923533351691435\t1622\t776\t3\t5\t50499000\t54\n"
     ]
    },
    {
     "name": "stderr",
     "output_type": "stream",
     "text": [
      "[mbo] 38: cp=-0.0924; minsplit=1622; minbucket=776; maxdepth=3 : y = 5.05e+07 : 50.4 secs : infill_ei\n",
      "\n",
      "Saved the current state after iteration 39 in the file HT321.RDATA.\n",
      "\n"
     ]
    },
    {
     "name": "stdout",
     "output_type": "stream",
     "text": [
      "20230415 093613\t-0.894636678269497\t41\t18\t20\t5\t38310000\t55\n"
     ]
    },
    {
     "name": "stderr",
     "output_type": "stream",
     "text": [
      "[mbo] 39: cp=-0.895; minsplit=41; minbucket=18; maxdepth=20 : y = 3.83e+07 : 182.1 secs : infill_ei\n",
      "\n"
     ]
    },
    {
     "name": "stdout",
     "output_type": "stream",
     "text": [
      "20230415 093708\t-0.936841295887359\t4629\t1131\t3\t5\t48969000\t56\n"
     ]
    },
    {
     "name": "stderr",
     "output_type": "stream",
     "text": [
      "[mbo] 40: cp=-0.937; minsplit=4629; minbucket=1131; maxdepth=3 : y = 4.9e+07 : 49.9 secs : infill_ei\n",
      "\n"
     ]
    },
    {
     "name": "stdout",
     "output_type": "stream",
     "text": [
      "20230415 093844\t-0.853150213036717\t2547\t1180\t7\t5\t52668000\t57\n"
     ]
    },
    {
     "name": "stderr",
     "output_type": "stream",
     "text": [
      "[mbo] 41: cp=-0.853; minsplit=2547; minbucket=1180; maxdepth=7 : y = 5.27e+07 : 90.2 secs : infill_ei\n",
      "\n"
     ]
    },
    {
     "name": "stdout",
     "output_type": "stream",
     "text": [
      "20230415 094037\t-0.861387285777554\t4440\t2211\t16\t5\t50715000\t58\n"
     ]
    },
    {
     "name": "stderr",
     "output_type": "stream",
     "text": [
      "[mbo] 42: cp=-0.861; minsplit=4440; minbucket=2211; maxdepth=16 : y = 5.07e+07 : 106.3 secs : infill_ei\n",
      "\n"
     ]
    },
    {
     "name": "stdout",
     "output_type": "stream",
     "text": [
      "20230415 094148\t-0.41164745856853\t3770\t674\t14\t5\t51303000\t59\n"
     ]
    },
    {
     "name": "stderr",
     "output_type": "stream",
     "text": [
      "[mbo] 43: cp=-0.412; minsplit=3770; minbucket=674; maxdepth=14 : y = 5.13e+07 : 66.5 secs : infill_ei\n",
      "\n"
     ]
    },
    {
     "name": "stdout",
     "output_type": "stream",
     "text": [
      "20230415 094211\t-0.438078129862873\t4783\t9\t3\t5\t48969000\t60\n"
     ]
    },
    {
     "name": "stderr",
     "output_type": "stream",
     "text": [
      "[mbo] 44: cp=-0.438; minsplit=4783; minbucket=9; maxdepth=3 : y = 4.9e+07 : 20.4 secs : infill_ei\n",
      "\n"
     ]
    },
    {
     "name": "stdout",
     "output_type": "stream",
     "text": [
      "20230415 094255\t-0.410467013929453\t7995\t3989\t8\t5\t49716000\t61\n"
     ]
    },
    {
     "name": "stderr",
     "output_type": "stream",
     "text": [
      "[mbo] 45: cp=-0.41; minsplit=7995; minbucket=3989; maxdepth=8 : y = 4.97e+07 : 41.8 secs : infill_ei\n",
      "\n"
     ]
    },
    {
     "name": "stdout",
     "output_type": "stream",
     "text": [
      "20230415 094336\t-0.0408801256235823\t6228\t3101\t14\t5\t49620000\t62\n"
     ]
    },
    {
     "name": "stderr",
     "output_type": "stream",
     "text": [
      "[mbo] 46: cp=-0.0409; minsplit=6228; minbucket=3101; maxdepth=14 : y = 4.96e+07 : 38.0 secs : infill_ei\n",
      "\n",
      "Saved the current state after iteration 47 in the file HT321.RDATA.\n",
      "\n"
     ]
    },
    {
     "name": "stdout",
     "output_type": "stream",
     "text": [
      "20230415 094442\t-0.327035857711673\t7943\t9\t16\t5\t49431000\t63\n"
     ]
    },
    {
     "name": "stderr",
     "output_type": "stream",
     "text": [
      "[mbo] 47: cp=-0.327; minsplit=7943; minbucket=9; maxdepth=16 : y = 4.94e+07 : 64.4 secs : infill_ei\n",
      "\n"
     ]
    },
    {
     "name": "stdout",
     "output_type": "stream",
     "text": [
      "20230415 094536\t-0.99997216813015\t7619\t4\t13\t5\t49569000\t64\n"
     ]
    },
    {
     "name": "stderr",
     "output_type": "stream",
     "text": [
      "[mbo] 48: cp=-1; minsplit=7619; minbucket=4; maxdepth=13 : y = 4.96e+07 : 50.3 secs : infill_ei\n",
      "\n"
     ]
    },
    {
     "name": "stdout",
     "output_type": "stream",
     "text": [
      "20230415 094628\t-0.140348962803985\t1370\t672\t20\t5\t52356000\t65\n"
     ]
    },
    {
     "name": "stderr",
     "output_type": "stream",
     "text": [
      "[mbo] 49: cp=-0.14; minsplit=1370; minbucket=672; maxdepth=20 : y = 5.24e+07 : 49.2 secs : infill_ei\n",
      "\n"
     ]
    },
    {
     "name": "stdout",
     "output_type": "stream",
     "text": [
      "20230415 094648\t-0.79165053877271\t7998\t3985\t3\t5\t49716000\t66\n"
     ]
    },
    {
     "name": "stderr",
     "output_type": "stream",
     "text": [
      "[mbo] 50: cp=-0.792; minsplit=7998; minbucket=3985; maxdepth=3 : y = 4.97e+07 : 18.5 secs : infill_ei\n",
      "\n"
     ]
    },
    {
     "name": "stdout",
     "output_type": "stream",
     "text": [
      "20230415 094708\t-0.692885001213444\t4873\t2416\t3\t5\t48969000\t67\n"
     ]
    },
    {
     "name": "stderr",
     "output_type": "stream",
     "text": [
      "[mbo] 51: cp=-0.693; minsplit=4873; minbucket=2416; maxdepth=3 : y = 4.9e+07 : 17.0 secs : infill_ei\n",
      "\n"
     ]
    },
    {
     "name": "stdout",
     "output_type": "stream",
     "text": [
      "20230415 094742\t-0.740477862068674\t36\t2\t7\t5\t53598000\t68\n"
     ]
    },
    {
     "name": "stderr",
     "output_type": "stream",
     "text": [
      "[mbo] 52: cp=-0.74; minsplit=36; minbucket=2; maxdepth=7 : y = 5.36e+07 : 32.1 secs : infill_ei\n",
      "\n"
     ]
    },
    {
     "name": "stdout",
     "output_type": "stream",
     "text": [
      "20230415 094836\t-0.73336568939769\t1558\t776\t20\t5\t52704000\t69\n"
     ]
    },
    {
     "name": "stderr",
     "output_type": "stream",
     "text": [
      "[mbo] 53: cp=-0.733; minsplit=1558; minbucket=776; maxdepth=20 : y = 5.27e+07 : 51.1 secs : infill_ei\n",
      "\n"
     ]
    },
    {
     "name": "stdout",
     "output_type": "stream",
     "text": [
      "20230415 094926\t-0.724632908150168\t2841\t1\t11\t5\t52581000\t70\n"
     ]
    },
    {
     "name": "stderr",
     "output_type": "stream",
     "text": [
      "[mbo] 54: cp=-0.725; minsplit=2841; minbucket=1; maxdepth=11 : y = 5.26e+07 : 48.6 secs : infill_ei\n",
      "\n"
     ]
    },
    {
     "name": "stdout",
     "output_type": "stream",
     "text": [
      "20230415 095025\t-0.84118528093453\t226\t45\t13\t5\t46044000\t71\n"
     ]
    },
    {
     "name": "stderr",
     "output_type": "stream",
     "text": [
      "[mbo] 55: cp=-0.841; minsplit=226; minbucket=45; maxdepth=13 : y = 4.6e+07 : 56.9 secs : infill_ei\n",
      "\n"
     ]
    },
    {
     "name": "stdout",
     "output_type": "stream",
     "text": [
      "20230415 095045\t-0.864696097849304\t7720\t7\t3\t5\t48969000\t72\n"
     ]
    },
    {
     "name": "stderr",
     "output_type": "stream",
     "text": [
      "[mbo] 56: cp=-0.865; minsplit=7720; minbucket=7; maxdepth=3 : y = 4.9e+07 : 18.2 secs : infill_ei\n",
      "\n"
     ]
    },
    {
     "name": "stdout",
     "output_type": "stream",
     "text": [
      "20230415 095110\t-0.747723476309978\t2213\t1081\t3\t5\t50736000\t73\n"
     ]
    },
    {
     "name": "stderr",
     "output_type": "stream",
     "text": [
      "[mbo] 57: cp=-0.748; minsplit=2213; minbucket=1081; maxdepth=3 : y = 5.07e+07 : 22.3 secs : infill_ei\n",
      "\n"
     ]
    },
    {
     "name": "stdout",
     "output_type": "stream",
     "text": [
      "20230415 095154\t-0.813623699009507\t7541\t3754\t20\t5\t49716000\t74\n"
     ]
    },
    {
     "name": "stderr",
     "output_type": "stream",
     "text": [
      "[mbo] 58: cp=-0.814; minsplit=7541; minbucket=3754; maxdepth=20 : y = 4.97e+07 : 40.5 secs : infill_ei\n",
      "\n"
     ]
    },
    {
     "name": "stdout",
     "output_type": "stream",
     "text": [
      "20230415 095218\t-0.0271397941887662\t3957\t4\t3\t5\t50049000\t75\n"
     ]
    },
    {
     "name": "stderr",
     "output_type": "stream",
     "text": [
      "[mbo] 59: cp=-0.0271; minsplit=3957; minbucket=4; maxdepth=3 : y = 5e+07 : 22.2 secs : infill_ei\n",
      "\n"
     ]
    },
    {
     "name": "stdout",
     "output_type": "stream",
     "text": [
      "20230415 095310\t-0.47238820472122\t2762\t1380\t20\t5\t53913000\t76\n"
     ]
    },
    {
     "name": "stderr",
     "output_type": "stream",
     "text": [
      "[mbo] 60: cp=-0.472; minsplit=2762; minbucket=1380; maxdepth=20 : y = 5.39e+07 : 49.4 secs : infill_ei\n",
      "\n"
     ]
    },
    {
     "name": "stdout",
     "output_type": "stream",
     "text": [
      "20230415 095409\t-0.516647352411518\t1376\t685\t20\t5\t52404000\t77\n"
     ]
    },
    {
     "name": "stderr",
     "output_type": "stream",
     "text": [
      "[mbo] 61: cp=-0.517; minsplit=1376; minbucket=685; maxdepth=20 : y = 5.24e+07 : 55.1 secs : infill_ei\n",
      "\n",
      "Saved the current state after iteration 62 in the file HT321.RDATA.\n",
      "\n"
     ]
    },
    {
     "name": "stdout",
     "output_type": "stream",
     "text": [
      "20230415 095505\t-0.489565190368982\t3747\t1870\t17\t5\t51702000\t78\n"
     ]
    },
    {
     "name": "stderr",
     "output_type": "stream",
     "text": [
      "[mbo] 62: cp=-0.49; minsplit=3747; minbucket=1870; maxdepth=17 : y = 5.17e+07 : 51.6 secs : infill_ei\n",
      "\n"
     ]
    },
    {
     "name": "stdout",
     "output_type": "stream",
     "text": [
      "20230415 095600\t-0.461363261055578\t2390\t1123\t13\t5\t52755000\t79\n"
     ]
    },
    {
     "name": "stderr",
     "output_type": "stream",
     "text": [
      "[mbo] 63: cp=-0.461; minsplit=2390; minbucket=1123; maxdepth=13 : y = 5.28e+07 : 52.9 secs : infill_ei\n",
      "\n"
     ]
    },
    {
     "name": "stdout",
     "output_type": "stream",
     "text": [
      "20230415 095706\t-0.311364458956907\t3398\t1687\t13\t5\t51981000\t80\n"
     ]
    },
    {
     "name": "stderr",
     "output_type": "stream",
     "text": [
      "[mbo] 64: cp=-0.311; minsplit=3398; minbucket=1687; maxdepth=13 : y = 5.2e+07 : 61.8 secs : infill_ei\n",
      "\n"
     ]
    },
    {
     "name": "stdout",
     "output_type": "stream",
     "text": [
      "20230415 095821\t-0.256636189131653\t4651\t2319\t5\t5\t50772000\t81\n"
     ]
    },
    {
     "name": "stderr",
     "output_type": "stream",
     "text": [
      "[mbo] 65: cp=-0.257; minsplit=4651; minbucket=2319; maxdepth=5 : y = 5.08e+07 : 68.9 secs : infill_ei\n",
      "\n"
     ]
    },
    {
     "name": "stdout",
     "output_type": "stream",
     "text": [
      "20230415 095930\t-0.197178254871286\t1933\t808\t4\t5\t52023000\t82\n"
     ]
    },
    {
     "name": "stderr",
     "output_type": "stream",
     "text": [
      "[mbo] 66: cp=-0.197; minsplit=1933; minbucket=808; maxdepth=4 : y = 5.2e+07 : 62.7 secs : infill_ei\n",
      "\n"
     ]
    },
    {
     "name": "stdout",
     "output_type": "stream",
     "text": [
      "20230415 100238\t-0.469198356328947\t3731\t2\t20\t5\t51885000\t83\n"
     ]
    },
    {
     "name": "stderr",
     "output_type": "stream",
     "text": [
      "[mbo] 67: cp=-0.469; minsplit=3731; minbucket=2; maxdepth=20 : y = 5.19e+07 : 181.3 secs : infill_ei\n",
      "\n"
     ]
    },
    {
     "name": "stdout",
     "output_type": "stream",
     "text": [
      "20230415 100453\t-0.741047790792926\t7889\t5\t14\t5\t49500000\t84\n"
     ]
    },
    {
     "name": "stderr",
     "output_type": "stream",
     "text": [
      "[mbo] 68: cp=-0.741; minsplit=7889; minbucket=5; maxdepth=14 : y = 4.95e+07 : 129.2 secs : infill_ei\n",
      "\n",
      "Saved the current state after iteration 69 in the file HT321.RDATA.\n",
      "\n"
     ]
    },
    {
     "name": "stdout",
     "output_type": "stream",
     "text": [
      "20230415 100657\t-0.195994555706476\t3289\t1626\t13\t5\t52434000\t85\n"
     ]
    },
    {
     "name": "stderr",
     "output_type": "stream",
     "text": [
      "[mbo] 69: cp=-0.196; minsplit=3289; minbucket=1626; maxdepth=13 : y = 5.24e+07 : 116.5 secs : infill_ei\n",
      "\n"
     ]
    },
    {
     "name": "stdout",
     "output_type": "stream",
     "text": [
      "20230415 100921\t-0.171304230309287\t1334\t654\t17\t5\t51741000\t86\n"
     ]
    },
    {
     "name": "stderr",
     "output_type": "stream",
     "text": [
      "[mbo] 70: cp=-0.171; minsplit=1334; minbucket=654; maxdepth=17 : y = 5.17e+07 : 136.8 secs : infill_ei\n",
      "\n"
     ]
    },
    {
     "name": "stdout",
     "output_type": "stream",
     "text": [
      "20230415 101148\t-0.192014254074976\t7260\t56\t17\t5\t49401000\t87\n"
     ]
    },
    {
     "name": "stderr",
     "output_type": "stream",
     "text": [
      "[mbo] 71: cp=-0.192; minsplit=7260; minbucket=56; maxdepth=17 : y = 4.94e+07 : 141.1 secs : infill_ei\n",
      "\n"
     ]
    },
    {
     "name": "stdout",
     "output_type": "stream",
     "text": [
      "20230415 101404\t-0.730983619875466\t46\t10\t11\t5\t48087000\t88\n"
     ]
    },
    {
     "name": "stderr",
     "output_type": "stream",
     "text": [
      "[mbo] 72: cp=-0.731; minsplit=46; minbucket=10; maxdepth=11 : y = 4.81e+07 : 128.5 secs : infill_ei\n",
      "\n"
     ]
    },
    {
     "name": "stdout",
     "output_type": "stream",
     "text": [
      "20230415 101623\t-0.797095367028158\t2922\t707\t19\t5\t52770000\t89\n"
     ]
    },
    {
     "name": "stderr",
     "output_type": "stream",
     "text": [
      "[mbo] 73: cp=-0.797; minsplit=2922; minbucket=707; maxdepth=19 : y = 5.28e+07 : 132.9 secs : infill_ei\n",
      "\n",
      "Saved the current state after iteration 74 in the file HT321.RDATA.\n",
      "\n"
     ]
    },
    {
     "name": "stdout",
     "output_type": "stream",
     "text": [
      "20230415 101749\t-0.704938886163541\t2901\t150\t7\t5\t51672000\t90\n"
     ]
    },
    {
     "name": "stderr",
     "output_type": "stream",
     "text": [
      "[mbo] 74: cp=-0.705; minsplit=2901; minbucket=150; maxdepth=7 : y = 5.17e+07 : 79.9 secs : infill_ei\n",
      "\n"
     ]
    },
    {
     "name": "stdout",
     "output_type": "stream",
     "text": [
      "20230415 101922\t-0.745389801391226\t2896\t387\t7\t5\t52797000\t91\n"
     ]
    },
    {
     "name": "stderr",
     "output_type": "stream",
     "text": [
      "[mbo] 75: cp=-0.745; minsplit=2896; minbucket=387; maxdepth=7 : y = 5.28e+07 : 86.2 secs : infill_ei\n",
      "\n"
     ]
    },
    {
     "name": "stdout",
     "output_type": "stream",
     "text": [
      "20230415 102135\t-0.0425990177453315\t2113\t982\t15\t5\t54588000\t92\n"
     ]
    },
    {
     "name": "stderr",
     "output_type": "stream",
     "text": [
      "[mbo] 76: cp=-0.0426; minsplit=2113; minbucket=982; maxdepth=15 : y = 5.46e+07 : 125.4 secs : infill_ei\n",
      "\n"
     ]
    },
    {
     "name": "stdout",
     "output_type": "stream",
     "text": [
      "20230415 102334\t-0.719453467490353\t4154\t2074\t20\t5\t51558000\t93\n"
     ]
    },
    {
     "name": "stderr",
     "output_type": "stream",
     "text": [
      "[mbo] 77: cp=-0.719; minsplit=4154; minbucket=2074; maxdepth=20 : y = 5.16e+07 : 109.7 secs : infill_ei\n",
      "\n"
     ]
    },
    {
     "name": "stdout",
     "output_type": "stream",
     "text": [
      "20230415 102512\t-0.969076274178573\t2804\t1400\t10\t5\t53535000\t94\n"
     ]
    },
    {
     "name": "stderr",
     "output_type": "stream",
     "text": [
      "[mbo] 78: cp=-0.969; minsplit=2804; minbucket=1400; maxdepth=10 : y = 5.35e+07 : 91.8 secs : infill_ei\n",
      "\n"
     ]
    },
    {
     "name": "stdout",
     "output_type": "stream",
     "text": [
      "20230415 102605\t-0.534952312118867\t3125\t1543\t9\t5\t52470000\t95\n"
     ]
    },
    {
     "name": "stderr",
     "output_type": "stream",
     "text": [
      "[mbo] 79: cp=-0.535; minsplit=3125; minbucket=1543; maxdepth=9 : y = 5.25e+07 : 49.7 secs : infill_ei\n",
      "\n"
     ]
    },
    {
     "name": "stdout",
     "output_type": "stream",
     "text": [
      "20230415 102651\t-0.987767980145982\t7995\t3995\t18\t5\t49716000\t96\n"
     ]
    },
    {
     "name": "stderr",
     "output_type": "stream",
     "text": [
      "[mbo] 80: cp=-0.988; minsplit=7995; minbucket=3995; maxdepth=18 : y = 4.97e+07 : 41.8 secs : infill_ei\n",
      "\n",
      "Saved the current state after iteration 81 in the file HT321.RDATA.\n",
      "\n"
     ]
    },
    {
     "name": "stdout",
     "output_type": "stream",
     "text": [
      "20230415 102737\t-0.71950100985416\t7975\t3983\t10\t5\t49716000\t97\n"
     ]
    },
    {
     "name": "stderr",
     "output_type": "stream",
     "text": [
      "[mbo] 81: cp=-0.72; minsplit=7975; minbucket=3983; maxdepth=10 : y = 4.97e+07 : 43.1 secs : infill_ei\n",
      "\n"
     ]
    },
    {
     "name": "stdout",
     "output_type": "stream",
     "text": [
      "20230415 102818\t-0.572152871522351\t7858\t3927\t7\t5\t49716000\t98\n"
     ]
    },
    {
     "name": "stderr",
     "output_type": "stream",
     "text": [
      "[mbo] 82: cp=-0.572; minsplit=7858; minbucket=3927; maxdepth=7 : y = 4.97e+07 : 37.3 secs : infill_ei\n",
      "\n"
     ]
    },
    {
     "name": "stdout",
     "output_type": "stream",
     "text": [
      "20230415 102901\t-0.393550791988155\t2196\t1092\t7\t5\t53817000\t99\n"
     ]
    },
    {
     "name": "stderr",
     "output_type": "stream",
     "text": [
      "[mbo] 83: cp=-0.394; minsplit=2196; minbucket=1092; maxdepth=7 : y = 5.38e+07 : 39.7 secs : infill_ei\n",
      "\n"
     ]
    },
    {
     "name": "stdout",
     "output_type": "stream",
     "text": [
      "20230415 102947\t-0.960938332234239\t2413\t1\t8\t5\t52200000\t100\n"
     ]
    },
    {
     "name": "stderr",
     "output_type": "stream",
     "text": [
      "[mbo] 84: cp=-0.961; minsplit=2413; minbucket=1; maxdepth=8 : y = 5.22e+07 : 43.9 secs : infill_ei\n",
      "\n"
     ]
    },
    {
     "name": "stdout",
     "output_type": "stream",
     "text": [
      "20230415 103035\t-0.436992890725299\t2450\t1225\t8\t5\t52944000\t101\n"
     ]
    },
    {
     "name": "stderr",
     "output_type": "stream",
     "text": [
      "[mbo] 85: cp=-0.437; minsplit=2450; minbucket=1225; maxdepth=8 : y = 5.29e+07 : 44.0 secs : infill_ei\n",
      "\n"
     ]
    },
    {
     "name": "stdout",
     "output_type": "stream",
     "text": [
      "20230415 103137\t-0.999962221690124\t2680\t1327\t14\t5\t51915000\t102\n"
     ]
    },
    {
     "name": "stderr",
     "output_type": "stream",
     "text": [
      "[mbo] 86: cp=-1; minsplit=2680; minbucket=1327; maxdepth=14 : y = 5.19e+07 : 59.2 secs : infill_ei\n",
      "\n"
     ]
    },
    {
     "name": "stdout",
     "output_type": "stream",
     "text": [
      "20230415 103233\t-0.837121783558435\t2992\t1435\t20\t5\t53628000\t103\n"
     ]
    },
    {
     "name": "stderr",
     "output_type": "stream",
     "text": [
      "[mbo] 87: cp=-0.837; minsplit=2992; minbucket=1435; maxdepth=20 : y = 5.36e+07 : 53.9 secs : infill_ei\n",
      "\n"
     ]
    },
    {
     "name": "stdout",
     "output_type": "stream",
     "text": [
      "20230415 103319\t-0.925181557079093\t7619\t3791\t9\t5\t49716000\t104\n"
     ]
    },
    {
     "name": "stderr",
     "output_type": "stream",
     "text": [
      "[mbo] 88: cp=-0.925; minsplit=7619; minbucket=3791; maxdepth=9 : y = 4.97e+07 : 43.1 secs : infill_ei\n",
      "\n"
     ]
    },
    {
     "name": "stdout",
     "output_type": "stream",
     "text": [
      "20230415 103358\t-0.356105081035296\t1788\t883\t9\t5\t54480000\t105\n"
     ]
    },
    {
     "name": "stderr",
     "output_type": "stream",
     "text": [
      "[mbo] 89: cp=-0.356; minsplit=1788; minbucket=883; maxdepth=9 : y = 5.45e+07 : 36.3 secs : infill_ei\n",
      "\n"
     ]
    },
    {
     "name": "stdout",
     "output_type": "stream",
     "text": [
      "20230415 103425\t-0.783201458569338\t62\t17\t5\t5\t52665000\t106\n"
     ]
    },
    {
     "name": "stderr",
     "output_type": "stream",
     "text": [
      "[mbo] 90: cp=-0.783; minsplit=62; minbucket=17; maxdepth=5 : y = 5.27e+07 : 25.3 secs : infill_ei\n",
      "\n"
     ]
    },
    {
     "name": "stdout",
     "output_type": "stream",
     "text": [
      "20230415 103444\t-0.989424047142331\t12\t4\t3\t5\t50049000\t107\n"
     ]
    },
    {
     "name": "stderr",
     "output_type": "stream",
     "text": [
      "[mbo] 91: cp=-0.989; minsplit=12; minbucket=4; maxdepth=3 : y = 5e+07 : 16.9 secs : infill_ei\n",
      "\n"
     ]
    },
    {
     "name": "stdout",
     "output_type": "stream",
     "text": [
      "20230415 103524\t-0.287640669821358\t2092\t1036\t8\t5\t54615000\t108\n"
     ]
    },
    {
     "name": "stderr",
     "output_type": "stream",
     "text": [
      "[mbo] 92: cp=-0.288; minsplit=2092; minbucket=1036; maxdepth=8 : y = 5.46e+07 : 37.4 secs : infill_ei\n",
      "\n"
     ]
    },
    {
     "name": "stdout",
     "output_type": "stream",
     "text": [
      "20230415 103558\t-0.339515564987266\t2327\t1162\t8\t5\t53826000\t109\n"
     ]
    },
    {
     "name": "stderr",
     "output_type": "stream",
     "text": [
      "[mbo] 93: cp=-0.34; minsplit=2327; minbucket=1162; maxdepth=8 : y = 5.38e+07 : 32.1 secs : infill_ei\n",
      "\n"
     ]
    },
    {
     "name": "stdout",
     "output_type": "stream",
     "text": [
      "20230415 103641\t-0.143513723060498\t2566\t1042\t16\t5\t53571000\t110\n"
     ]
    },
    {
     "name": "stderr",
     "output_type": "stream",
     "text": [
      "[mbo] 94: cp=-0.144; minsplit=2566; minbucket=1042; maxdepth=16 : y = 5.36e+07 : 40.4 secs : infill_ei\n",
      "\n"
     ]
    },
    {
     "name": "stdout",
     "output_type": "stream",
     "text": [
      "20230415 103727\t-0.037422672657038\t2925\t34\t14\t5\t50523000\t111\n"
     ]
    },
    {
     "name": "stderr",
     "output_type": "stream",
     "text": [
      "[mbo] 95: cp=-0.0374; minsplit=2925; minbucket=34; maxdepth=14 : y = 5.05e+07 : 44.5 secs : infill_ei\n",
      "\n",
      "Saved the current state after iteration 96 in the file HT321.RDATA.\n",
      "\n"
     ]
    },
    {
     "name": "stdout",
     "output_type": "stream",
     "text": [
      "20230415 103803\t-0.0361465406407547\t4198\t2096\t20\t5\t51558000\t112\n"
     ]
    },
    {
     "name": "stderr",
     "output_type": "stream",
     "text": [
      "[mbo] 96: cp=-0.0361; minsplit=4198; minbucket=2096; maxdepth=20 : y = 5.16e+07 : 34.0 secs : infill_ei\n",
      "\n"
     ]
    },
    {
     "name": "stdout",
     "output_type": "stream",
     "text": [
      "20230415 103848\t-0.0280107336874628\t1592\t793\t16\t5\t52974000\t113\n"
     ]
    },
    {
     "name": "stderr",
     "output_type": "stream",
     "text": [
      "[mbo] 97: cp=-0.028; minsplit=1592; minbucket=793; maxdepth=16 : y = 5.3e+07 : 42.9 secs : infill_ei\n",
      "\n"
     ]
    },
    {
     "name": "stdout",
     "output_type": "stream",
     "text": [
      "20230415 103915\t-0.0514684958303027\t1730\t862\t6\t5\t53892000\t114\n"
     ]
    },
    {
     "name": "stderr",
     "output_type": "stream",
     "text": [
      "[mbo] 98: cp=-0.0515; minsplit=1730; minbucket=862; maxdepth=6 : y = 5.39e+07 : 25.2 secs : infill_ei\n",
      "\n"
     ]
    },
    {
     "name": "stdout",
     "output_type": "stream",
     "text": [
      "20230415 104014\t-0.742121191256517\t3530\t4\t20\t5\t52104000\t115\n"
     ]
    },
    {
     "name": "stderr",
     "output_type": "stream",
     "text": [
      "[mbo] 99: cp=-0.742; minsplit=3530; minbucket=4; maxdepth=20 : y = 5.21e+07 : 57.1 secs : infill_ei\n",
      "\n"
     ]
    },
    {
     "name": "stdout",
     "output_type": "stream",
     "text": [
      "20230415 104047\t-0.381886563712102\t5292\t2639\t20\t5\t50256000\t116\n"
     ]
    },
    {
     "name": "stderr",
     "output_type": "stream",
     "text": [
      "[mbo] 100: cp=-0.382; minsplit=5292; minbucket=2639; maxdepth=20 : y = 5.03e+07 : 32.0 secs : infill_ei\n",
      "\n",
      "Saved the final state in the file HT321.RDATA\n",
      "\n"
     ]
    }
   ],
   "source": [
    "\n",
    "setwd(\".\\\\\")   #Establezco el Working Directory\n",
    "\n",
    "#cargo los datos\n",
    "dataset  <- fread(\"./datasets/dataset_pequeno.csv\")\n",
    "#trabajo solo con los datos con clase, es decir 202107\n",
    "dataset  <- dataset[ clase_ternaria!= \"\" ]\n",
    "\n",
    "\n",
    "#creo la carpeta donde va el experimento\n",
    "# HT  representa  Hiperparameter Tuning\n",
    "dir.create( \"./exp/\",  showWarnings = FALSE ) \n",
    "dir.create( \"./exp/HT3210/\", showWarnings = FALSE )\n",
    "setwd(\"./exp/HT3210/\")   #Establezco el Working Directory DEL EXPERIMENTO\n",
    "\n",
    "\n",
    "archivo_log  <- \"HT321.txt\"\n",
    "archivo_BO   <- \"HT321.RDATA\"\n",
    "\n",
    "#leo si ya existe el log, para retomar en caso que se se corte el programa\n",
    "GLOBAL_iteracion  <- 0\n",
    "\n",
    "if( file.exists(archivo_log) )\n",
    "{\n",
    " tabla_log  <- fread( archivo_log )\n",
    " GLOBAL_iteracion  <- nrow( tabla_log )\n",
    "}\n",
    "\n",
    "\n",
    "\n",
    "#Aqui comienza la configuracion de la Bayesian Optimization\n",
    "\n",
    "funcion_optimizar  <- EstimarGanancia\n",
    "\n",
    "configureMlr( show.learner.output= FALSE)\n",
    "\n",
    "#configuro la busqueda bayesiana,  los hiperparametros que se van a optimizar\n",
    "#por favor, no desesperarse por lo complejo\n",
    "obj.fun  <- makeSingleObjectiveFunction(\n",
    "              fn=       funcion_optimizar,\n",
    "              minimize= FALSE,   #estoy Maximizando la ganancia\n",
    "              noisy=    TRUE,\n",
    "              par.set=  hs,\n",
    "              has.simple.signature = FALSE\n",
    "             )\n",
    "\n",
    "ctrl  <- makeMBOControl( save.on.disk.at.time= 600,  save.file.path= archivo_BO)\n",
    "ctrl  <- setMBOControlTermination(ctrl, iters= kBO_iter )\n",
    "ctrl  <- setMBOControlInfill(ctrl, crit= makeMBOInfillCritEI())\n",
    "\n",
    "surr.km  <- makeLearner(\"regr.km\", predict.type= \"se\", covtype= \"matern3_2\", control= list(trace= TRUE))\n",
    "\n",
    "#inicio la optimizacion bayesiana\n",
    "if( !file.exists( archivo_BO ) ) {\n",
    "\n",
    "  run  <- mbo( fun=     obj.fun, \n",
    "               learner= surr.km,\n",
    "               control= ctrl)\n",
    "\n",
    "} else  run  <- mboContinue( archivo_BO )   #retomo en caso que ya exista\n",
    "\n"
   ]
  }
 ],
 "metadata": {
  "kernelspec": {
   "display_name": "R",
   "language": "R",
   "name": "ir"
  },
  "language_info": {
   "codemirror_mode": "r",
   "file_extension": ".r",
   "mimetype": "text/x-r-source",
   "name": "R",
   "pygments_lexer": "r",
   "version": "4.2.3"
  },
  "orig_nbformat": 4
 },
 "nbformat": 4,
 "nbformat_minor": 2
}

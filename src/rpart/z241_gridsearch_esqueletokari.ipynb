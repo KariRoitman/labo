{
 "cells": [
  {
   "cell_type": "code",
   "execution_count": 9,
   "metadata": {
    "vscode": {
     "languageId": "r"
    }
   },
   "outputs": [
    {
     "data": {
      "text/html": [
       "<table class=\"dataframe\">\n",
       "<caption>A matrix: 2 × 6 of type dbl</caption>\n",
       "<thead>\n",
       "\t<tr><th></th><th scope=col>used</th><th scope=col>(Mb)</th><th scope=col>gc trigger</th><th scope=col>(Mb)</th><th scope=col>max used</th><th scope=col>(Mb)</th></tr>\n",
       "</thead>\n",
       "<tbody>\n",
       "\t<tr><th scope=row>Ncells</th><td> 675917</td><td>36.1</td><td> 1321268</td><td> 70.6</td><td> 1321268</td><td> 70.6</td></tr>\n",
       "\t<tr><th scope=row>Vcells</th><td>1226131</td><td> 9.4</td><td>57388138</td><td>437.9</td><td>71591703</td><td>546.3</td></tr>\n",
       "</tbody>\n",
       "</table>\n"
      ],
      "text/latex": [
       "A matrix: 2 × 6 of type dbl\n",
       "\\begin{tabular}{r|llllll}\n",
       "  & used & (Mb) & gc trigger & (Mb) & max used & (Mb)\\\\\n",
       "\\hline\n",
       "\tNcells &  675917 & 36.1 &  1321268 &  70.6 &  1321268 &  70.6\\\\\n",
       "\tVcells & 1226131 &  9.4 & 57388138 & 437.9 & 71591703 & 546.3\\\\\n",
       "\\end{tabular}\n"
      ],
      "text/markdown": [
       "\n",
       "A matrix: 2 × 6 of type dbl\n",
       "\n",
       "| <!--/--> | used | (Mb) | gc trigger | (Mb) | max used | (Mb) |\n",
       "|---|---|---|---|---|---|---|\n",
       "| Ncells |  675917 | 36.1 |  1321268 |  70.6 |  1321268 |  70.6 |\n",
       "| Vcells | 1226131 |  9.4 | 57388138 | 437.9 | 71591703 | 546.3 |\n",
       "\n"
      ],
      "text/plain": [
       "       used    (Mb) gc trigger (Mb)  max used (Mb) \n",
       "Ncells  675917 36.1  1321268    70.6  1321268  70.6\n",
       "Vcells 1226131  9.4 57388138   437.9 71591703 546.3"
      ]
     },
     "metadata": {},
     "output_type": "display_data"
    }
   ],
   "source": [
    "#esqueleto de grid search\n",
    "#se espera que los alumnos completen lo que falta para recorrer TODOS cuatro los hiperparametros \n",
    "\n",
    "rm( list=ls() )  #Borro todos los objetos\n",
    "gc()   #Garbage Collection\n",
    "\n",
    "require(\"data.table\")\n",
    "require(\"rpart\")\n",
    "require(\"parallel\")\n"
   ]
  },
  {
   "cell_type": "code",
   "execution_count": 10,
   "metadata": {
    "vscode": {
     "languageId": "r"
    }
   },
   "outputs": [],
   "source": [
    "\n",
    "ksemillas  <- c( 201107,  433781, 590041, 604711, 931517) #reemplazar por las propias semillas\n"
   ]
  },
  {
   "cell_type": "code",
   "execution_count": 11,
   "metadata": {
    "vscode": {
     "languageId": "r"
    }
   },
   "outputs": [],
   "source": [
    "\n",
    "#------------------------------------------------------------------------------\n",
    "#particionar agrega una columna llamada fold a un dataset que consiste en una particion estratificada segun agrupa\n",
    "# particionar( data=dataset, division=c(70,30), agrupa=clase_ternaria, seed=semilla)   crea una particion 70, 30 \n",
    "\n",
    "particionar  <- function( data,  division, agrupa=\"\",  campo=\"fold\", start=1, seed=NA )\n",
    "{\n",
    "  if( !is.na(seed) )   set.seed( seed )\n",
    "\n",
    "  bloque  <- unlist( mapply(  function(x,y) { rep( y, x )} ,   division,  seq( from=start, length.out=length(division) )  ) )  \n",
    "\n",
    "  data[ , (campo) :=  sample( rep( bloque, ceiling(.N/length(bloque))) )[1:.N],\n",
    "          by= agrupa ]\n",
    "}\n",
    "#------------------------------------------------------------------------------\n",
    "\n",
    "ArbolEstimarGanancia  <- function( semilla, param_basicos )\n",
    "{\n",
    "  #particiono estratificadamente el dataset\n",
    "  particionar( dataset, division=c(7,3), agrupa=\"clase_ternaria\", seed= semilla )  #Cambiar por la primer semilla de cada uno !\n",
    "\n",
    "  #genero el modelo\n",
    "  modelo  <- rpart(\"clase_ternaria ~ .\",     #quiero predecir clase_ternaria a partir del resto\n",
    "                   data= dataset[ fold==1],  #fold==1  es training,  el 70% de los datos\n",
    "                   xval= 0,\n",
    "                   control= param_basicos )  #aqui van los parametros del arbol\n",
    "\n",
    "  #aplico el modelo a los datos de testing\n",
    "  prediccion  <- predict( modelo,   #el modelo que genere recien\n",
    "                          dataset[ fold==2],  #fold==2  es testing, el 30% de los datos\n",
    "                          type= \"prob\") #type= \"prob\"  es que devuelva la probabilidad\n",
    "\n",
    "  #prediccion es una matriz con TRES columnas, llamadas \"BAJA+1\", \"BAJA+2\"  y \"CONTINUA\"\n",
    "  #cada columna es el vector de probabilidades \n",
    "\n",
    "\n",
    "  #calculo la ganancia en testing  qu es fold==2\n",
    "  ganancia_test  <- dataset[ fold==2, \n",
    "                             sum( ifelse( prediccion[, \"BAJA+2\"]  >  0.025,\n",
    "                                         ifelse( clase_ternaria==\"BAJA+2\", 117000, -3000 ),\n",
    "                                         0 ) )]\n",
    "\n",
    "  #escalo la ganancia como si fuera todo el dataset\n",
    "  ganancia_test_normalizada  <-  ganancia_test / 0.3\n",
    "\n",
    "  return( ganancia_test_normalizada )\n",
    "}\n"
   ]
  },
  {
   "cell_type": "code",
   "execution_count": 12,
   "metadata": {
    "vscode": {
     "languageId": "r"
    }
   },
   "outputs": [],
   "source": [
    "#------------------------------------------------------------------------------\n",
    "\n",
    "ArbolesMontecarlo  <- function( semillas, param_basicos )\n",
    "{\n",
    "  #la funcion mcmapply  llama a la funcion ArbolEstimarGanancia  tantas veces como valores tenga el vector  ksemillas\n",
    "  ganancias  <- mcmapply( ArbolEstimarGanancia, \n",
    "                          semillas,   #paso el vector de semillas, que debe ser el primer parametro de la funcion ArbolEstimarGanancia\n",
    "                          MoreArgs= list( param_basicos),  #aqui paso el segundo parametro\n",
    "                          SIMPLIFY= FALSE,\n",
    "                          mc.cores= 1 )  #se puede subir a 5 si posee Linux o Mac OS\n",
    "\n",
    "  ganancia_promedio  <- mean( unlist(ganancias) )\n",
    "\n",
    "  return( ganancia_promedio )\n",
    "}\n",
    "#------------------------------------------------------------------------------\n",
    "#------------------------------------------------------------------------------\n",
    "\n",
    "#Aqui se debe poner la carpeta de la computadora local\n",
    "setwd(\"C:/Users/karin/Desktop/MCD/LI1\")   #Establezco el Working Directory\n",
    "#cargo los datos\n"
   ]
  },
  {
   "cell_type": "code",
   "execution_count": 13,
   "metadata": {
    "vscode": {
     "languageId": "r"
    }
   },
   "outputs": [],
   "source": [
    "\n",
    "#cargo los datos\n",
    "dataset  <- fread(\"./datasets/dataset_pequeno.csv\")\n"
   ]
  },
  {
   "cell_type": "code",
   "execution_count": 14,
   "metadata": {
    "vscode": {
     "languageId": "r"
    }
   },
   "outputs": [],
   "source": [
    "\n",
    "#trabajo solo con los datos con clase, es decir 202107\n",
    "dataset  <- dataset[ clase_ternaria!= \"\" ]\n"
   ]
  },
  {
   "cell_type": "code",
   "execution_count": 15,
   "metadata": {
    "vscode": {
     "languageId": "r"
    }
   },
   "outputs": [],
   "source": [
    "\n",
    "#genero el archivo para Kaggle\n",
    "#creo la carpeta donde va el experimento\n",
    "# HT  representa  Hiperparameter Tuning\n",
    "dir.create( \"./exp/\",  showWarnings = FALSE ) \n",
    "dir.create( \"./exp/HT2020/\", showWarnings = FALSE )\n",
    "archivo_salida  <- \"./exp/HT2020/gridsearchkari2.csv\"\n"
   ]
  },
  {
   "cell_type": "code",
   "execution_count": 16,
   "metadata": {
    "vscode": {
     "languageId": "r"
    }
   },
   "outputs": [],
   "source": [
    "\n",
    "#Escribo los titulos al archivo donde van a quedar los resultados\n",
    "#atencion que si ya existe el archivo, esta instruccion LO SOBREESCRIBE, y lo que estaba antes se pierde\n",
    "#la forma que no suceda lo anterior es con append=TRUE\n",
    "cat( file=archivo_salida,\n",
    "     sep= \"\",\n",
    "     \"cp\", \"\\t\",\n",
    "     \"min_split\", \"\\t\",\n",
    "     \"min_bucket\", \"\\t\",\n",
    "     \"max_depth\", \"\\t\",\n",
    "     \"ganancia_promedio\", \"\\n\")\n",
    "\n"
   ]
  },
  {
   "cell_type": "code",
   "execution_count": 17,
   "metadata": {
    "vscode": {
     "languageId": "r"
    }
   },
   "outputs": [],
   "source": [
    "\n",
    "for( vmax_depth  in  c( 6, 8, 7, 9 ) )\n",
    "{\n",
    "  for( vmin_split  in  c(950, 900, 800, 750, 700, 650)  )\n",
    "  {\n",
    "    for(vmin_bucket in c(110, 128, 135, 140, 150, 200))\n",
    "    {  \n",
    "      for(vcp  in  c(-1))\n",
    "      {\n",
    "\n",
    "        #notar como se agrega\n",
    "        param_basicos  <- list( \"cp\"=        vcp,         #complejidad minima\n",
    "                                \"minsplit\"=  vmin_split,  #minima cantidad de registros en un nodo para hacer el split\n",
    "                                \"minbucket\"= vmin_bucket, #minima cantidad de registros en una hoja\n",
    "                                \"maxdepth\"=  vmax_depth ) #profundidad máxima del arbol\n",
    "\n",
    "        ganancia_promedio  <- ArbolesMontecarlo( ksemillas,  param_basicos )\n",
    "\n",
    "        #escribo los resultados al archivo de salida\n",
    "        cat(  file=archivo_salida,\n",
    "              append= TRUE,\n",
    "              sep= \"\",\n",
    "              vcp, \"\\t\",\n",
    "              vmin_split, \"\\t\",\n",
    "              vmin_bucket, \"\\t\",\n",
    "              vmax_depth, \"\\t\",\n",
    "              ganancia_promedio, \"\\n\"  )\n",
    "      }\n",
    "    }\n",
    "  }\n",
    "}"
   ]
  }
 ],
 "metadata": {
  "kernelspec": {
   "display_name": "R",
   "language": "R",
   "name": "ir"
  },
  "language_info": {
   "codemirror_mode": "r",
   "file_extension": ".r",
   "mimetype": "text/x-r-source",
   "name": "R",
   "pygments_lexer": "r",
   "version": "4.2.3"
  },
  "orig_nbformat": 4
 },
 "nbformat": 4,
 "nbformat_minor": 2
}

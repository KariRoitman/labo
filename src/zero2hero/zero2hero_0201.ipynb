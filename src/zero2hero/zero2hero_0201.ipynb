{
 "cells": [
  {
   "cell_type": "markdown",
   "metadata": {},
   "source": [
    "# Zero to Hero"
   ]
  },
  {
   "cell_type": "markdown",
   "metadata": {},
   "source": [
    "## 2.01 Optimizacion Bayesiana"
   ]
  },
  {
   "cell_type": "raw",
   "metadata": {},
   "source": [
    "El objetivo es mostrar como funciona la Optimizacion Bayesiana en el caso mas simple : una funcion univariada"
   ]
  },
  {
   "cell_type": "markdown",
   "metadata": {},
   "source": [
    "### Advertencia"
   ]
  },
  {
   "cell_type": "markdown",
   "metadata": {},
   "source": [
    "El uso del método de Optimización Bayesiana para la optimización de hiperparámetros en modelos predictivos tiene menos de una década.\n",
    "Entender los fundamentos de la O.B. requieren de una sólida formación matemática y **no** son el objetivo de esta asignatura.\n",
    "Para quienes deseen aventurarse a los detalles técnicos:\n",
    "* El paper original de la libreria mlrMBO (año 2018 )   https://arxiv.org/pdf/1703.03373.pdf\n",
    "* El método de Kriging , tal cual se deriva del uso original, en este pequeño libro de 106 páginas \"Basic Steps in Geostatistics: The Variogram and Kriging\" https://www.pdfdrive.com/basic-steps-in-geostatistics-the-variogram-and-kriging-e187336318.html"
   ]
  },
  {
   "cell_type": "markdown",
   "metadata": {},
   "source": [
    "### El código"
   ]
  },
  {
   "cell_type": "code",
   "execution_count": 5,
   "metadata": {
    "tags": [],
    "vscode": {
     "languageId": "r"
    }
   },
   "outputs": [
    {
     "data": {
      "text/html": [
       "<table class=\"dataframe\">\n",
       "<caption>A matrix: 2 × 6 of type dbl</caption>\n",
       "<thead>\n",
       "\t<tr><th></th><th scope=col>used</th><th scope=col>(Mb)</th><th scope=col>gc trigger</th><th scope=col>(Mb)</th><th scope=col>max used</th><th scope=col>(Mb)</th></tr>\n",
       "</thead>\n",
       "<tbody>\n",
       "\t<tr><th scope=row>Ncells</th><td> 647590</td><td>34.6</td><td>1321248</td><td>70.6</td><td>1321248</td><td>70.6</td></tr>\n",
       "\t<tr><th scope=row>Vcells</th><td>1157886</td><td> 8.9</td><td>8388608</td><td>64.0</td><td>1632619</td><td>12.5</td></tr>\n",
       "</tbody>\n",
       "</table>\n"
      ],
      "text/latex": [
       "A matrix: 2 × 6 of type dbl\n",
       "\\begin{tabular}{r|llllll}\n",
       "  & used & (Mb) & gc trigger & (Mb) & max used & (Mb)\\\\\n",
       "\\hline\n",
       "\tNcells &  647590 & 34.6 & 1321248 & 70.6 & 1321248 & 70.6\\\\\n",
       "\tVcells & 1157886 &  8.9 & 8388608 & 64.0 & 1632619 & 12.5\\\\\n",
       "\\end{tabular}\n"
      ],
      "text/markdown": [
       "\n",
       "A matrix: 2 × 6 of type dbl\n",
       "\n",
       "| <!--/--> | used | (Mb) | gc trigger | (Mb) | max used | (Mb) |\n",
       "|---|---|---|---|---|---|---|\n",
       "| Ncells |  647590 | 34.6 | 1321248 | 70.6 | 1321248 | 70.6 |\n",
       "| Vcells | 1157886 |  8.9 | 8388608 | 64.0 | 1632619 | 12.5 |\n",
       "\n"
      ],
      "text/plain": [
       "       used    (Mb) gc trigger (Mb) max used (Mb)\n",
       "Ncells  647590 34.6 1321248    70.6 1321248  70.6\n",
       "Vcells 1157886  8.9 8388608    64.0 1632619  12.5"
      ]
     },
     "metadata": {},
     "output_type": "display_data"
    },
    {
     "name": "stderr",
     "output_type": "stream",
     "text": [
      "Loading required package: DiceKriging\n",
      "\n",
      "Loading required package: mlrMBO\n",
      "\n",
      "Loading required package: mlr\n",
      "\n",
      "Loading required package: ParamHelpers\n",
      "\n",
      "Warning message: 'mlr' is in 'maintenance-only' mode since July 2019.\n",
      "Future development will only happen in 'mlr3'\n",
      "(<https://mlr3.mlr-org.com>). Due to the focus on 'mlr3' there might be\n",
      "uncaught bugs meanwhile in {mlr} - please consider switching.\n",
      "\n",
      "Loading required package: smoof\n",
      "\n",
      "Loading required package: checkmate\n",
      "\n",
      "\n",
      "Attaching package: 'checkmate'\n",
      "\n",
      "\n",
      "The following object is masked from 'package:DiceKriging':\n",
      "\n",
      "    checkNames\n",
      "\n",
      "\n"
     ]
    }
   ],
   "source": [
    "#Ejemplo de optimizacion bayesiana, univariada\n",
    "\n",
    "#limpio la memoria\n",
    "rm( list=ls() )  #remove all objects\n",
    "gc()             #garbage collection\n",
    "\n",
    "require(\"data.table\")\n",
    "#paquetes necesarios para la Bayesian Optimization\n",
    "require(\"DiceKriging\")\n",
    "require(\"mlrMBO\")\n",
    "\n",
    "options(repr.plot.width=20, repr.plot.height=10)"
   ]
  },
  {
   "cell_type": "markdown",
   "metadata": {},
   "source": [
    "### Defino la funcion a optimizar, un polinomio de grado 4"
   ]
  },
  {
   "cell_type": "code",
   "execution_count": 6,
   "metadata": {
    "tags": [],
    "vscode": {
     "languageId": "r"
    }
   },
   "outputs": [],
   "source": [
    "func_univariada01  <- function( x )\n",
    "{\n",
    "  y  <- -2 * (x+13) * (x-3) * (x-7) * (x-19)\n",
    "\n",
    "  return( y )\n",
    "}"
   ]
  },
  {
   "cell_type": "markdown",
   "metadata": {},
   "source": [
    "Grafico la funcion"
   ]
  },
  {
   "cell_type": "code",
   "execution_count": 7,
   "metadata": {
    "tags": [],
    "vscode": {
     "languageId": "r"
    }
   },
   "outputs": [
    {
     "data": {
      "image/png": "[encoded data removed]",
      "text/plain": [
       "plot without title"
      ]
     },
     "metadata": {
      "image/png": {
       "height": 600,
       "width": 1200
      }
     },
     "output_type": "display_data"
    }
   ],
   "source": [
    "intervalo  <- seq(-15,21,0.1)\n",
    "plot(intervalo, func_univariada01(intervalo))"
   ]
  },
  {
   "cell_type": "markdown",
   "metadata": {},
   "source": [
    "La funcion tiene dos máximos, uno de ellos es el global."
   ]
  },
  {
   "cell_type": "markdown",
   "metadata": {},
   "source": [
    "### Optimizacion Bayesiana"
   ]
  },
  {
   "cell_type": "markdown",
   "metadata": {},
   "source": [
    "¿Qué tan rápido encontrará la Optmización Bayesiana el máximo global?"
   ]
  },
  {
   "cell_type": "markdown",
   "metadata": {},
   "source": [
    "Defino las caracteristicas de la optimizacion"
   ]
  },
  {
   "cell_type": "markdown",
   "metadata": {},
   "source": [
    "* **fn**    es el nombre de la funcion\n",
    "* **minimize**   por defecto es TRUE,  pero en este caso le asigno FALSE, ya que deseo maximizar  el valor\n",
    "* **par.set**  indica cuales son los hiperparmetros de la funcion, en este caso hay una sola variable que llamé  x\n",
    "---\n",
    "* **makeNumericParam** indica que ese hiperparámetro es un numero real, una variable continua  ( no es ni un entero ni una categoria )"
   ]
  },
  {
   "cell_type": "code",
   "execution_count": 8,
   "metadata": {
    "tags": [],
    "vscode": {
     "languageId": "r"
    }
   },
   "outputs": [],
   "source": [
    "obj.fun  <- makeSingleObjectiveFunction(\n",
    "              fn=       func_univariada01,\n",
    "              minimize= FALSE,   #estoy Maximizando la ganancia\n",
    "              par.set=  makeParamSet(  makeNumericParam( \"x\", lower= -100, upper=  100) ),\n",
    "             )"
   ]
  },
  {
   "cell_type": "markdown",
   "metadata": {},
   "source": [
    "ahora defino la funcion proxy, la que se construye internamente intentando emular la realidad"
   ]
  },
  {
   "cell_type": "markdown",
   "metadata": {},
   "source": [
    "* **cl**  es la clase de learner,  \"reg.km\" indica el método de kriging \"**reg**ression **k**riging **m**ethodd\"\n",
    "* **predict.type**  es el tipo de prediccion que deseo me devuelva, \"se\" significa que espero dos valores  media y standard error\n",
    "* **covtype**    es la funcion de covarianza que se va a utilizar, cual es la covarianza de dos mediciones como fucion de la distancia entre los puntos donde fueron tomadas las mediciones, fue inventada por Bertil Matérn "
   ]
  },
  {
   "cell_type": "markdown",
   "metadata": {},
   "source": [
    "El método de kriging puede verse en su forma original (la geología) , esta presentación https://www.youtube.com/watch?v=ZB7GvJrNKq0"
   ]
  },
  {
   "cell_type": "code",
   "execution_count": 9,
   "metadata": {
    "tags": [],
    "vscode": {
     "languageId": "r"
    }
   },
   "outputs": [],
   "source": [
    "fproxy  <- makeLearner( cl= \"regr.km\",\n",
    "                        predict.type= \"se\", \n",
    "                        covtype= \"matern3_2\" )"
   ]
  },
  {
   "cell_type": "markdown",
   "metadata": {},
   "source": [
    "ultima definicion,  especificar la optimizacion bayesiana\n",
    "*  **crit**   indica el criterio con el que se completan los valores iniciales \"no inteligentes\"\n",
    "*  **iters**  indica la cantidad de iteraciones inteligentes que hará la Optimizacion Bayesiana, las que son adicionales a las primeras cuatro de este caso.*  **iters**  indica la cantidad de iteraciones inteligentes que hará la Optimizacion Bayesiana, las que son adicionales a las primeras cuatro de este caso."
   ]
  },
  {
   "cell_type": "code",
   "execution_count": 10,
   "metadata": {
    "tags": [],
    "vscode": {
     "languageId": "r"
    }
   },
   "outputs": [],
   "source": [
    "ctrl  <- makeMBOControl()\n",
    "ctrl  <- setMBOControlInfill( ctrl, crit= makeMBOInfillCritEI())\n",
    "ctrl  <- setMBOControlTermination( ctrl, iters= 25 )"
   ]
  },
  {
   "cell_type": "markdown",
   "metadata": {},
   "source": [
    "finalmente , lanzo la Optimizacion Bayesiana"
   ]
  },
  {
   "cell_type": "markdown",
   "metadata": {},
   "source": [
    "* **fun**  es la especificacion de la funcion que deseo optimizar, si maximizo o minimizo, cuales son las variables de la misma\n",
    "* **learner**  especifica cual es la función proxy interna que va a utilizar la Optimziación Bayesiana\n",
    "* **control**  indica la la forma en que se harán las iteraciones"
   ]
  },
  {
   "cell_type": "code",
   "execution_count": 11,
   "metadata": {
    "tags": [],
    "vscode": {
     "languageId": "r"
    }
   },
   "outputs": [
    {
     "name": "stderr",
     "output_type": "stream",
     "text": [
      "Computing y column(s) for design. Not provided.\n",
      "\n",
      "[mbo] 0: x=65.5 : y = -2.66e+07 : 0.0 secs : initdesign\n",
      "\n",
      "[mbo] 0: x=-12.7 : y = 5.08e+03 : 0.0 secs : initdesign\n",
      "\n",
      "[mbo] 0: x=-50.5 : y = -1.61e+07 : 0.0 secs : initdesign\n",
      "\n",
      "[mbo] 0: x=30.9 : y = -6.95e+05 : 0.0 secs : initdesign\n",
      "\n"
     ]
    },
    {
     "name": "stdout",
     "output_type": "stream",
     "text": [
      "\n",
      "optimisation start\n",
      "------------------\n",
      "* estimation method   : MLE \n",
      "* optimisation method : BFGS \n",
      "* analytical gradient : used\n",
      "* trend model : ~1\n",
      "* covariance model : \n",
      "  - type :  matern3_2 \n",
      "  - nugget : NO\n",
      "  - parameters lower bounds :  1e-10 \n",
      "  - parameters upper bounds :  231.9324 \n",
      "  - best initial criterion value(s) :  -70.58324 \n",
      "\n",
      "N = 1, M = 5 machine precision = 2.22045e-16\n",
      "At X0, 0 variables are exactly at the bounds\n",
      "At iterate     0  f=       70.583  |proj g|=    0.0035688\n",
      "At iterate     1  f =       70.583  |proj g|=     0.0035601\n",
      "At iterate     2  f =        70.58  |proj g|=    0.00093738\n",
      "At iterate     3  f =        70.58  |proj g|=    0.00046381\n",
      "At iterate     4  f =        70.58  |proj g|=     0.0001948\n",
      "At iterate     5  f =        70.58  |proj g|=    8.9811e-05\n",
      "At iterate     6  f =        70.58  |proj g|=    4.0817e-05\n",
      "At iterate     7  f =        70.58  |proj g|=    1.8934e-05\n",
      "At iterate     8  f =        70.58  |proj g|=    8.8153e-06\n",
      "At iterate     9  f =        70.58  |proj g|=    4.1359e-06\n",
      "At iterate    10  f =        70.58  |proj g|=    1.9491e-06\n",
      "At iterate    11  f =        70.58  |proj g|=    9.2268e-07\n",
      "At iterate    12  f =        70.58  |proj g|=    4.3832e-07\n",
      "\n",
      "iterations 12\n",
      "function evaluations 13\n",
      "segments explored during Cauchy searches 12\n",
      "BFGS updates skipped 0\n",
      "active bounds at final generalized Cauchy point 0\n",
      "norm of the final projected gradient 4.38323e-07\n",
      "final function value 70.5796\n",
      "\n",
      "F = 70.5796\n",
      "final  value 70.579613 \n",
      "converged\n"
     ]
    },
    {
     "name": "stderr",
     "output_type": "stream",
     "text": [
      "[mbo] 1: x=-14.8 : y = -4.81e+04 : 0.0 secs : infill_ei\n",
      "\n"
     ]
    },
    {
     "name": "stdout",
     "output_type": "stream",
     "text": [
      "\n",
      "optimisation start\n",
      "------------------\n",
      "* estimation method   : MLE \n",
      "* optimisation method : BFGS \n",
      "* analytical gradient : used\n",
      "* trend model : ~1\n",
      "* covariance model : \n",
      "  - type :  matern3_2 \n",
      "  - nugget : NO\n",
      "  - parameters lower bounds :  1e-10 \n",
      "  - parameters upper bounds :  231.9324 \n",
      "  - best initial criterion value(s) :  -86.18619 \n",
      "\n",
      "N = 1, M = 5 machine precision = 2.22045e-16\n",
      "At X0, 0 variables are exactly at the bounds\n",
      "At iterate     0  f=       86.186  |proj g|=    0.0016752\n",
      "At iterate     1  f =       86.186  |proj g|=     0.0016727\n",
      "At iterate     2  f =       86.185  |proj g|=    8.2848e-05\n",
      "At iterate     3  f =       86.185  |proj g|=    4.3033e-06\n",
      "At iterate     4  f =       86.185  |proj g|=    1.1698e-08\n",
      "\n",
      "iterations 4\n",
      "function evaluations 5\n",
      "segments explored during Cauchy searches 4\n",
      "BFGS updates skipped 0\n",
      "active bounds at final generalized Cauchy point 0\n",
      "norm of the final projected gradient 1.16978e-08\n",
      "final function value 86.1852\n",
      "\n",
      "F = 86.1852\n",
      "final  value 86.185206 \n",
      "converged\n"
     ]
    },
    {
     "name": "stderr",
     "output_type": "stream",
     "text": [
      "[mbo] 2: x=13.7 : y = 2.03e+04 : 0.0 secs : infill_ei\n",
      "\n"
     ]
    },
    {
     "name": "stdout",
     "output_type": "stream",
     "text": [
      "\n",
      "optimisation start\n",
      "------------------\n",
      "* estimation method   : MLE \n",
      "* optimisation method : BFGS \n",
      "* analytical gradient : used\n",
      "* trend model : ~1\n",
      "* covariance model : \n",
      "  - type :  matern3_2 \n",
      "  - nugget : NO\n",
      "  - parameters lower bounds :  1e-10 \n",
      "  - parameters upper bounds :  231.9324 \n",
      "  - best initial criterion value(s) :  -102.7352 \n",
      "\n",
      "N = 1, M = 5 machine precision = 2.22045e-16\n",
      "At X0, 0 variables are exactly at the bounds\n",
      "At iterate     0  f=       102.74  |proj g|=    0.0067245\n",
      "At iterate     1  f =       102.74  |proj g|=     0.0067215\n",
      "At iterate     2  f =        102.7  |proj g|=     0.0020188\n",
      "At iterate     3  f =        102.7  |proj g|=     0.0010983\n",
      "At iterate     4  f =        102.7  |proj g|=    9.8141e-05\n",
      "At iterate     5  f =        102.7  |proj g|=    4.2871e-06\n",
      "At iterate     6  f =        102.7  |proj g|=    1.7726e-08\n",
      "\n",
      "iterations 6\n",
      "function evaluations 8\n",
      "segments explored during Cauchy searches 6\n",
      "BFGS updates skipped 0\n",
      "active bounds at final generalized Cauchy point 0\n",
      "norm of the final projected gradient 1.77262e-08\n",
      "final function value 102.697\n",
      "\n",
      "F = 102.697\n",
      "final  value 102.697207 \n",
      "converged\n"
     ]
    },
    {
     "name": "stderr",
     "output_type": "stream",
     "text": [
      "[mbo] 3: x=22.6 : y = -7.72e+04 : 0.0 secs : infill_ei\n",
      "\n"
     ]
    },
    {
     "name": "stdout",
     "output_type": "stream",
     "text": [
      "\n",
      "optimisation start\n",
      "------------------\n",
      "* estimation method   : MLE \n",
      "* optimisation method : BFGS \n",
      "* analytical gradient : used\n",
      "* trend model : ~1\n",
      "* covariance model : \n",
      "  - type :  matern3_2 \n",
      "  - nugget : NO\n",
      "  - parameters lower bounds :  1e-10 \n",
      "  - parameters upper bounds :  231.9324 \n",
      "  - best initial criterion value(s) :  -117.9238 \n",
      "\n",
      "N = 1, M = 5 machine precision = 2.22045e-16\n",
      "At X0, 0 variables are exactly at the bounds\n",
      "At iterate     0  f=       117.92  |proj g|=    0.0015579\n",
      "At iterate     1  f =       117.92  |proj g|=     0.0015573\n",
      "At iterate     2  f =       117.92  |proj g|=    0.00019233\n",
      "At iterate     3  f =       117.92  |proj g|=    2.0263e-05\n",
      "At iterate     4  f =       117.92  |proj g|=     2.325e-07\n",
      "At iterate     5  f =       117.92  |proj g|=    2.8518e-10\n",
      "\n",
      "iterations 5\n",
      "function evaluations 6\n",
      "segments explored during Cauchy searches 5\n",
      "BFGS updates skipped 0\n",
      "active bounds at final generalized Cauchy point 0\n",
      "norm of the final projected gradient 2.85175e-10\n",
      "final function value 117.921\n",
      "\n",
      "F = 117.921\n",
      "final  value 117.921103 \n",
      "converged\n"
     ]
    },
    {
     "name": "stderr",
     "output_type": "stream",
     "text": [
      "[mbo] 4: x=1.12 : y = 5.58e+03 : 0.0 secs : infill_ei\n",
      "\n"
     ]
    },
    {
     "name": "stdout",
     "output_type": "stream",
     "text": [
      "\n",
      "optimisation start\n",
      "------------------\n",
      "* estimation method   : MLE \n",
      "* optimisation method : BFGS \n",
      "* analytical gradient : used\n",
      "* trend model : ~1\n",
      "* covariance model : \n",
      "  - type :  matern3_2 \n",
      "  - nugget : NO\n",
      "  - parameters lower bounds :  1e-10 \n",
      "  - parameters upper bounds :  231.9324 \n",
      "  - best initial criterion value(s) :  -133.1193 \n",
      "\n",
      "N = 1, M = 5 machine precision = 2.22045e-16\n",
      "At X0, 0 variables are exactly at the bounds\n",
      "At iterate     0  f=       133.12  |proj g|=    0.0012599\n",
      "At iterate     1  f =       133.12  |proj g|=     0.0012596\n",
      "At iterate     2  f =       133.12  |proj g|=    0.00017295\n",
      "At iterate     3  f =       133.12  |proj g|=    1.9913e-05\n",
      "At iterate     4  f =       133.12  |proj g|=    2.7473e-07\n",
      "At iterate     5  f =       133.12  |proj g|=    4.4411e-10\n",
      "\n",
      "iterations 5\n",
      "function evaluations 6\n",
      "segments explored during Cauchy searches 5\n",
      "BFGS updates skipped 0\n",
      "active bounds at final generalized Cauchy point 0\n",
      "norm of the final projected gradient 4.44107e-10\n",
      "final function value 133.116\n",
      "\n",
      "F = 133.116\n",
      "final  value 133.116174 \n",
      "converged\n"
     ]
    },
    {
     "name": "stderr",
     "output_type": "stream",
     "text": [
      "[mbo] 5: x=-5.44 : y = 3.88e+04 : 0.0 secs : infill_ei\n",
      "\n"
     ]
    },
    {
     "name": "stdout",
     "output_type": "stream",
     "text": [
      "\n",
      "optimisation start\n",
      "------------------\n",
      "* estimation method   : MLE \n",
      "* optimisation method : BFGS \n",
      "* analytical gradient : used\n",
      "* trend model : ~1\n",
      "* covariance model : \n",
      "  - type :  matern3_2 \n",
      "  - nugget : NO\n",
      "  - parameters lower bounds :  1e-10 \n",
      "  - parameters upper bounds :  231.9324 \n",
      "  - best initial criterion value(s) :  -147.2516 \n",
      "\n",
      "N = 1, M = 5 machine precision = 2.22045e-16\n",
      "At X0, 0 variables are exactly at the bounds\n",
      "At iterate     0  f=       147.25  |proj g|=    2.161e-05\n",
      "At iterate     1  f =       147.25  |proj g|=    2.1606e-05\n",
      "\n",
      "iterations 1\n",
      "function evaluations 2\n",
      "segments explored during Cauchy searches 1\n",
      "BFGS updates skipped 0\n",
      "active bounds at final generalized Cauchy point 0\n",
      "norm of the final projected gradient 2.16064e-05\n",
      "final function value 147.252\n",
      "\n",
      "F = 147.252\n",
      "final  value 147.251588 \n",
      "converged\n"
     ]
    },
    {
     "name": "stderr",
     "output_type": "stream",
     "text": [
      "[mbo] 6: x=7.69 : y = 1.52e+03 : 0.0 secs : infill_ei\n",
      "\n"
     ]
    },
    {
     "name": "stdout",
     "output_type": "stream",
     "text": [
      "\n",
      "optimisation start\n",
      "------------------\n",
      "* estimation method   : MLE \n",
      "* optimisation method : BFGS \n",
      "* analytical gradient : used\n",
      "* trend model : ~1\n",
      "* covariance model : \n",
      "  - type :  matern3_2 \n",
      "  - nugget : NO\n",
      "  - parameters lower bounds :  1e-10 \n",
      "  - parameters upper bounds :  231.9324 \n",
      "  - best initial criterion value(s) :  -161.1552 \n",
      "\n",
      "N = 1, M = 5 machine precision = 2.22045e-16\n",
      "At X0, 0 variables are exactly at the bounds\n",
      "At iterate     0  f=       161.16  |proj g|=   0.00022788\n",
      "At iterate     1  f =       161.16  |proj g|=    0.00022784\n",
      "\n",
      "iterations 1\n",
      "function evaluations 2\n",
      "segments explored during Cauchy searches 1\n",
      "BFGS updates skipped 0\n",
      "active bounds at final generalized Cauchy point 0\n",
      "norm of the final projected gradient 0.000227844\n",
      "final function value 161.155\n",
      "\n",
      "F = 161.155\n",
      "final  value 161.155189 \n",
      "converged\n"
     ]
    },
    {
     "name": "stderr",
     "output_type": "stream",
     "text": [
      "[mbo] 7: x=17.7 : y = 1.25e+04 : 0.0 secs : infill_ei\n",
      "\n"
     ]
    },
    {
     "name": "stdout",
     "output_type": "stream",
     "text": [
      "\n",
      "optimisation start\n",
      "------------------\n",
      "* estimation method   : MLE \n",
      "* optimisation method : BFGS \n",
      "* analytical gradient : used\n",
      "* trend model : ~1\n",
      "* covariance model : \n",
      "  - type :  matern3_2 \n",
      "  - nugget : NO\n",
      "  - parameters lower bounds :  1e-10 \n",
      "  - parameters upper bounds :  231.9324 \n",
      "  - best initial criterion value(s) :  -174.4788 \n",
      "\n",
      "N = 1, M = 5 machine precision = 2.22045e-16\n",
      "At X0, 0 variables are exactly at the bounds\n",
      "At iterate     0  f=       174.48  |proj g|=    0.0015447\n",
      "At iterate     1  f =       174.48  |proj g|=     0.0015445\n",
      "At iterate     2  f =       174.47  |proj g|=    0.00022058\n",
      "At iterate     3  f =       174.47  |proj g|=    3.7337e-05\n",
      "At iterate     4  f =       174.47  |proj g|=    1.1323e-06\n",
      "At iterate     5  f =       174.47  |proj g|=    6.0405e-09\n",
      "\n",
      "iterations 5\n",
      "function evaluations 6\n",
      "segments explored during Cauchy searches 5\n",
      "BFGS updates skipped 0\n",
      "active bounds at final generalized Cauchy point 0\n",
      "norm of the final projected gradient 6.04049e-09\n",
      "final function value 174.469\n",
      "\n",
      "F = 174.469\n",
      "final  value 174.469075 \n",
      "converged\n"
     ]
    },
    {
     "name": "stderr",
     "output_type": "stream",
     "text": [
      "[mbo] 8: x=-8.74 : y = 4.37e+04 : 0.0 secs : infill_ei\n",
      "\n"
     ]
    },
    {
     "name": "stdout",
     "output_type": "stream",
     "text": [
      "\n",
      "optimisation start\n",
      "------------------\n",
      "* estimation method   : MLE \n",
      "* optimisation method : BFGS \n",
      "* analytical gradient : used\n",
      "* trend model : ~1\n",
      "* covariance model : \n",
      "  - type :  matern3_2 \n",
      "  - nugget : NO\n",
      "  - parameters lower bounds :  1e-10 \n",
      "  - parameters upper bounds :  231.9324 \n",
      "  - best initial criterion value(s) :  -187.3429 \n",
      "\n",
      "N = 1, M = 5 machine precision = 2.22045e-16\n",
      "At X0, 0 variables are exactly at the bounds\n",
      "At iterate     0  f=       187.34  |proj g|=   0.00016664\n",
      "At iterate     1  f =       187.34  |proj g|=    0.00016663\n",
      "\n",
      "iterations 1\n",
      "function evaluations 2\n",
      "segments explored during Cauchy searches 1\n",
      "BFGS updates skipped 0\n",
      "active bounds at final generalized Cauchy point 0\n",
      "norm of the final projected gradient 0.00016663\n",
      "final function value 187.343\n",
      "\n",
      "F = 187.343\n",
      "final  value 187.342919 \n",
      "converged\n"
     ]
    },
    {
     "name": "stderr",
     "output_type": "stream",
     "text": [
      "[mbo] 9: x=-2.28 : y = 2.24e+04 : 0.0 secs : infill_ei\n",
      "\n"
     ]
    },
    {
     "name": "stdout",
     "output_type": "stream",
     "text": [
      "\n",
      "optimisation start\n",
      "------------------\n",
      "* estimation method   : MLE \n",
      "* optimisation method : BFGS \n",
      "* analytical gradient : used\n",
      "* trend model : ~1\n",
      "* covariance model : \n",
      "  - type :  matern3_2 \n",
      "  - nugget : NO\n",
      "  - parameters lower bounds :  1e-10 \n",
      "  - parameters upper bounds :  231.9324 \n",
      "  - best initial criterion value(s) :  -200.0198 \n",
      "\n",
      "N = 1, M = 5 machine precision = 2.22045e-16\n",
      "At X0, 0 variables are exactly at the bounds\n",
      "At iterate     0  f=       200.02  |proj g|=   0.00032067\n",
      "At iterate     1  f =       200.02  |proj g|=    0.00032066\n",
      "\n",
      "iterations 1\n",
      "function evaluations 2\n",
      "segments explored during Cauchy searches 1\n",
      "BFGS updates skipped 0\n",
      "active bounds at final generalized Cauchy point 0\n",
      "norm of the final projected gradient 0.000320656\n",
      "final function value 200.02\n",
      "\n",
      "F = 200.02\n",
      "final  value 200.019820 \n",
      "converged\n"
     ]
    },
    {
     "name": "stderr",
     "output_type": "stream",
     "text": [
      "[mbo] 10: x=4.47 : y = -1.89e+03 : 0.0 secs : infill_ei\n",
      "\n"
     ]
    },
    {
     "name": "stdout",
     "output_type": "stream",
     "text": [
      "\n",
      "optimisation start\n",
      "------------------\n",
      "* estimation method   : MLE \n",
      "* optimisation method : BFGS \n",
      "* analytical gradient : used\n",
      "* trend model : ~1\n",
      "* covariance model : \n",
      "  - type :  matern3_2 \n",
      "  - nugget : NO\n",
      "  - parameters lower bounds :  1e-10 \n",
      "  - parameters upper bounds :  231.9324 \n",
      "  - best initial criterion value(s) :  -212.6321 \n",
      "\n",
      "N = 1, M = 5 machine precision = 2.22045e-16\n",
      "At X0, 0 variables are exactly at the bounds\n",
      "At iterate     0  f=       212.63  |proj g|=   0.00035519\n",
      "At iterate     1  f =       212.63  |proj g|=    0.00035518\n",
      "\n",
      "iterations 1\n",
      "function evaluations 2\n",
      "segments explored during Cauchy searches 1\n",
      "BFGS updates skipped 0\n",
      "active bounds at final generalized Cauchy point 0\n",
      "norm of the final projected gradient 0.000355178\n",
      "final function value 212.632\n",
      "\n",
      "F = 212.632\n",
      "final  value 212.632128 \n",
      "converged\n"
     ]
    },
    {
     "name": "stderr",
     "output_type": "stream",
     "text": [
      "[mbo] 11: x=10.9 : y = 1.18e+04 : 0.0 secs : infill_ei\n",
      "\n"
     ]
    },
    {
     "name": "stdout",
     "output_type": "stream",
     "text": [
      "\n",
      "optimisation start\n",
      "------------------\n",
      "* estimation method   : MLE \n",
      "* optimisation method : BFGS \n",
      "* analytical gradient : used\n",
      "* trend model : ~1\n",
      "* covariance model : \n",
      "  - type :  matern3_2 \n",
      "  - nugget : NO\n",
      "  - parameters lower bounds :  1e-10 \n",
      "  - parameters upper bounds :  231.9324 \n",
      "  - best initial criterion value(s) :  -225.0351 \n",
      "\n",
      "N = 1, M = 5 machine precision = 2.22045e-16\n",
      "At X0, 0 variables are exactly at the bounds\n",
      "At iterate     0  f=       225.04  |proj g|=   0.00034596\n",
      "At iterate     1  f =       225.04  |proj g|=    0.00034595\n",
      "\n",
      "iterations 1\n",
      "function evaluations 2\n",
      "segments explored during Cauchy searches 1\n",
      "BFGS updates skipped 0\n",
      "active bounds at final generalized Cauchy point 0\n",
      "norm of the final projected gradient 0.000345945\n",
      "final function value 225.035\n",
      "\n",
      "F = 225.035\n",
      "final  value 225.035138 \n",
      "converged\n"
     ]
    },
    {
     "name": "stderr",
     "output_type": "stream",
     "text": [
      "[mbo] 12: x=-7.17 : y = 4.4e+04 : 0.0 secs : infill_ei\n",
      "\n"
     ]
    },
    {
     "name": "stdout",
     "output_type": "stream",
     "text": [
      "\n",
      "optimisation start\n",
      "------------------\n",
      "* estimation method   : MLE \n",
      "* optimisation method : BFGS \n",
      "* analytical gradient : used\n",
      "* trend model : ~1\n",
      "* covariance model : \n",
      "  - type :  matern3_2 \n",
      "  - nugget : NO\n",
      "  - parameters lower bounds :  1e-10 \n",
      "  - parameters upper bounds :  231.9324 \n",
      "  - best initial criterion value(s) :  -236.5869 \n",
      "\n",
      "N = 1, M = 5 machine precision = 2.22045e-16\n",
      "At X0, 0 variables are exactly at the bounds\n",
      "At iterate     0  f=       236.59  |proj g|=    0.0007579\n",
      "At iterate     1  f =       236.59  |proj g|=    0.00075787\n",
      "At iterate     2  f =       236.58  |proj g|=             0\n",
      "\n",
      "iterations 2\n",
      "function evaluations 3\n",
      "segments explored during Cauchy searches 2\n",
      "BFGS updates skipped 0\n",
      "active bounds at final generalized Cauchy point 1\n",
      "norm of the final projected gradient 0\n",
      "final function value 236.584\n",
      "\n",
      "F = 236.584\n",
      "final  value 236.583719 \n",
      "converged\n"
     ]
    },
    {
     "name": "stderr",
     "output_type": "stream",
     "text": [
      "[mbo] 13: x=-10.4 : y = 3.55e+04 : 0.0 secs : infill_ei\n",
      "\n"
     ]
    },
    {
     "name": "stdout",
     "output_type": "stream",
     "text": [
      "\n",
      "optimisation start\n",
      "------------------\n",
      "* estimation method   : MLE \n",
      "* optimisation method : BFGS \n",
      "* analytical gradient : used\n",
      "* trend model : ~1\n",
      "* covariance model : \n",
      "  - type :  matern3_2 \n",
      "  - nugget : NO\n",
      "  - parameters lower bounds :  1e-10 \n",
      "  - parameters upper bounds :  231.9324 \n",
      "  - best initial criterion value(s) :  -248.2454 \n",
      "\n",
      "N = 1, M = 5 machine precision = 2.22045e-16\n",
      "At X0, 0 variables are exactly at the bounds\n",
      "At iterate     0  f=       248.25  |proj g|=    0.0019334\n",
      "At iterate     1  f =       248.25  |proj g|=     0.0019332\n",
      "At iterate     2  f =       248.23  |proj g|=             0\n",
      "\n",
      "iterations 2\n",
      "function evaluations 3\n",
      "segments explored during Cauchy searches 2\n",
      "BFGS updates skipped 0\n",
      "active bounds at final generalized Cauchy point 1\n",
      "norm of the final projected gradient 0\n",
      "final function value 248.226\n",
      "\n",
      "F = 248.226\n",
      "final  value 248.226453 \n",
      "converged\n"
     ]
    },
    {
     "name": "stderr",
     "output_type": "stream",
     "text": [
      "[mbo] 14: x=15.7 : y = 2.09e+04 : 0.0 secs : infill_ei\n",
      "\n"
     ]
    },
    {
     "name": "stdout",
     "output_type": "stream",
     "text": [
      "\n",
      "optimisation start\n",
      "------------------\n",
      "* estimation method   : MLE \n",
      "* optimisation method : BFGS \n",
      "* analytical gradient : used\n",
      "* trend model : ~1\n",
      "* covariance model : \n",
      "  - type :  matern3_2 \n",
      "  - nugget : NO\n",
      "  - parameters lower bounds :  1e-10 \n",
      "  - parameters upper bounds :  231.9324 \n",
      "  - best initial criterion value(s) :  -260.0403 \n",
      "\n",
      "N = 1, M = 5 machine precision = 2.22045e-16\n",
      "At X0, 0 variables are exactly at the bounds\n",
      "At iterate     0  f=       260.04  |proj g|=    0.0033833\n",
      "At iterate     1  f =       260.04  |proj g|=      0.003383\n",
      "At iterate     2  f =       259.99  |proj g|=             0\n",
      "\n",
      "iterations 2\n",
      "function evaluations 3\n",
      "segments explored during Cauchy searches 2\n",
      "BFGS updates skipped 0\n",
      "active bounds at final generalized Cauchy point 1\n",
      "norm of the final projected gradient 0\n",
      "final function value 259.985\n",
      "\n",
      "F = 259.985\n",
      "final  value 259.985464 \n",
      "converged\n"
     ]
    },
    {
     "name": "stderr",
     "output_type": "stream",
     "text": [
      "[mbo] 15: x=-3.98 : y = 3.18e+04 : 0.0 secs : infill_ei\n",
      "\n"
     ]
    },
    {
     "name": "stdout",
     "output_type": "stream",
     "text": [
      "\n",
      "optimisation start\n",
      "------------------\n",
      "* estimation method   : MLE \n",
      "* optimisation method : BFGS \n",
      "* analytical gradient : used\n",
      "* trend model : ~1\n",
      "* covariance model : \n",
      "  - type :  matern3_2 \n",
      "  - nugget : NO\n",
      "  - parameters lower bounds :  1e-10 \n",
      "  - parameters upper bounds :  231.9324 \n",
      "  - best initial criterion value(s) :  -271.3408 \n",
      "\n",
      "N = 1, M = 5 machine precision = 2.22045e-16\n",
      "At X0, 0 variables are exactly at the bounds\n",
      "At iterate     0  f=       271.34  |proj g|=    0.0033986\n",
      "At iterate     1  f =       271.34  |proj g|=     0.0033983\n",
      "At iterate     2  f =       271.31  |proj g|=             0\n",
      "\n",
      "iterations 2\n",
      "function evaluations 3\n",
      "segments explored during Cauchy searches 2\n",
      "BFGS updates skipped 0\n",
      "active bounds at final generalized Cauchy point 1\n",
      "norm of the final projected gradient 0\n",
      "final function value 271.314\n",
      "\n",
      "F = 271.314\n",
      "final  value 271.314374 \n",
      "converged\n"
     ]
    },
    {
     "name": "stderr",
     "output_type": "stream",
     "text": [
      "[mbo] 16: x=25.9 : y = -2.33e+05 : 0.0 secs : infill_ei\n",
      "\n"
     ]
    },
    {
     "name": "stdout",
     "output_type": "stream",
     "text": [
      "\n",
      "optimisation start\n",
      "------------------\n",
      "* estimation method   : MLE \n",
      "* optimisation method : BFGS \n",
      "* analytical gradient : used\n",
      "* trend model : ~1\n",
      "* covariance model : \n",
      "  - type :  matern3_2 \n",
      "  - nugget : NO\n",
      "  - parameters lower bounds :  1e-10 \n",
      "  - parameters upper bounds :  231.9324 \n",
      "  - best initial criterion value(s) :  -284.2953 \n",
      "\n",
      "N = 1, M = 5 machine precision = 2.22045e-16\n",
      "At X0, 0 variables are exactly at the bounds\n",
      "At iterate     0  f=        284.3  |proj g|=    0.0035995\n",
      "At iterate     1  f =        284.3  |proj g|=     0.0035992\n",
      "At iterate     2  f =       284.29  |proj g|=             0\n",
      "\n",
      "iterations 2\n",
      "function evaluations 3\n",
      "segments explored during Cauchy searches 2\n",
      "BFGS updates skipped 0\n",
      "active bounds at final generalized Cauchy point 1\n",
      "norm of the final projected gradient 0\n",
      "final function value 284.293\n",
      "\n",
      "F = 284.293\n",
      "final  value 284.292750 \n",
      "converged\n"
     ]
    },
    {
     "name": "stderr",
     "output_type": "stream",
     "text": [
      "[mbo] 17: x=19.8 : y = -1.06e+04 : 0.0 secs : infill_ei\n",
      "\n"
     ]
    },
    {
     "name": "stdout",
     "output_type": "stream",
     "text": [
      "\n",
      "optimisation start\n",
      "------------------\n",
      "* estimation method   : MLE \n",
      "* optimisation method : BFGS \n",
      "* analytical gradient : used\n",
      "* trend model : ~1\n",
      "* covariance model : \n",
      "  - type :  matern3_2 \n",
      "  - nugget : NO\n",
      "  - parameters lower bounds :  1e-10 \n",
      "  - parameters upper bounds :  231.9324 \n",
      "  - best initial criterion value(s) :  -296.2241 \n",
      "\n",
      "N = 1, M = 5 machine precision = 2.22045e-16\n",
      "At X0, 0 variables are exactly at the bounds\n",
      "At iterate     0  f=       296.22  |proj g|=    0.0056658\n",
      "At iterate     1  f =       296.22  |proj g|=     0.0056653\n",
      "At iterate     2  f =       296.14  |proj g|=             0\n",
      "\n",
      "iterations 2\n",
      "function evaluations 3\n",
      "segments explored during Cauchy searches 2\n",
      "BFGS updates skipped 0\n",
      "active bounds at final generalized Cauchy point 1\n",
      "norm of the final projected gradient 0\n",
      "final function value 296.143\n",
      "\n",
      "F = 296.143\n",
      "final  value 296.143306 \n",
      "converged\n"
     ]
    },
    {
     "name": "stderr",
     "output_type": "stream",
     "text": [
      "[mbo] 18: x=-7.95 : y = 4.46e+04 : 0.0 secs : infill_ei\n",
      "\n"
     ]
    },
    {
     "name": "stdout",
     "output_type": "stream",
     "text": [
      "\n",
      "optimisation start\n",
      "------------------\n",
      "* estimation method   : MLE \n",
      "* optimisation method : BFGS \n",
      "* analytical gradient : used\n",
      "* trend model : ~1\n",
      "* covariance model : \n",
      "  - type :  matern3_2 \n",
      "  - nugget : NO\n",
      "  - parameters lower bounds :  1e-10 \n",
      "  - parameters upper bounds :  231.9324 \n",
      "  - best initial criterion value(s) :  -306.4332 \n",
      "\n",
      "N = 1, M = 5 machine precision = 2.22045e-16\n",
      "At X0, 0 variables are exactly at the bounds\n",
      "At iterate     0  f=       306.43  |proj g|=    0.0051326\n",
      "At iterate     1  f =       306.43  |proj g|=     0.0051322\n",
      "At iterate     2  f =       306.43  |proj g|=             0\n",
      "\n",
      "iterations 2\n",
      "function evaluations 3\n",
      "segments explored during Cauchy searches 2\n",
      "BFGS updates skipped 0\n",
      "active bounds at final generalized Cauchy point 1\n",
      "norm of the final projected gradient 0\n",
      "final function value 306.43\n",
      "\n",
      "F = 306.43\n",
      "final  value 306.429712 \n",
      "converged\n"
     ]
    },
    {
     "name": "stderr",
     "output_type": "stream",
     "text": [
      "[mbo] 19: x=-6.37 : y = 4.21e+04 : 0.0 secs : infill_ei\n",
      "\n"
     ]
    },
    {
     "name": "stdout",
     "output_type": "stream",
     "text": [
      "\n",
      "optimisation start\n",
      "------------------\n",
      "* estimation method   : MLE \n",
      "* optimisation method : BFGS \n",
      "* analytical gradient : used\n",
      "* trend model : ~1\n",
      "* covariance model : \n",
      "  - type :  matern3_2 \n",
      "  - nugget : NO\n",
      "  - parameters lower bounds :  1e-10 \n",
      "  - parameters upper bounds :  231.9324 \n",
      "  - best initial criterion value(s) :  -316.7614 \n",
      "\n",
      "N = 1, M = 5 machine precision = 2.22045e-16\n",
      "At X0, 0 variables are exactly at the bounds\n",
      "At iterate     0  f=       316.76  |proj g|=    0.0061753\n",
      "At iterate     1  f =       316.76  |proj g|=     0.0061747\n",
      "At iterate     2  f =       316.74  |proj g|=             0\n",
      "\n",
      "iterations 2\n",
      "function evaluations 3\n",
      "segments explored during Cauchy searches 2\n",
      "BFGS updates skipped 0\n",
      "active bounds at final generalized Cauchy point 1\n",
      "norm of the final projected gradient 0\n",
      "final function value 316.739\n",
      "\n",
      "F = 316.739\n",
      "final  value 316.738762 \n",
      "converged\n"
     ]
    },
    {
     "name": "stderr",
     "output_type": "stream",
     "text": [
      "[mbo] 20: x=-9.5 : y = 4.11e+04 : 0.0 secs : infill_ei\n",
      "\n"
     ]
    },
    {
     "name": "stdout",
     "output_type": "stream",
     "text": [
      "\n",
      "optimisation start\n",
      "------------------\n",
      "* estimation method   : MLE \n",
      "* optimisation method : BFGS \n",
      "* analytical gradient : used\n",
      "* trend model : ~1\n",
      "* covariance model : \n",
      "  - type :  matern3_2 \n",
      "  - nugget : NO\n",
      "  - parameters lower bounds :  1e-10 \n",
      "  - parameters upper bounds :  231.9324 \n",
      "  - best initial criterion value(s) :  -327.0316 \n",
      "\n",
      "N = 1, M = 5 machine precision = 2.22045e-16\n",
      "At X0, 0 variables are exactly at the bounds\n",
      "At iterate     0  f=       327.03  |proj g|=    0.0070006\n",
      "At iterate     1  f =       327.03  |proj g|=     0.0069999\n",
      "At iterate     2  f =          327  |proj g|=             0\n",
      "\n",
      "iterations 2\n",
      "function evaluations 3\n",
      "segments explored during Cauchy searches 2\n",
      "BFGS updates skipped 0\n",
      "active bounds at final generalized Cauchy point 1\n",
      "norm of the final projected gradient 0\n",
      "final function value 327.003\n",
      "\n",
      "F = 327.003\n",
      "final  value 327.003410 \n",
      "converged\n"
     ]
    },
    {
     "name": "stderr",
     "output_type": "stream",
     "text": [
      "[mbo] 21: x=-0.661 : y = 1.36e+04 : 0.0 secs : infill_ei\n",
      "\n"
     ]
    },
    {
     "name": "stdout",
     "output_type": "stream",
     "text": [
      "\n",
      "optimisation start\n",
      "------------------\n",
      "* estimation method   : MLE \n",
      "* optimisation method : BFGS \n",
      "* analytical gradient : used\n",
      "* trend model : ~1\n",
      "* covariance model : \n",
      "  - type :  matern3_2 \n",
      "  - nugget : NO\n",
      "  - parameters lower bounds :  1e-10 \n",
      "  - parameters upper bounds :  231.9324 \n",
      "  - best initial criterion value(s) :  -338.8779 \n",
      "\n",
      "N = 1, M = 5 machine precision = 2.22045e-16\n",
      "At X0, 0 variables are exactly at the bounds\n",
      "At iterate     0  f=       338.88  |proj g|=       0.0155\n",
      "At iterate     1  f =       338.88  |proj g|=      0.015496\n",
      "At iterate     2  f =        338.3  |proj g|=             0\n",
      "\n",
      "iterations 2\n",
      "function evaluations 3\n",
      "segments explored during Cauchy searches 2\n",
      "BFGS updates skipped 0\n",
      "active bounds at final generalized Cauchy point 1\n",
      "norm of the final projected gradient 0\n",
      "final function value 338.302\n",
      "\n",
      "F = 338.302\n",
      "final  value 338.302391 \n",
      "converged\n"
     ]
    },
    {
     "name": "stderr",
     "output_type": "stream",
     "text": [
      "[mbo] 22: x=12.3 : y = 1.68e+04 : 0.0 secs : infill_ei\n",
      "\n"
     ]
    },
    {
     "name": "stdout",
     "output_type": "stream",
     "text": [
      "\n",
      "optimisation start\n",
      "------------------\n",
      "* estimation method   : MLE \n",
      "* optimisation method : BFGS \n",
      "* analytical gradient : used\n",
      "* trend model : ~1\n",
      "* covariance model : \n",
      "  - type :  matern3_2 \n",
      "  - nugget : NO\n",
      "  - parameters lower bounds :  1e-10 \n",
      "  - parameters upper bounds :  231.9324 \n",
      "  - best initial criterion value(s) :  -349.3774 \n",
      "\n",
      "N = 1, M = 5 machine precision = 2.22045e-16\n",
      "At X0, 0 variables are exactly at the bounds\n",
      "At iterate     0  f=       349.38  |proj g|=    0.0083692\n",
      "At iterate     1  f =       349.38  |proj g|=     0.0083683\n",
      "At iterate     2  f =       349.36  |proj g|=             0\n",
      "\n",
      "iterations 2\n",
      "function evaluations 3\n",
      "segments explored during Cauchy searches 2\n",
      "BFGS updates skipped 0\n",
      "active bounds at final generalized Cauchy point 1\n",
      "norm of the final projected gradient 0\n",
      "final function value 349.359\n",
      "\n",
      "F = 349.359\n",
      "final  value 349.359087 \n",
      "converged\n"
     ]
    },
    {
     "name": "stderr",
     "output_type": "stream",
     "text": [
      "[mbo] 23: x=-7.58 : y = 4.44e+04 : 0.0 secs : infill_ei\n",
      "\n"
     ]
    },
    {
     "name": "stdout",
     "output_type": "stream",
     "text": [
      "\n",
      "optimisation start\n",
      "------------------\n",
      "* estimation method   : MLE \n",
      "* optimisation method : BFGS \n",
      "* analytical gradient : used\n",
      "* trend model : ~1\n",
      "* covariance model : \n",
      "  - type :  matern3_2 \n",
      "  - nugget : NO\n",
      "  - parameters lower bounds :  1e-10 \n",
      "  - parameters upper bounds :  231.9324 \n",
      "  - best initial criterion value(s) :  -358.5379 \n",
      "\n",
      "N = 1, M = 5 machine precision = 2.22045e-16\n",
      "At X0, 0 variables are exactly at the bounds\n",
      "At iterate     0  f=       358.54  |proj g|=    0.0096588\n",
      "At iterate     1  f =       358.54  |proj g|=     0.0096576\n",
      "At iterate     2  f =       358.48  |proj g|=             0\n",
      "\n",
      "iterations 2\n",
      "function evaluations 3\n",
      "segments explored during Cauchy searches 2\n",
      "BFGS updates skipped 0\n",
      "active bounds at final generalized Cauchy point 1\n",
      "norm of the final projected gradient 0\n",
      "final function value 358.478\n",
      "\n",
      "F = 358.478\n",
      "final  value 358.477651 \n",
      "converged\n"
     ]
    },
    {
     "name": "stderr",
     "output_type": "stream",
     "text": [
      "[mbo] 24: x=-8.34 : y = 4.43e+04 : 0.0 secs : infill_ei\n",
      "\n"
     ]
    },
    {
     "name": "stdout",
     "output_type": "stream",
     "text": [
      "\n",
      "optimisation start\n",
      "------------------\n",
      "* estimation method   : MLE \n",
      "* optimisation method : BFGS \n",
      "* analytical gradient : used\n",
      "* trend model : ~1\n",
      "* covariance model : \n",
      "  - type :  matern3_2 \n",
      "  - nugget : NO\n",
      "  - parameters lower bounds :  1e-10 \n",
      "  - parameters upper bounds :  231.9324 \n",
      "  - best initial criterion value(s) :  -367.7567 \n",
      "\n",
      "N = 1, M = 5 machine precision = 2.22045e-16\n",
      "At X0, 0 variables are exactly at the bounds\n",
      "At iterate     0  f=       367.76  |proj g|=     0.012488\n",
      "At iterate     1  f =       367.76  |proj g|=      0.012486\n",
      "At iterate     2  f =       367.53  |proj g|=             0\n",
      "\n",
      "iterations 2\n",
      "function evaluations 3\n",
      "segments explored during Cauchy searches 2\n",
      "BFGS updates skipped 0\n",
      "active bounds at final generalized Cauchy point 1\n",
      "norm of the final projected gradient 0\n",
      "final function value 367.531\n",
      "\n",
      "F = 367.531\n",
      "final  value 367.531448 \n",
      "converged\n"
     ]
    },
    {
     "name": "stderr",
     "output_type": "stream",
     "text": [
      "[mbo] 25: x=9.3 : y = 6.25e+03 : 0.0 secs : infill_ei\n",
      "\n"
     ]
    },
    {
     "name": "stdout",
     "output_type": "stream",
     "text": [
      "\n",
      "optimisation start\n",
      "------------------\n",
      "* estimation method   : MLE \n",
      "* optimisation method : BFGS \n",
      "* analytical gradient : used\n",
      "* trend model : ~1\n",
      "* covariance model : \n",
      "  - type :  matern3_2 \n",
      "  - nugget : NO\n",
      "  - parameters lower bounds :  1e-10 \n",
      "  - parameters upper bounds :  231.9324 \n",
      "  - best initial criterion value(s) :  -378.8301 \n",
      "\n",
      "N = 1, M = 5 machine precision = 2.22045e-16\n",
      "At X0, 0 variables are exactly at the bounds\n",
      "At iterate     0  f=       378.83  |proj g|=     0.012571\n",
      "At iterate     1  f =       378.83  |proj g|=      0.012569\n",
      "At iterate     2  f =       378.65  |proj g|=             0\n",
      "\n",
      "iterations 2\n",
      "function evaluations 3\n",
      "segments explored during Cauchy searches 2\n",
      "BFGS updates skipped 0\n",
      "active bounds at final generalized Cauchy point 1\n",
      "norm of the final projected gradient 0\n",
      "final function value 378.654\n",
      "\n",
      "F = 378.654\n",
      "final  value 378.654321 \n",
      "converged\n"
     ]
    }
   ],
   "source": [
    "run  <- mbo( fun=      obj.fun, \n",
    "             learner= fproxy, \n",
    "             control= ctrl )"
   ]
  },
  {
   "cell_type": "code",
   "execution_count": 13,
   "metadata": {
    "tags": [],
    "vscode": {
     "languageId": "r"
    }
   },
   "outputs": [],
   "source": [
    "tb_resultados  <- as.data.table( run$opt.path )"
   ]
  },
  {
   "cell_type": "code",
   "execution_count": 14,
   "metadata": {
    "tags": [],
    "vscode": {
     "languageId": "r"
    }
   },
   "outputs": [
    {
     "data": {
      "text/html": [
       "<table class=\"dataframe\">\n",
       "<caption>A data.table: 29 × 13</caption>\n",
       "<thead>\n",
       "\t<tr><th scope=col>x</th><th scope=col>y</th><th scope=col>dob</th><th scope=col>eol</th><th scope=col>error.message</th><th scope=col>exec.time</th><th scope=col>ei</th><th scope=col>error.model</th><th scope=col>train.time</th><th scope=col>prop.type</th><th scope=col>propose.time</th><th scope=col>se</th><th scope=col>mean</th></tr>\n",
       "\t<tr><th scope=col>&lt;dbl&gt;</th><th scope=col>&lt;dbl&gt;</th><th scope=col>&lt;int&gt;</th><th scope=col>&lt;int&gt;</th><th scope=col>&lt;chr&gt;</th><th scope=col>&lt;dbl&gt;</th><th scope=col>&lt;dbl&gt;</th><th scope=col>&lt;chr&gt;</th><th scope=col>&lt;dbl&gt;</th><th scope=col>&lt;chr&gt;</th><th scope=col>&lt;dbl&gt;</th><th scope=col>&lt;dbl&gt;</th><th scope=col>&lt;dbl&gt;</th></tr>\n",
       "</thead>\n",
       "<tbody>\n",
       "\t<tr><td> 65.4526885</td><td>-26607514.697</td><td> 0</td><td>NA</td><td>NA</td><td>0.02</td><td>           NA</td><td>NA</td><td>  NA</td><td>initdesign</td><td>  NA</td><td>         NA</td><td>          NA</td></tr>\n",
       "\t<tr><td>-12.7427891</td><td>     5075.218</td><td> 0</td><td>NA</td><td>NA</td><td>0.00</td><td>           NA</td><td>NA</td><td>  NA</td><td>initdesign</td><td>  NA</td><td>         NA</td><td>          NA</td></tr>\n",
       "\t<tr><td>-50.5135145</td><td>-16051675.669</td><td> 0</td><td>NA</td><td>NA</td><td>0.00</td><td>           NA</td><td>NA</td><td>  NA</td><td>initdesign</td><td>  NA</td><td>         NA</td><td>          NA</td></tr>\n",
       "\t<tr><td> 30.8874462</td><td>  -695084.071</td><td> 0</td><td>NA</td><td>NA</td><td>0.00</td><td>           NA</td><td>NA</td><td>  NA</td><td>initdesign</td><td>  NA</td><td>         NA</td><td>          NA</td></tr>\n",
       "\t<tr><td>-14.8281331</td><td>   -48132.486</td><td> 1</td><td>NA</td><td>NA</td><td>0.00</td><td>-1814146.7021</td><td>NA</td><td>0.06</td><td>infill_ei </td><td>0.14</td><td>8327770.493</td><td>-3636606.757</td></tr>\n",
       "\t<tr><td> 13.7136947</td><td>    20315.011</td><td> 2</td><td>NA</td><td>NA</td><td>0.00</td><td>-2821252.8806</td><td>NA</td><td>0.03</td><td>infill_ei </td><td>0.14</td><td>7031805.994</td><td>   36953.886</td></tr>\n",
       "\t<tr><td> 22.5637890</td><td>   -77182.404</td><td> 3</td><td>NA</td><td>NA</td><td>0.00</td><td>-1029739.0999</td><td>NA</td><td>0.01</td><td>infill_ei </td><td>0.16</td><td>1783909.727</td><td>  585575.739</td></tr>\n",
       "\t<tr><td>  1.1204592</td><td>     5579.950</td><td> 4</td><td>NA</td><td>NA</td><td>0.00</td><td> -737513.8754</td><td>NA</td><td>0.01</td><td>infill_ei </td><td>0.14</td><td>1796685.910</td><td>   61419.667</td></tr>\n",
       "\t<tr><td> -5.4388502</td><td>    38793.782</td><td> 5</td><td>NA</td><td>NA</td><td>0.00</td><td> -236761.1805</td><td>NA</td><td>0.01</td><td>infill_ei </td><td>0.16</td><td> 599140.535</td><td>   15778.687</td></tr>\n",
       "\t<tr><td>  7.6910904</td><td>     1517.200</td><td> 6</td><td>NA</td><td>NA</td><td>0.00</td><td> -176878.5075</td><td>NA</td><td>0.00</td><td>infill_ei </td><td>0.18</td><td> 464069.169</td><td>   22035.779</td></tr>\n",
       "\t<tr><td> 17.7105293</td><td>    12478.662</td><td> 7</td><td>NA</td><td>NA</td><td>0.00</td><td>  -73893.2958</td><td>NA</td><td>0.01</td><td>infill_ei </td><td>0.17</td><td> 252859.289</td><td>  -20737.965</td></tr>\n",
       "\t<tr><td> -8.7426760</td><td>    43667.737</td><td> 8</td><td>NA</td><td>NA</td><td>0.00</td><td>  -62873.8832</td><td>NA</td><td>0.00</td><td>infill_ei </td><td>0.20</td><td> 161902.345</td><td>   35332.650</td></tr>\n",
       "\t<tr><td> -2.2798393</td><td>    22354.285</td><td> 9</td><td>NA</td><td>NA</td><td>0.00</td><td>  -42790.4905</td><td>NA</td><td>0.02</td><td>infill_ei </td><td>0.15</td><td> 132701.528</td><td>   21953.927</td></tr>\n",
       "\t<tr><td>  4.4716783</td><td>    -1888.971</td><td>10</td><td>NA</td><td>NA</td><td>0.00</td><td>  -29692.6685</td><td>NA</td><td>0.00</td><td>infill_ei </td><td>0.17</td><td> 122571.808</td><td>   -1235.136</td></tr>\n",
       "\t<tr><td> 10.8675835</td><td>    11812.426</td><td>11</td><td>NA</td><td>NA</td><td>0.00</td><td>  -25254.6025</td><td>NA</td><td>0.00</td><td>infill_ei </td><td>0.17</td><td>  99053.874</td><td>   10843.204</td></tr>\n",
       "\t<tr><td> -7.1730076</td><td>    43978.404</td><td>12</td><td>NA</td><td>NA</td><td>0.00</td><td>  -17553.2771</td><td>NA</td><td>0.01</td><td>infill_ei </td><td>0.19</td><td>  42537.280</td><td>   44821.958</td></tr>\n",
       "\t<tr><td>-10.4147743</td><td>    35529.999</td><td>13</td><td>NA</td><td>NA</td><td>0.00</td><td>  -13182.2404</td><td>NA</td><td>0.02</td><td>infill_ei </td><td>0.17</td><td>  46017.743</td><td>   32487.183</td></tr>\n",
       "\t<tr><td> 15.7302459</td><td>    20880.827</td><td>14</td><td>NA</td><td>NA</td><td>0.00</td><td>  -11965.1975</td><td>NA</td><td>0.00</td><td>infill_ei </td><td>0.18</td><td>  51698.884</td><td>   23448.851</td></tr>\n",
       "\t<tr><td> -3.9776360</td><td>    31759.439</td><td>15</td><td>NA</td><td>NA</td><td>0.00</td><td>   -8188.5611</td><td>NA</td><td>0.00</td><td>infill_ei </td><td>0.19</td><td>  33644.703</td><td>   31759.915</td></tr>\n",
       "\t<tr><td> 25.9137309</td><td>  -233194.525</td><td>16</td><td>NA</td><td>NA</td><td>0.00</td><td>   -6312.5097</td><td>NA</td><td>0.00</td><td>infill_ei </td><td>0.19</td><td> 143241.628</td><td> -144424.084</td></tr>\n",
       "\t<tr><td> 19.7550389</td><td>   -10570.723</td><td>17</td><td>NA</td><td>NA</td><td>0.02</td><td>   -5449.9691</td><td>NA</td><td>0.00</td><td>infill_ei </td><td>0.20</td><td>  56555.940</td><td>   -8192.058</td></tr>\n",
       "\t<tr><td> -7.9515171</td><td>    44558.817</td><td>18</td><td>NA</td><td>NA</td><td>0.00</td><td>   -4981.3803</td><td>NA</td><td>0.01</td><td>infill_ei </td><td>0.22</td><td>  11839.165</td><td>   44486.191</td></tr>\n",
       "\t<tr><td> -6.3671107</td><td>    42135.383</td><td>19</td><td>NA</td><td>NA</td><td>0.00</td><td>   -3712.0255</td><td>NA</td><td>0.01</td><td>infill_ei </td><td>0.19</td><td>  12104.176</td><td>   42131.607</td></tr>\n",
       "\t<tr><td> -9.5021314</td><td>    41137.218</td><td>20</td><td>NA</td><td>NA</td><td>0.00</td><td>   -3202.5553</td><td>NA</td><td>0.01</td><td>infill_ei </td><td>0.25</td><td>  11570.109</td><td>   41387.746</td></tr>\n",
       "\t<tr><td> -0.6608345</td><td>    13607.361</td><td>21</td><td>NA</td><td>NA</td><td>0.00</td><td>   -2977.3181</td><td>NA</td><td>0.00</td><td>infill_ei </td><td>0.19</td><td>  32543.013</td><td>   13630.197</td></tr>\n",
       "\t<tr><td> 12.3304755</td><td>    16804.978</td><td>22</td><td>NA</td><td>NA</td><td>0.00</td><td>   -1799.2935</td><td>NA</td><td>0.02</td><td>infill_ei </td><td>0.19</td><td>  25530.429</td><td>   16821.015</td></tr>\n",
       "\t<tr><td> -7.5788029</td><td>    44444.600</td><td>23</td><td>NA</td><td>NA</td><td>0.00</td><td>   -1408.6280</td><td>NA</td><td>0.00</td><td>infill_ei </td><td>0.20</td><td>   3674.306</td><td>   44442.943</td></tr>\n",
       "\t<tr><td> -8.3362679</td><td>    44329.476</td><td>24</td><td>NA</td><td>NA</td><td>0.00</td><td>   -1264.4852</td><td>NA</td><td>0.02</td><td>infill_ei </td><td>0.20</td><td>   3442.675</td><td>   44335.134</td></tr>\n",
       "\t<tr><td>  9.2958017</td><td>     6254.580</td><td>25</td><td>NA</td><td>NA</td><td>0.00</td><td>    -988.0521</td><td>NA</td><td>0.02</td><td>infill_ei </td><td>0.20</td><td>  27248.628</td><td>    6272.585</td></tr>\n",
       "</tbody>\n",
       "</table>\n"
      ],
      "text/latex": [
       "A data.table: 29 × 13\n",
       "\\begin{tabular}{lllllllllllll}\n",
       " x & y & dob & eol & error.message & exec.time & ei & error.model & train.time & prop.type & propose.time & se & mean\\\\\n",
       " <dbl> & <dbl> & <int> & <int> & <chr> & <dbl> & <dbl> & <chr> & <dbl> & <chr> & <dbl> & <dbl> & <dbl>\\\\\n",
       "\\hline\n",
       "\t  65.4526885 & -26607514.697 &  0 & NA & NA & 0.02 &            NA & NA &   NA & initdesign &   NA &          NA &           NA\\\\\n",
       "\t -12.7427891 &      5075.218 &  0 & NA & NA & 0.00 &            NA & NA &   NA & initdesign &   NA &          NA &           NA\\\\\n",
       "\t -50.5135145 & -16051675.669 &  0 & NA & NA & 0.00 &            NA & NA &   NA & initdesign &   NA &          NA &           NA\\\\\n",
       "\t  30.8874462 &   -695084.071 &  0 & NA & NA & 0.00 &            NA & NA &   NA & initdesign &   NA &          NA &           NA\\\\\n",
       "\t -14.8281331 &    -48132.486 &  1 & NA & NA & 0.00 & -1814146.7021 & NA & 0.06 & infill\\_ei  & 0.14 & 8327770.493 & -3636606.757\\\\\n",
       "\t  13.7136947 &     20315.011 &  2 & NA & NA & 0.00 & -2821252.8806 & NA & 0.03 & infill\\_ei  & 0.14 & 7031805.994 &    36953.886\\\\\n",
       "\t  22.5637890 &    -77182.404 &  3 & NA & NA & 0.00 & -1029739.0999 & NA & 0.01 & infill\\_ei  & 0.16 & 1783909.727 &   585575.739\\\\\n",
       "\t   1.1204592 &      5579.950 &  4 & NA & NA & 0.00 &  -737513.8754 & NA & 0.01 & infill\\_ei  & 0.14 & 1796685.910 &    61419.667\\\\\n",
       "\t  -5.4388502 &     38793.782 &  5 & NA & NA & 0.00 &  -236761.1805 & NA & 0.01 & infill\\_ei  & 0.16 &  599140.535 &    15778.687\\\\\n",
       "\t   7.6910904 &      1517.200 &  6 & NA & NA & 0.00 &  -176878.5075 & NA & 0.00 & infill\\_ei  & 0.18 &  464069.169 &    22035.779\\\\\n",
       "\t  17.7105293 &     12478.662 &  7 & NA & NA & 0.00 &   -73893.2958 & NA & 0.01 & infill\\_ei  & 0.17 &  252859.289 &   -20737.965\\\\\n",
       "\t  -8.7426760 &     43667.737 &  8 & NA & NA & 0.00 &   -62873.8832 & NA & 0.00 & infill\\_ei  & 0.20 &  161902.345 &    35332.650\\\\\n",
       "\t  -2.2798393 &     22354.285 &  9 & NA & NA & 0.00 &   -42790.4905 & NA & 0.02 & infill\\_ei  & 0.15 &  132701.528 &    21953.927\\\\\n",
       "\t   4.4716783 &     -1888.971 & 10 & NA & NA & 0.00 &   -29692.6685 & NA & 0.00 & infill\\_ei  & 0.17 &  122571.808 &    -1235.136\\\\\n",
       "\t  10.8675835 &     11812.426 & 11 & NA & NA & 0.00 &   -25254.6025 & NA & 0.00 & infill\\_ei  & 0.17 &   99053.874 &    10843.204\\\\\n",
       "\t  -7.1730076 &     43978.404 & 12 & NA & NA & 0.00 &   -17553.2771 & NA & 0.01 & infill\\_ei  & 0.19 &   42537.280 &    44821.958\\\\\n",
       "\t -10.4147743 &     35529.999 & 13 & NA & NA & 0.00 &   -13182.2404 & NA & 0.02 & infill\\_ei  & 0.17 &   46017.743 &    32487.183\\\\\n",
       "\t  15.7302459 &     20880.827 & 14 & NA & NA & 0.00 &   -11965.1975 & NA & 0.00 & infill\\_ei  & 0.18 &   51698.884 &    23448.851\\\\\n",
       "\t  -3.9776360 &     31759.439 & 15 & NA & NA & 0.00 &    -8188.5611 & NA & 0.00 & infill\\_ei  & 0.19 &   33644.703 &    31759.915\\\\\n",
       "\t  25.9137309 &   -233194.525 & 16 & NA & NA & 0.00 &    -6312.5097 & NA & 0.00 & infill\\_ei  & 0.19 &  143241.628 &  -144424.084\\\\\n",
       "\t  19.7550389 &    -10570.723 & 17 & NA & NA & 0.02 &    -5449.9691 & NA & 0.00 & infill\\_ei  & 0.20 &   56555.940 &    -8192.058\\\\\n",
       "\t  -7.9515171 &     44558.817 & 18 & NA & NA & 0.00 &    -4981.3803 & NA & 0.01 & infill\\_ei  & 0.22 &   11839.165 &    44486.191\\\\\n",
       "\t  -6.3671107 &     42135.383 & 19 & NA & NA & 0.00 &    -3712.0255 & NA & 0.01 & infill\\_ei  & 0.19 &   12104.176 &    42131.607\\\\\n",
       "\t  -9.5021314 &     41137.218 & 20 & NA & NA & 0.00 &    -3202.5553 & NA & 0.01 & infill\\_ei  & 0.25 &   11570.109 &    41387.746\\\\\n",
       "\t  -0.6608345 &     13607.361 & 21 & NA & NA & 0.00 &    -2977.3181 & NA & 0.00 & infill\\_ei  & 0.19 &   32543.013 &    13630.197\\\\\n",
       "\t  12.3304755 &     16804.978 & 22 & NA & NA & 0.00 &    -1799.2935 & NA & 0.02 & infill\\_ei  & 0.19 &   25530.429 &    16821.015\\\\\n",
       "\t  -7.5788029 &     44444.600 & 23 & NA & NA & 0.00 &    -1408.6280 & NA & 0.00 & infill\\_ei  & 0.20 &    3674.306 &    44442.943\\\\\n",
       "\t  -8.3362679 &     44329.476 & 24 & NA & NA & 0.00 &    -1264.4852 & NA & 0.02 & infill\\_ei  & 0.20 &    3442.675 &    44335.134\\\\\n",
       "\t   9.2958017 &      6254.580 & 25 & NA & NA & 0.00 &     -988.0521 & NA & 0.02 & infill\\_ei  & 0.20 &   27248.628 &     6272.585\\\\\n",
       "\\end{tabular}\n"
      ],
      "text/markdown": [
       "\n",
       "A data.table: 29 × 13\n",
       "\n",
       "| x &lt;dbl&gt; | y &lt;dbl&gt; | dob &lt;int&gt; | eol &lt;int&gt; | error.message &lt;chr&gt; | exec.time &lt;dbl&gt; | ei &lt;dbl&gt; | error.model &lt;chr&gt; | train.time &lt;dbl&gt; | prop.type &lt;chr&gt; | propose.time &lt;dbl&gt; | se &lt;dbl&gt; | mean &lt;dbl&gt; |\n",
       "|---|---|---|---|---|---|---|---|---|---|---|---|---|\n",
       "|  65.4526885 | -26607514.697 |  0 | NA | NA | 0.02 |            NA | NA |   NA | initdesign |   NA |          NA |           NA |\n",
       "| -12.7427891 |      5075.218 |  0 | NA | NA | 0.00 |            NA | NA |   NA | initdesign |   NA |          NA |           NA |\n",
       "| -50.5135145 | -16051675.669 |  0 | NA | NA | 0.00 |            NA | NA |   NA | initdesign |   NA |          NA |           NA |\n",
       "|  30.8874462 |   -695084.071 |  0 | NA | NA | 0.00 |            NA | NA |   NA | initdesign |   NA |          NA |           NA |\n",
       "| -14.8281331 |    -48132.486 |  1 | NA | NA | 0.00 | -1814146.7021 | NA | 0.06 | infill_ei  | 0.14 | 8327770.493 | -3636606.757 |\n",
       "|  13.7136947 |     20315.011 |  2 | NA | NA | 0.00 | -2821252.8806 | NA | 0.03 | infill_ei  | 0.14 | 7031805.994 |    36953.886 |\n",
       "|  22.5637890 |    -77182.404 |  3 | NA | NA | 0.00 | -1029739.0999 | NA | 0.01 | infill_ei  | 0.16 | 1783909.727 |   585575.739 |\n",
       "|   1.1204592 |      5579.950 |  4 | NA | NA | 0.00 |  -737513.8754 | NA | 0.01 | infill_ei  | 0.14 | 1796685.910 |    61419.667 |\n",
       "|  -5.4388502 |     38793.782 |  5 | NA | NA | 0.00 |  -236761.1805 | NA | 0.01 | infill_ei  | 0.16 |  599140.535 |    15778.687 |\n",
       "|   7.6910904 |      1517.200 |  6 | NA | NA | 0.00 |  -176878.5075 | NA | 0.00 | infill_ei  | 0.18 |  464069.169 |    22035.779 |\n",
       "|  17.7105293 |     12478.662 |  7 | NA | NA | 0.00 |   -73893.2958 | NA | 0.01 | infill_ei  | 0.17 |  252859.289 |   -20737.965 |\n",
       "|  -8.7426760 |     43667.737 |  8 | NA | NA | 0.00 |   -62873.8832 | NA | 0.00 | infill_ei  | 0.20 |  161902.345 |    35332.650 |\n",
       "|  -2.2798393 |     22354.285 |  9 | NA | NA | 0.00 |   -42790.4905 | NA | 0.02 | infill_ei  | 0.15 |  132701.528 |    21953.927 |\n",
       "|   4.4716783 |     -1888.971 | 10 | NA | NA | 0.00 |   -29692.6685 | NA | 0.00 | infill_ei  | 0.17 |  122571.808 |    -1235.136 |\n",
       "|  10.8675835 |     11812.426 | 11 | NA | NA | 0.00 |   -25254.6025 | NA | 0.00 | infill_ei  | 0.17 |   99053.874 |    10843.204 |\n",
       "|  -7.1730076 |     43978.404 | 12 | NA | NA | 0.00 |   -17553.2771 | NA | 0.01 | infill_ei  | 0.19 |   42537.280 |    44821.958 |\n",
       "| -10.4147743 |     35529.999 | 13 | NA | NA | 0.00 |   -13182.2404 | NA | 0.02 | infill_ei  | 0.17 |   46017.743 |    32487.183 |\n",
       "|  15.7302459 |     20880.827 | 14 | NA | NA | 0.00 |   -11965.1975 | NA | 0.00 | infill_ei  | 0.18 |   51698.884 |    23448.851 |\n",
       "|  -3.9776360 |     31759.439 | 15 | NA | NA | 0.00 |    -8188.5611 | NA | 0.00 | infill_ei  | 0.19 |   33644.703 |    31759.915 |\n",
       "|  25.9137309 |   -233194.525 | 16 | NA | NA | 0.00 |    -6312.5097 | NA | 0.00 | infill_ei  | 0.19 |  143241.628 |  -144424.084 |\n",
       "|  19.7550389 |    -10570.723 | 17 | NA | NA | 0.02 |    -5449.9691 | NA | 0.00 | infill_ei  | 0.20 |   56555.940 |    -8192.058 |\n",
       "|  -7.9515171 |     44558.817 | 18 | NA | NA | 0.00 |    -4981.3803 | NA | 0.01 | infill_ei  | 0.22 |   11839.165 |    44486.191 |\n",
       "|  -6.3671107 |     42135.383 | 19 | NA | NA | 0.00 |    -3712.0255 | NA | 0.01 | infill_ei  | 0.19 |   12104.176 |    42131.607 |\n",
       "|  -9.5021314 |     41137.218 | 20 | NA | NA | 0.00 |    -3202.5553 | NA | 0.01 | infill_ei  | 0.25 |   11570.109 |    41387.746 |\n",
       "|  -0.6608345 |     13607.361 | 21 | NA | NA | 0.00 |    -2977.3181 | NA | 0.00 | infill_ei  | 0.19 |   32543.013 |    13630.197 |\n",
       "|  12.3304755 |     16804.978 | 22 | NA | NA | 0.00 |    -1799.2935 | NA | 0.02 | infill_ei  | 0.19 |   25530.429 |    16821.015 |\n",
       "|  -7.5788029 |     44444.600 | 23 | NA | NA | 0.00 |    -1408.6280 | NA | 0.00 | infill_ei  | 0.20 |    3674.306 |    44442.943 |\n",
       "|  -8.3362679 |     44329.476 | 24 | NA | NA | 0.00 |    -1264.4852 | NA | 0.02 | infill_ei  | 0.20 |    3442.675 |    44335.134 |\n",
       "|   9.2958017 |      6254.580 | 25 | NA | NA | 0.00 |     -988.0521 | NA | 0.02 | infill_ei  | 0.20 |   27248.628 |     6272.585 |\n",
       "\n"
      ],
      "text/plain": [
       "   x           y             dob eol error.message exec.time ei           \n",
       "1   65.4526885 -26607514.697  0  NA  NA            0.02                 NA\n",
       "2  -12.7427891      5075.218  0  NA  NA            0.00                 NA\n",
       "3  -50.5135145 -16051675.669  0  NA  NA            0.00                 NA\n",
       "4   30.8874462   -695084.071  0  NA  NA            0.00                 NA\n",
       "5  -14.8281331    -48132.486  1  NA  NA            0.00      -1814146.7021\n",
       "6   13.7136947     20315.011  2  NA  NA            0.00      -2821252.8806\n",
       "7   22.5637890    -77182.404  3  NA  NA            0.00      -1029739.0999\n",
       "8    1.1204592      5579.950  4  NA  NA            0.00       -737513.8754\n",
       "9   -5.4388502     38793.782  5  NA  NA            0.00       -236761.1805\n",
       "10   7.6910904      1517.200  6  NA  NA            0.00       -176878.5075\n",
       "11  17.7105293     12478.662  7  NA  NA            0.00        -73893.2958\n",
       "12  -8.7426760     43667.737  8  NA  NA            0.00        -62873.8832\n",
       "13  -2.2798393     22354.285  9  NA  NA            0.00        -42790.4905\n",
       "14   4.4716783     -1888.971 10  NA  NA            0.00        -29692.6685\n",
       "15  10.8675835     11812.426 11  NA  NA            0.00        -25254.6025\n",
       "16  -7.1730076     43978.404 12  NA  NA            0.00        -17553.2771\n",
       "17 -10.4147743     35529.999 13  NA  NA            0.00        -13182.2404\n",
       "18  15.7302459     20880.827 14  NA  NA            0.00        -11965.1975\n",
       "19  -3.9776360     31759.439 15  NA  NA            0.00         -8188.5611\n",
       "20  25.9137309   -233194.525 16  NA  NA            0.00         -6312.5097\n",
       "21  19.7550389    -10570.723 17  NA  NA            0.02         -5449.9691\n",
       "22  -7.9515171     44558.817 18  NA  NA            0.00         -4981.3803\n",
       "23  -6.3671107     42135.383 19  NA  NA            0.00         -3712.0255\n",
       "24  -9.5021314     41137.218 20  NA  NA            0.00         -3202.5553\n",
       "25  -0.6608345     13607.361 21  NA  NA            0.00         -2977.3181\n",
       "26  12.3304755     16804.978 22  NA  NA            0.00         -1799.2935\n",
       "27  -7.5788029     44444.600 23  NA  NA            0.00         -1408.6280\n",
       "28  -8.3362679     44329.476 24  NA  NA            0.00         -1264.4852\n",
       "29   9.2958017      6254.580 25  NA  NA            0.00          -988.0521\n",
       "   error.model train.time prop.type  propose.time se          mean        \n",
       "1  NA            NA       initdesign   NA                  NA           NA\n",
       "2  NA            NA       initdesign   NA                  NA           NA\n",
       "3  NA            NA       initdesign   NA                  NA           NA\n",
       "4  NA            NA       initdesign   NA                  NA           NA\n",
       "5  NA          0.06       infill_ei  0.14         8327770.493 -3636606.757\n",
       "6  NA          0.03       infill_ei  0.14         7031805.994    36953.886\n",
       "7  NA          0.01       infill_ei  0.16         1783909.727   585575.739\n",
       "8  NA          0.01       infill_ei  0.14         1796685.910    61419.667\n",
       "9  NA          0.01       infill_ei  0.16          599140.535    15778.687\n",
       "10 NA          0.00       infill_ei  0.18          464069.169    22035.779\n",
       "11 NA          0.01       infill_ei  0.17          252859.289   -20737.965\n",
       "12 NA          0.00       infill_ei  0.20          161902.345    35332.650\n",
       "13 NA          0.02       infill_ei  0.15          132701.528    21953.927\n",
       "14 NA          0.00       infill_ei  0.17          122571.808    -1235.136\n",
       "15 NA          0.00       infill_ei  0.17           99053.874    10843.204\n",
       "16 NA          0.01       infill_ei  0.19           42537.280    44821.958\n",
       "17 NA          0.02       infill_ei  0.17           46017.743    32487.183\n",
       "18 NA          0.00       infill_ei  0.18           51698.884    23448.851\n",
       "19 NA          0.00       infill_ei  0.19           33644.703    31759.915\n",
       "20 NA          0.00       infill_ei  0.19          143241.628  -144424.084\n",
       "21 NA          0.00       infill_ei  0.20           56555.940    -8192.058\n",
       "22 NA          0.01       infill_ei  0.22           11839.165    44486.191\n",
       "23 NA          0.01       infill_ei  0.19           12104.176    42131.607\n",
       "24 NA          0.01       infill_ei  0.25           11570.109    41387.746\n",
       "25 NA          0.00       infill_ei  0.19           32543.013    13630.197\n",
       "26 NA          0.02       infill_ei  0.19           25530.429    16821.015\n",
       "27 NA          0.00       infill_ei  0.20            3674.306    44442.943\n",
       "28 NA          0.02       infill_ei  0.20            3442.675    44335.134\n",
       "29 NA          0.02       infill_ei  0.20           27248.628     6272.585"
      ]
     },
     "metadata": {},
     "output_type": "display_data"
    }
   ],
   "source": [
    "tb_resultados"
   ]
  },
  {
   "cell_type": "code",
   "execution_count": 15,
   "metadata": {
    "tags": [],
    "vscode": {
     "languageId": "r"
    }
   },
   "outputs": [
    {
     "data": {
      "text/html": [
       "<table class=\"dataframe\">\n",
       "<caption>A data.table: 1 × 13</caption>\n",
       "<thead>\n",
       "\t<tr><th scope=col>x</th><th scope=col>y</th><th scope=col>dob</th><th scope=col>eol</th><th scope=col>error.message</th><th scope=col>exec.time</th><th scope=col>ei</th><th scope=col>error.model</th><th scope=col>train.time</th><th scope=col>prop.type</th><th scope=col>propose.time</th><th scope=col>se</th><th scope=col>mean</th></tr>\n",
       "\t<tr><th scope=col>&lt;dbl&gt;</th><th scope=col>&lt;dbl&gt;</th><th scope=col>&lt;int&gt;</th><th scope=col>&lt;int&gt;</th><th scope=col>&lt;chr&gt;</th><th scope=col>&lt;dbl&gt;</th><th scope=col>&lt;dbl&gt;</th><th scope=col>&lt;chr&gt;</th><th scope=col>&lt;dbl&gt;</th><th scope=col>&lt;chr&gt;</th><th scope=col>&lt;dbl&gt;</th><th scope=col>&lt;dbl&gt;</th><th scope=col>&lt;dbl&gt;</th></tr>\n",
       "</thead>\n",
       "<tbody>\n",
       "\t<tr><td>-7.951517</td><td>44558.82</td><td>18</td><td>NA</td><td>NA</td><td>0</td><td>-4981.38</td><td>NA</td><td>0.01</td><td>infill_ei</td><td>0.22</td><td>11839.16</td><td>44486.19</td></tr>\n",
       "</tbody>\n",
       "</table>\n"
      ],
      "text/latex": [
       "A data.table: 1 × 13\n",
       "\\begin{tabular}{lllllllllllll}\n",
       " x & y & dob & eol & error.message & exec.time & ei & error.model & train.time & prop.type & propose.time & se & mean\\\\\n",
       " <dbl> & <dbl> & <int> & <int> & <chr> & <dbl> & <dbl> & <chr> & <dbl> & <chr> & <dbl> & <dbl> & <dbl>\\\\\n",
       "\\hline\n",
       "\t -7.951517 & 44558.82 & 18 & NA & NA & 0 & -4981.38 & NA & 0.01 & infill\\_ei & 0.22 & 11839.16 & 44486.19\\\\\n",
       "\\end{tabular}\n"
      ],
      "text/markdown": [
       "\n",
       "A data.table: 1 × 13\n",
       "\n",
       "| x &lt;dbl&gt; | y &lt;dbl&gt; | dob &lt;int&gt; | eol &lt;int&gt; | error.message &lt;chr&gt; | exec.time &lt;dbl&gt; | ei &lt;dbl&gt; | error.model &lt;chr&gt; | train.time &lt;dbl&gt; | prop.type &lt;chr&gt; | propose.time &lt;dbl&gt; | se &lt;dbl&gt; | mean &lt;dbl&gt; |\n",
       "|---|---|---|---|---|---|---|---|---|---|---|---|---|\n",
       "| -7.951517 | 44558.82 | 18 | NA | NA | 0 | -4981.38 | NA | 0.01 | infill_ei | 0.22 | 11839.16 | 44486.19 |\n",
       "\n"
      ],
      "text/plain": [
       "  x         y        dob eol error.message exec.time ei       error.model\n",
       "1 -7.951517 44558.82 18  NA  NA            0         -4981.38 NA         \n",
       "  train.time prop.type propose.time se       mean    \n",
       "1 0.01       infill_ei 0.22         11839.16 44486.19"
      ]
     },
     "metadata": {},
     "output_type": "display_data"
    }
   ],
   "source": [
    "tb_resultados[ which.max( tb_resultados$y ) ]"
   ]
  },
  {
   "cell_type": "markdown",
   "metadata": {},
   "source": [
    "### Conclusiones"
   ]
  },
  {
   "cell_type": "markdown",
   "metadata": {},
   "source": [
    "La gran pregunta es :  la Optimización Bayesiana, ¿se focaliza luego de muchas iteraciones solo en el entorno del máximo que está cerca de x= -8 ?"
   ]
  }
 ],
 "metadata": {
  "kernelspec": {
   "display_name": "R",
   "language": "R",
   "name": "ir"
  },
  "language_info": {
   "codemirror_mode": "r",
   "file_extension": ".r",
   "mimetype": "text/x-r-source",
   "name": "R",
   "pygments_lexer": "r",
   "version": "4.2.3"
  }
 },
 "nbformat": 4,
 "nbformat_minor": 4
}

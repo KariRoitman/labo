{
 "cells": [
  {
   "cell_type": "code",
   "execution_count": null,
   "metadata": {},
   "outputs": [],
   "source": [
    "#Se utiliza el algoritmo Random Forest, creado por Leo Breiman en el año 2001\n",
    "#Una libreria que implementa Rando Forest se llama  ranger\n",
    "#La libreria esta implementada en lenguaje C y corre en paralelo, utiliza TODOS los nucleos del procesador\n",
    "#Leo Breiman provenia de la estadistica y tenia \"horror a los nulos\", con lo cual el algoritmo necesita imputar nulos antes\n",
    "\n",
    "#Este script esta pensado para correr en la PC local\n",
    "\n",
    "#limpio la memoria\n",
    "rm( list=ls() )  #Borro todos los objetos\n",
    "gc()   #Garbage Collection\n",
    "\n",
    "require(\"data.table\")\n",
    "require(\"ranger\")\n",
    "require(\"randomForest\")  #solo se usa para imputar nulos\n"
   ]
  },
  {
   "cell_type": "code",
   "execution_count": null,
   "metadata": {},
   "outputs": [],
   "source": [
    "\n",
    "#Aqui se debe poner la carpeta de la computadora local\n",
    "setwd(\"C:/Users/karin/Desktop/MCD/LI1/repositorio/labo/src\")  #Establezco el Working Directory\n",
    "\n",
    "#cargo los datos donde entreno\n",
    "dataset  <- fread(\"./datasets/dataset_pequeno.csv\", stringsAsFactors= TRUE)\n",
    "\n",
    "#imputo los nulos, ya que ranger no acepta nulos\n",
    "#Leo Breiman, ¿por que le temias a los nulos?\n",
    "dataset  <- na.roughfix( dataset )\n",
    "\n",
    "dtrain  <- dataset[ foto_mes == 202107 ]\n",
    "dapply  <- dataset[ foto_mes == 202109 ]\n",
    "\n"
   ]
  },
  {
   "cell_type": "code",
   "execution_count": null,
   "metadata": {},
   "outputs": [],
   "source": [
    "\n",
    "#genero el modelo de Random Forest con la libreria ranger\n",
    "#notar como la suma de muchos arboles contrarresta el efecto de min.node.size=1\n",
    "param  <- list( \"num.trees\"=       300,  #cantidad de arboles\n",
    "                \"mtry\"=             30,  #cantidad de variables que evalua para hacer un split  sqrt(ncol(dtrain))\n",
    "                \"min.node.size\"=  1500,  #tamaño minimo de las hojas\n",
    "                \"max.depth\"=        12   # 0 significa profundidad infinita\n",
    "              )\n",
    "\n",
    "set.seed(201107) #Establezco la semilla aleatoria\n",
    "\n",
    "setorder( dtrain, clase_ternaria )  #primero quedan los BAJA+1, BAJA+2, CONTINUA\n",
    "\n",
    "\n",
    "#genero el modelo de Random Forest llamando a ranger()\n",
    "modelo  <- ranger( formula= \"clase_ternaria ~ .\",\n",
    "                   data=  dtrain, \n",
    "                   probability=   TRUE,  #para que devuelva las probabilidades\n",
    "                   num.trees=     param$num.trees,\n",
    "                   mtry=          param$mtry,\n",
    "                   min.node.size= param$min.node.size,\n",
    "                   max.depth=     param$max.depth\n",
    "                   #,class.weights= c( 1,40, 1)  #servira cambiar los pesos ?\n",
    "                 )\n"
   ]
  },
  {
   "cell_type": "code",
   "execution_count": null,
   "metadata": {},
   "outputs": [],
   "source": [
    "\n",
    "#aplico el modelo recien creado a los datos del futuro\n",
    "prediccion  <- predict( modelo, dapply )\n",
    "\n",
    "#Genero la entrega para Kaggle\n",
    "entrega  <- as.data.table( list( \"numero_de_cliente\"= dapply[  , numero_de_cliente],\n",
    "                                 \"Predicted\"= as.numeric(prediccion$predictions[ ,\"BAJA+2\" ] > 1/40) ) ) #genero la salida\n",
    "\n",
    "#creo la carpeta donde va el experimento\n",
    "# HT  representa  Hiperparameter Tuning\n",
    "dir.create( \"./exp/\",  showWarnings = FALSE ) \n",
    "dir.create( \"./exp/KA3310/\", showWarnings = FALSE )\n",
    "archivo_salida  <- \"./exp/KA3310/KA3310_001.csv\"\n"
   ]
  },
  {
   "cell_type": "code",
   "execution_count": null,
   "metadata": {},
   "outputs": [],
   "source": [
    "\n",
    "#genero el archivo para Kaggle\n",
    "fwrite( entrega, \n",
    "        file= archivo_salida, \n",
    "        sep=\",\" )\n"
   ]
  }
 ],
 "metadata": {
  "language_info": {
   "name": "python"
  },
  "orig_nbformat": 4
 },
 "nbformat": 4,
 "nbformat_minor": 2
}

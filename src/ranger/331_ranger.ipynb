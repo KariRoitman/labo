{
 "cells": [
  {
   "cell_type": "code",
   "execution_count": 18,
   "metadata": {
    "vscode": {
     "languageId": "r"
    }
   },
   "outputs": [
    {
     "data": {
      "text/html": [
       "<table class=\"dataframe\">\n",
       "<caption>A matrix: 2 × 6 of type dbl</caption>\n",
       "<thead>\n",
       "\t<tr><th></th><th scope=col>used</th><th scope=col>(Mb)</th><th scope=col>gc trigger</th><th scope=col>(Mb)</th><th scope=col>max used</th><th scope=col>(Mb)</th></tr>\n",
       "</thead>\n",
       "<tbody>\n",
       "\t<tr><th scope=row>Ncells</th><td>1938542</td><td>103.6</td><td>  3784101</td><td>202.1</td><td>  3398961</td><td> 181.6</td></tr>\n",
       "\t<tr><th scope=row>Vcells</th><td>3447519</td><td> 26.4</td><td>112389223</td><td>857.5</td><td>170632535</td><td>1301.9</td></tr>\n",
       "</tbody>\n",
       "</table>\n"
      ],
      "text/latex": [
       "A matrix: 2 × 6 of type dbl\n",
       "\\begin{tabular}{r|llllll}\n",
       "  & used & (Mb) & gc trigger & (Mb) & max used & (Mb)\\\\\n",
       "\\hline\n",
       "\tNcells & 1938542 & 103.6 &   3784101 & 202.1 &   3398961 &  181.6\\\\\n",
       "\tVcells & 3447519 &  26.4 & 112389223 & 857.5 & 170632535 & 1301.9\\\\\n",
       "\\end{tabular}\n"
      ],
      "text/markdown": [
       "\n",
       "A matrix: 2 × 6 of type dbl\n",
       "\n",
       "| <!--/--> | used | (Mb) | gc trigger | (Mb) | max used | (Mb) |\n",
       "|---|---|---|---|---|---|---|\n",
       "| Ncells | 1938542 | 103.6 |   3784101 | 202.1 |   3398961 |  181.6 |\n",
       "| Vcells | 3447519 |  26.4 | 112389223 | 857.5 | 170632535 | 1301.9 |\n",
       "\n"
      ],
      "text/plain": [
       "       used    (Mb)  gc trigger (Mb)  max used  (Mb)  \n",
       "Ncells 1938542 103.6   3784101  202.1   3398961  181.6\n",
       "Vcells 3447519  26.4 112389223  857.5 170632535 1301.9"
      ]
     },
     "metadata": {},
     "output_type": "display_data"
    },
    {
     "name": "stderr",
     "output_type": "stream",
     "text": [
      "Warning message:\n",
      "\"package 'ranger' is in use and will not be installed\"\n"
     ]
    }
   ],
   "source": [
    "#Se utiliza el algoritmo Random Forest, creado por Leo Breiman en el año 2001\n",
    "#Una libreria que implementa Rando Forest se llama  ranger\n",
    "#La libreria esta implementada en lenguaje C y corre en paralelo, utiliza TODOS los nucleos del procesador\n",
    "#Leo Breiman provenia de la estadistica y tenia \"horror a los nulos\", con lo cual el algoritmo necesita imputar nulos antes\n",
    "\n",
    "#Este script esta pensado para correr en la PC local\n",
    "\n",
    "#limpio la memoria\n",
    "rm( list=ls() )  #Borro todos los objetos\n",
    "gc()   #Garbage Collection\n",
    "install.packages(\"ranger\")\n",
    "require(\"data.table\")\n",
    "require(\"ranger\")\n",
    "require(\"randomForest\")  #solo se usa para imputar nulos\n"
   ]
  },
  {
   "cell_type": "code",
   "execution_count": 19,
   "metadata": {
    "vscode": {
     "languageId": "r"
    }
   },
   "outputs": [],
   "source": [
    "\n",
    "#Aqui se debe poner la carpeta de la computadora local\n",
    "setwd(\"C:/Users/karin/Desktop/MCD/LI1/repositorio/labo/src\")  #Establezco el Working Directory\n",
    "\n",
    "#cargo los datos donde entreno\n",
    "dataset  <- fread(\"./datasets/dataset_pequeno.csv\", stringsAsFactors= TRUE)\n",
    "\n",
    "#imputo los nulos, ya que ranger no acepta nulos\n",
    "#Leo Breiman, ¿por que le temias a los nulos?\n",
    "dataset  <- na.roughfix( dataset )\n",
    "\n",
    "dtrain  <- dataset[ foto_mes == 202107 ]\n",
    "dapply  <- dataset[ foto_mes == 202109 ]\n",
    "\n"
   ]
  },
  {
   "cell_type": "code",
   "execution_count": 21,
   "metadata": {
    "vscode": {
     "languageId": "r"
    }
   },
   "outputs": [
    {
     "name": "stderr",
     "output_type": "stream",
     "text": [
      "Warning message:\n",
      "\"Dropped unused factor level(s) in dependent variable: .\"\n"
     ]
    },
    {
     "name": "stdout",
     "output_type": "stream",
     "text": [
      "Growing trees.. Progress: 27%. Estimated remaining time: 1 minute, 22 seconds.\n",
      "Growing trees.. Progress: 59%. Estimated remaining time: 43 seconds.\n",
      "Growing trees.. Progress: 91%. Estimated remaining time: 9 seconds.\n"
     ]
    }
   ],
   "source": [
    "\n",
    "#genero el modelo de Random Forest con la libreria ranger\n",
    "#notar como la suma de muchos arboles contrarresta el efecto de min.node.size=1\n",
    "param  <- list( \"num.trees\"=       150,  #cantidad de arboles\n",
    "                \"mtry\"=             50,  #cantidad de variables que evalua para hacer un split  sqrt(ncol(dtrain))\n",
    "                \"min.node.size\"=  1000,  #tamaño minimo de las hojas\n",
    "                \"max.depth\"=        10   # 0 significa profundidad infinita\n",
    "              )\n",
    "\n",
    "set.seed(201107) #Establezco la semilla aleatoria\n",
    "\n",
    "setorder( dtrain, clase_ternaria )  #primero quedan los BAJA+1, BAJA+2, CONTINUA\n",
    "\n",
    "\n",
    "#genero el modelo de Random Forest llamando a ranger()\n",
    "modelo  <- ranger( formula= \"clase_ternaria ~ .\",\n",
    "                   data=  dtrain, \n",
    "                   probability=   TRUE,  #para que devuelva las probabilidades\n",
    "                   num.trees=     param$num.trees,\n",
    "                   mtry=          param$mtry,\n",
    "                   min.node.size= param$min.node.size,\n",
    "                   max.depth=     param$max.depth,\n",
    "                   class.weights= c(0, 1, 40, 1)  #servira cambiar los pesos ?\n",
    "                 )\n",
    "\n"
   ]
  },
  {
   "cell_type": "code",
   "execution_count": 24,
   "metadata": {
    "vscode": {
     "languageId": "r"
    }
   },
   "outputs": [
    {
     "data": {
      "text/plain": [
       "\n",
       "           BAJA+1   BAJA+2 CONTINUA \n",
       "  165237     1078     1268   162336 "
      ]
     },
     "metadata": {},
     "output_type": "display_data"
    }
   ],
   "source": [
    "table(dataset$clase_ternaria)"
   ]
  },
  {
   "cell_type": "code",
   "execution_count": 22,
   "metadata": {
    "vscode": {
     "languageId": "r"
    }
   },
   "outputs": [],
   "source": [
    "\n",
    "#aplico el modelo recien creado a los datos del futuro\n",
    "prediccion  <- predict( modelo, dapply )\n",
    "\n",
    "#Genero la entrega para Kaggle\n",
    "entrega  <- as.data.table( list( \"numero_de_cliente\"= dapply[  , numero_de_cliente],\n",
    "                                 \"Predicted\"= as.numeric(prediccion$predictions[ ,\"BAJA+2\" ] > 1/40) ) ) #genero la salida\n",
    "\n",
    "#creo la carpeta donde va el experimento\n",
    "# HT  representa  Hiperparameter Tuning\n",
    "dir.create( \"./exp/\",  showWarnings = FALSE ) \n",
    "dir.create( \"./exp/KA3310/\", showWarnings = FALSE )\n",
    "archivo_salida  <- \"./exp/KA3310/KA3310_001.csv\"\n"
   ]
  },
  {
   "cell_type": "code",
   "execution_count": 23,
   "metadata": {
    "vscode": {
     "languageId": "r"
    }
   },
   "outputs": [],
   "source": [
    "\n",
    "#genero el archivo para Kaggle\n",
    "fwrite( entrega, \n",
    "        file= archivo_salida, \n",
    "        sep=\",\" )\n"
   ]
  }
 ],
 "metadata": {
  "kernelspec": {
   "display_name": "R",
   "language": "R",
   "name": "ir"
  },
  "language_info": {
   "codemirror_mode": "r",
   "file_extension": ".r",
   "mimetype": "text/x-r-source",
   "name": "R",
   "pygments_lexer": "r",
   "version": "4.2.3"
  },
  "orig_nbformat": 4
 },
 "nbformat": 4,
 "nbformat_minor": 2
}

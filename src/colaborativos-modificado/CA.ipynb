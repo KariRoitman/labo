{
 "cells": [
  {
   "cell_type": "code",
   "execution_count": 25,
   "metadata": {
    "vscode": {
     "languageId": "r"
    }
   },
   "outputs": [
    {
     "data": {
      "text/html": [
       "<table class=\"dataframe\">\n",
       "<caption>A matrix: 2 × 6 of type dbl</caption>\n",
       "<thead>\n",
       "\t<tr><th></th><th scope=col>used</th><th scope=col>(Mb)</th><th scope=col>gc trigger</th><th scope=col>(Mb)</th><th scope=col>max used</th><th scope=col>(Mb)</th></tr>\n",
       "</thead>\n",
       "<tbody>\n",
       "\t<tr><th scope=row>Ncells</th><td> 689102</td><td>36.9</td><td> 1321371</td><td> 70.6</td><td> 1321371</td><td> 70.6</td></tr>\n",
       "\t<tr><th scope=row>Vcells</th><td>1266675</td><td> 9.7</td><td>45956931</td><td>350.7</td><td>71799913</td><td>547.8</td></tr>\n",
       "</tbody>\n",
       "</table>\n"
      ],
      "text/latex": [
       "A matrix: 2 × 6 of type dbl\n",
       "\\begin{tabular}{r|llllll}\n",
       "  & used & (Mb) & gc trigger & (Mb) & max used & (Mb)\\\\\n",
       "\\hline\n",
       "\tNcells &  689102 & 36.9 &  1321371 &  70.6 &  1321371 &  70.6\\\\\n",
       "\tVcells & 1266675 &  9.7 & 45956931 & 350.7 & 71799913 & 547.8\\\\\n",
       "\\end{tabular}\n"
      ],
      "text/markdown": [
       "\n",
       "A matrix: 2 × 6 of type dbl\n",
       "\n",
       "| <!--/--> | used | (Mb) | gc trigger | (Mb) | max used | (Mb) |\n",
       "|---|---|---|---|---|---|---|\n",
       "| Ncells |  689102 | 36.9 |  1321371 |  70.6 |  1321371 |  70.6 |\n",
       "| Vcells | 1266675 |  9.7 | 45956931 | 350.7 | 71799913 | 547.8 |\n",
       "\n"
      ],
      "text/plain": [
       "       used    (Mb) gc trigger (Mb)  max used (Mb) \n",
       "Ncells  689102 36.9  1321371    70.6  1321371  70.6\n",
       "Vcells 1266675  9.7 45956931   350.7 71799913 547.8"
      ]
     },
     "metadata": {},
     "output_type": "display_data"
    }
   ],
   "source": [
    "# Experimentos Colaborativos Default\n",
    "# Workflow  Catastrophe Analysis\n",
    "\n",
    "#Necesita para correr en Google Cloud\n",
    "#  32 GB de memoria RAM\n",
    "#   8 vCPU\n",
    "  #limpio la memoria\n",
    "rm( list= ls(all.names= TRUE) )  #remove all objects\n",
    "gc( full= TRUE )                 #garbage collection\n"
   ]
  },
  {
   "cell_type": "code",
   "execution_count": 26,
   "metadata": {
    "vscode": {
     "languageId": "r"
    }
   },
   "outputs": [],
   "source": [
    "\n",
    "require(\"data.table\")\n",
    "require(\"yaml\")\n"
   ]
  },
  {
   "cell_type": "code",
   "execution_count": 27,
   "metadata": {
    "vscode": {
     "languageId": "r"
    }
   },
   "outputs": [],
   "source": [
    "\n",
    "#Parametros del script\n",
    "PARAM  <- list()\n",
    "PARAM$experimento  <- \"CA6110\"\n",
    "PARAM$dataset  <- \"./datasets/dataset_pequeno.csv\"\n",
    "\n",
    "PARAM$metodo  <- \"MachineLearning\"     #valores posibles  \"MachineLearning\"  \"EstadisticaClasica\" \"Ninguno\"\n",
    "# FIN Parametros del script\n",
    "\n"
   ]
  },
  {
   "cell_type": "code",
   "execution_count": 28,
   "metadata": {
    "vscode": {
     "languageId": "r"
    }
   },
   "outputs": [],
   "source": [
    "\n",
    "#------------------------------------------------------------------------------\n",
    "\n",
    "options(error = function() { \n",
    "  traceback(20); \n",
    "  options(error = NULL); \n",
    "  stop(\"exiting after script error\") \n",
    "})\n",
    "\n",
    "#------------------------------------------------------------------------------\n"
   ]
  },
  {
   "cell_type": "code",
   "execution_count": 29,
   "metadata": {
    "vscode": {
     "languageId": "r"
    }
   },
   "outputs": [],
   "source": [
    "\n",
    "CorregirCampoMes  <- function( pcampo, pmeses )\n",
    "{\n",
    "  tbl <- dataset[  ,  list( \"v1\" = shift( get(pcampo), 1, type=\"lag\" ),\n",
    "                            \"v2\" = shift( get(pcampo), 1, type=\"lead\" )\n",
    "                         ), \n",
    "                   by=numero_de_cliente ]\n",
    "  \n",
    "  tbl[ , numero_de_cliente := NULL ]\n",
    "  tbl[ , promedio := rowMeans( tbl,  na.rm=TRUE ) ]\n",
    "  \n",
    "  dataset[ ,\n",
    "           paste0(pcampo) := ifelse( !(foto_mes %in% pmeses),\n",
    "                                     get( pcampo),\n",
    "                                     tbl$promedio ) ]\n",
    "}\n",
    "#------------------------------------------------------------------------------\n"
   ]
  },
  {
   "cell_type": "code",
   "execution_count": 30,
   "metadata": {
    "vscode": {
     "languageId": "r"
    }
   },
   "outputs": [],
   "source": [
    "# reemplaza cada variable ROTA  (variable, foto_mes)  con el promedio entre  ( mes_anterior, mes_posterior )\n",
    "\n",
    "Corregir_EstadisticaClasica  <- function( dataset )\n",
    "{\n",
    "  CorregirCampoMes( \"thomebanking\", c(201801,202006) )\n",
    "  CorregirCampoMes( \"chomebanking_transacciones\", c(201801, 201910, 202006) )\n",
    "  CorregirCampoMes( \"tcallcenter\", c(201801, 201806, 202006) )\n",
    "  CorregirCampoMes( \"ccallcenter_transacciones\", c(201801, 201806, 202006) )\n",
    "  CorregirCampoMes( \"cprestamos_personales\", c(201801,202006) )\n",
    "  CorregirCampoMes( \"mprestamos_personales\", c(201801,202006) )\n",
    "  CorregirCampoMes( \"mprestamos_hipotecarios\", c(201801,202006) )\n",
    "  CorregirCampoMes( \"ccajas_transacciones\", c(201801,202006) )\n",
    "  CorregirCampoMes( \"ccajas_consultas\", c(201801,202006) )\n",
    "  CorregirCampoMes( \"ccajas_depositos\", c(201801,202006) )\n",
    "  CorregirCampoMes( \"ccajas_extracciones\", c(201801,202006) )\n",
    "  CorregirCampoMes( \"ccajas_otras\", c(201801,202006) )\n",
    "\n",
    "  CorregirCampoMes( \"ctarjeta_visa_debitos_automaticos\", c(201904) )\n",
    "  CorregirCampoMes( \"mttarjeta_visa_debitos_automaticos\", c(201904,201905) )\n",
    "  CorregirCampoMes( \"Visa_mfinanciacion_limite\", c(201904) )\n",
    "\n",
    "  CorregirCampoMes( \"mrentabilidad\", c(201905, 201910, 202006) )\n",
    "  CorregirCampoMes( \"mrentabilidad_annual\", c(201905, 201910, 202006) )\n",
    "  CorregirCampoMes( \"mcomisiones\", c(201905, 201910, 202006) )\n",
    "  CorregirCampoMes( \"mpasivos_margen\", c(201905, 201910, 202006) )\n",
    "  CorregirCampoMes( \"mactivos_margen\", c(201905, 201910, 202006) )\n",
    "  CorregirCampoMes( \"ccomisiones_otras\", c(201905, 201910, 202006) )\n",
    "  CorregirCampoMes( \"mcomisiones_otras\", c(201905, 201910, 202006) )\n",
    "\n",
    "  CorregirCampoMes( \"ctarjeta_visa_descuentos\", c(201910) )\n",
    "  CorregirCampoMes( \"ctarjeta_master_descuentos\", c(201910) )\n",
    "  CorregirCampoMes( \"mtarjeta_visa_descuentos\", c(201910) )\n",
    "  CorregirCampoMes( \"mtarjeta_master_descuentos\", c(201910) )\n",
    "  CorregirCampoMes( \"ccajeros_propios_descuentos\", c(201910) )\n",
    "  CorregirCampoMes( \"mcajeros_propios_descuentos\", c(201910) )\n",
    "\n",
    "  CorregirCampoMes( \"cliente_vip\", c(201911) )\n",
    "\n",
    "  CorregirCampoMes( \"active_quarter\", c(202006) )\n",
    "  CorregirCampoMes( \"mcuentas_saldo\", c(202006) )\n",
    "  CorregirCampoMes( \"ctarjeta_debito_transacciones\", c(202006) )\n",
    "  CorregirCampoMes( \"mautoservicio\", c(202006) )\n",
    "  CorregirCampoMes( \"ctarjeta_visa_transacciones\", c(202006) )\n",
    "  CorregirCampoMes( \"ctarjeta_visa_transacciones\", c(202006) )\n",
    "  CorregirCampoMes( \"cextraccion_autoservicio\", c(202006) )\n",
    "  CorregirCampoMes( \"mextraccion_autoservicio\", c(202006) )\n",
    "  CorregirCampoMes( \"ccheques_depositados\", c(202006) )\n",
    "  CorregirCampoMes( \"mcheques_depositados\", c(202006) )\n",
    "  CorregirCampoMes( \"mcheques_emitidos\", c(202006) )\n",
    "  CorregirCampoMes( \"mcheques_emitidos\", c(202006) )\n",
    "  CorregirCampoMes( \"ccheques_depositados_rechazados\", c(202006) )\n",
    "  CorregirCampoMes( \"mcheques_depositados_rechazados\", c(202006) )\n",
    "  CorregirCampoMes( \"ccheques_emitidos_rechazados\", c(202006) )\n",
    "  CorregirCampoMes( \"mcheques_emitidos_rechazados\", c(202006) )\n",
    "  CorregirCampoMes( \"catm_trx\", c(202006) )\n",
    "  CorregirCampoMes( \"matm\", c(202006) )\n",
    "  CorregirCampoMes( \"catm_trx_other\", c(202006) )\n",
    "  CorregirCampoMes( \"matm_other\", c(202006) )\n",
    "  CorregirCampoMes( \"cmobile_app_trx\", c(202006) )\n",
    "\n",
    "}\n",
    "#------------------------------------------------------------------------------\n"
   ]
  },
  {
   "cell_type": "code",
   "execution_count": 31,
   "metadata": {
    "vscode": {
     "languageId": "r"
    }
   },
   "outputs": [],
   "source": [
    "\n",
    "Corregir_MachineLearning  <- function( dataset )\n",
    "{\n",
    "  gc()\n",
    "  #acomodo los errores del dataset\n",
    "\n",
    "  dataset[ foto_mes==201901,  ctransferencias_recibidas  := NA ]\n",
    "  dataset[ foto_mes==201901,  mtransferencias_recibidas  := NA ]\n",
    "\n",
    "  dataset[ foto_mes==201902,  ctransferencias_recibidas  := NA ]\n",
    "  dataset[ foto_mes==201902,  mtransferencias_recibidas  := NA ]\n",
    "\n",
    "  dataset[ foto_mes==201903,  ctransferencias_recibidas  := NA ]\n",
    "  dataset[ foto_mes==201903,  mtransferencias_recibidas  := NA ]\n",
    "\n",
    "  dataset[ foto_mes==201904,  ctransferencias_recibidas  := NA ]\n",
    "  dataset[ foto_mes==201904,  mtransferencias_recibidas  := NA ]\n",
    "  dataset[ foto_mes==201904,  ctarjeta_visa_debitos_automaticos  :=  NA ]\n",
    "  dataset[ foto_mes==201904,  mttarjeta_visa_debitos_automaticos := NA ]\n",
    "  dataset[ foto_mes==201904,  Visa_mfinanciacion_limite := NA ]\n",
    "\n",
    "  dataset[ foto_mes==201905,  ctransferencias_recibidas  := NA ]\n",
    "  dataset[ foto_mes==201905,  mtransferencias_recibidas  := NA ]\n",
    "  dataset[ foto_mes==201905,  mrentabilidad     := NA ]\n",
    "  dataset[ foto_mes==201905,  mrentabilidad_annual     := NA ]\n",
    "  dataset[ foto_mes==201905,  mcomisiones      := NA ]\n",
    "  dataset[ foto_mes==201905,  mpasivos_margen  := NA ]\n",
    "  dataset[ foto_mes==201905,  mactivos_margen  := NA ]\n",
    "  dataset[ foto_mes==201905,  ctarjeta_visa_debitos_automaticos  := NA ]\n",
    "  dataset[ foto_mes==201905,  ccomisiones_otras := NA ]\n",
    "  dataset[ foto_mes==201905,  mcomisiones_otras := NA ]\n",
    "\n",
    "  dataset[ foto_mes==201910,  mpasivos_margen   := NA ]\n",
    "  dataset[ foto_mes==201910,  mactivos_margen   := NA ]\n",
    "  dataset[ foto_mes==201910,  ccomisiones_otras := NA ]\n",
    "  dataset[ foto_mes==201910,  mcomisiones_otras := NA ]\n",
    "  dataset[ foto_mes==201910,  mcomisiones       := NA ]\n",
    "  dataset[ foto_mes==201910,  mrentabilidad     := NA ]\n",
    "  dataset[ foto_mes==201910,  mrentabilidad_annual        := NA ]\n",
    "  dataset[ foto_mes==201910,  chomebanking_transacciones  := NA ]\n",
    "  dataset[ foto_mes==201910,  ctarjeta_visa_descuentos    := NA ]\n",
    "  dataset[ foto_mes==201910,  ctarjeta_master_descuentos  := NA ]\n",
    "  dataset[ foto_mes==201910,  mtarjeta_visa_descuentos    := NA ]\n",
    "  dataset[ foto_mes==201910,  mtarjeta_master_descuentos  := NA ]\n",
    "  dataset[ foto_mes==201910,  ccajeros_propios_descuentos := NA ]\n",
    "  dataset[ foto_mes==201910,  mcajeros_propios_descuentos := NA ]\n",
    "\n",
    "  dataset[ foto_mes==202001,  cliente_vip   := NA ]\n",
    "\n",
    "  dataset[ foto_mes==202006,  active_quarter   := NA ]\n",
    "  dataset[ foto_mes==202006,  mrentabilidad   := NA ]\n",
    "  dataset[ foto_mes==202006,  mrentabilidad_annual   := NA ]\n",
    "  dataset[ foto_mes==202006,  mcomisiones   := NA ]\n",
    "  dataset[ foto_mes==202006,  mactivos_margen   := NA ]\n",
    "  dataset[ foto_mes==202006,  mpasivos_margen   := NA ]\n",
    "  dataset[ foto_mes==202006,  mcuentas_saldo   := NA ]\n",
    "  dataset[ foto_mes==202006,  ctarjeta_debito_transacciones  := NA ]\n",
    "  dataset[ foto_mes==202006,  mautoservicio   := NA ]\n",
    "  dataset[ foto_mes==202006,  ctarjeta_visa_transacciones   := NA ]\n",
    "  dataset[ foto_mes==202006,  mtarjeta_visa_consumo   := NA ]\n",
    "  dataset[ foto_mes==202006,  ctarjeta_master_transacciones  := NA ]\n",
    "  dataset[ foto_mes==202006,  mtarjeta_master_consumo   := NA ]\n",
    "  dataset[ foto_mes==202006,  ccomisiones_otras   := NA ]\n",
    "  dataset[ foto_mes==202006,  mcomisiones_otras   := NA ]\n",
    "  dataset[ foto_mes==202006,  cextraccion_autoservicio   := NA ]\n",
    "  dataset[ foto_mes==202006,  mextraccion_autoservicio   := NA ]\n",
    "  dataset[ foto_mes==202006,  ccheques_depositados   := NA ]\n",
    "  dataset[ foto_mes==202006,  mcheques_depositados   := NA ]\n",
    "  dataset[ foto_mes==202006,  ccheques_emitidos   := NA ]\n",
    "  dataset[ foto_mes==202006,  mcheques_emitidos   := NA ]\n",
    "  dataset[ foto_mes==202006,  ccheques_depositados_rechazados   := NA ]\n",
    "  dataset[ foto_mes==202006,  mcheques_depositados_rechazados   := NA ]\n",
    "  dataset[ foto_mes==202006,  ccheques_emitidos_rechazados   := NA ]\n",
    "  dataset[ foto_mes==202006,  mcheques_emitidos_rechazados   := NA ]\n",
    "  dataset[ foto_mes==202006,  tcallcenter   := NA ]\n",
    "  dataset[ foto_mes==202006,  ccallcenter_transacciones   := NA ]\n",
    "  dataset[ foto_mes==202006,  thomebanking   := NA ]\n",
    "  dataset[ foto_mes==202006,  chomebanking_transacciones   := NA ]\n",
    "  dataset[ foto_mes==202006,  ccajas_transacciones   := NA ]\n",
    "  dataset[ foto_mes==202006,  ccajas_consultas   := NA ]\n",
    "  dataset[ foto_mes==202006,  ccajas_depositos   := NA ]\n",
    "  dataset[ foto_mes==202006,  ccajas_extracciones   := NA ]\n",
    "  dataset[ foto_mes==202006,  ccajas_otras   := NA ]\n",
    "  dataset[ foto_mes==202006,  catm_trx   := NA ]\n",
    "  dataset[ foto_mes==202006,  matm   := NA ]\n",
    "  dataset[ foto_mes==202006,  catm_trx_other   := NA ]\n",
    "  dataset[ foto_mes==202006,  matm_other   := NA ]\n",
    "  dataset[ foto_mes==202006,  ctrx_quarter   := NA ]\n",
    "  dataset[ foto_mes==202006,  cmobile_app_trx   := NA ]\n",
    "\n",
    "}\n",
    "#------------------------------------------------------------------------------\n"
   ]
  },
  {
   "cell_type": "code",
   "execution_count": 32,
   "metadata": {
    "vscode": {
     "languageId": "r"
    }
   },
   "outputs": [],
   "source": [
    "#------------------------------------------------------------------------------\n",
    "#Aqui empieza el programa\n",
    "PARAM$stat$time_start  <- format(Sys.time(), \"%Y%m%d %H%M%S\")\n"
   ]
  },
  {
   "cell_type": "code",
   "execution_count": 33,
   "metadata": {
    "vscode": {
     "languageId": "r"
    }
   },
   "outputs": [],
   "source": [
    "\n",
    "setwd(\"C:/Users/ccarl/Documents/labo2023v/src\")   #Establezco el Working Directory\n",
    "#cargo los datos\n",
    "dataset  <- fread(\"./datasets/dataset_pequeno.csv\")\n",
    "\n"
   ]
  },
  {
   "cell_type": "code",
   "execution_count": 34,
   "metadata": {
    "vscode": {
     "languageId": "r"
    }
   },
   "outputs": [],
   "source": [
    "\n",
    "#tmobile_app se daño a partir de 202010\n",
    "dataset[  , tmobile_app := NULL ]\n",
    "\n"
   ]
  },
  {
   "cell_type": "code",
   "execution_count": 35,
   "metadata": {
    "vscode": {
     "languageId": "r"
    }
   },
   "outputs": [],
   "source": [
    "\n",
    "#creo la carpeta donde va el experimento\n",
    "dir.create( paste0( \"./exp/\", PARAM$experimento, \"/\"), showWarnings = FALSE )\n",
    "setwd(paste0( \"./exp/\", PARAM$experimento, \"/\"))   #Establezco el Working Directory DEL EXPERIMENTO\n",
    "\n",
    "write_yaml( PARAM, file= \"parametros.yml\" )   #escribo parametros utilizados\n",
    "\n",
    "setorder( dataset, numero_de_cliente, foto_mes )\n"
   ]
  },
  {
   "cell_type": "code",
   "execution_count": 36,
   "metadata": {
    "vscode": {
     "languageId": "r"
    }
   },
   "outputs": [],
   "source": [
    "\n",
    "#corrijo los  < foto_mes, campo >  que fueron pisados con cero\n",
    "switch( \n",
    "PARAM$metodo,\n",
    "  \"MachineLearning\"     = Corregir_MachineLearning( dataset ),\n",
    "  \"EstadisticaClasica\"  = Corregir_EstadisticaClasica( dataset ),\n",
    "  \"Ninguno\"             = cat(\"No se aplica ninguna correccion.\\n\"),\n",
    ")\n",
    "\n"
   ]
  },
  {
   "cell_type": "code",
   "execution_count": 37,
   "metadata": {
    "vscode": {
     "languageId": "r"
    }
   },
   "outputs": [],
   "source": [
    "\n",
    "#------------------------------------------------------------------------------\n",
    "#grabo el dataset\n",
    "fwrite( dataset,\n",
    "        file=  \"dataset.csv.gz\",\n",
    "        logical01= TRUE,\n",
    "        sep= \",\" )\n"
   ]
  },
  {
   "cell_type": "code",
   "execution_count": 38,
   "metadata": {
    "vscode": {
     "languageId": "r"
    }
   },
   "outputs": [],
   "source": [
    "\n",
    "#------------------------------------------------------------------------------\n",
    "PARAM$stat$time_end  <- format(Sys.time(), \"%Y%m%d %H%M%S\")\n",
    "write_yaml( PARAM, file= \"parametros.yml\" )   #escribo parametros utilizados\n",
    "\n",
    "#dejo la marca final\n",
    "cat( format(Sys.time(), \"%Y%m%d %H%M%S\"),\"\\n\",\n",
    "     file= \"zRend.txt\",\n",
    "     append= TRUE  )\n"
   ]
  }
 ],
 "metadata": {
  "kernelspec": {
   "display_name": "R",
   "language": "R",
   "name": "ir"
  },
  "language_info": {
   "codemirror_mode": "r",
   "file_extension": ".r",
   "mimetype": "text/x-r-source",
   "name": "R",
   "pygments_lexer": "r",
   "version": "4.2.1"
  },
  "orig_nbformat": 4
 },
 "nbformat": 4,
 "nbformat_minor": 2
}
